{
 "cells": [
  {
   "cell_type": "markdown",
   "id": "c3f42e12-eb4a-4da1-8e42-962960bf80d1",
   "metadata": {},
   "source": [
    "# Appendix\n",
    "\n",
    "This notebook contains information only tangentially relevant to parts of the \n",
    "assignment, but may be useful anyways.\n",
    "\n",
    "## Runtimes\n",
    "\n",
    "### TFIM simulations\n",
    "\n",
    "I was able to run simulations of up to size $L=20$ before my sparse matrix\n",
    "builder collapsed the kernel while converting lists of matrix elements in COO\n",
    "format to the CSR representation.\n",
    "As Brenden suggested, it would faster and less problematic to do this in Fortran\n",
    "and save the sparse matrix in an intermediate step as a HDF5 dataset before\n",
    "loading it into numpy, but then if all we cared about was performance we would\n",
    "just write everything in Fortran.\n",
    "\n",
    "Here are some summary statistics of the runtimes at various systems sizes,\n",
    "averaged over the different boundary conditions and values of the parameter $h$."
   ]
  },
  {
   "cell_type": "code",
   "execution_count": null,
   "id": "f1e20ffc-74d1-4015-b366-e90b9753ebda",
   "metadata": {},
   "outputs": [],
   "source": [
    "import numpy as np\n",
    "from scipy.stats import linregress\n",
    "import matplotlib.pyplot as plt\n",
    "%matplotlib inline\n",
    "\n",
    "from ph121c_lxvm import tfim, data"
   ]
  },
  {
   "cell_type": "code",
   "execution_count": null,
   "id": "793e3498-75e4-4159-9240-7291f40b0135",
   "metadata": {},
   "outputs": [],
   "source": [
    "d = data.hdf5.inquire(tfim.data.ARCHIVE)"
   ]
  },
  {
   "cell_type": "markdown",
   "id": "4cb4a215-9ffa-4b5d-a157-198360276ebc",
   "metadata": {},
   "source": [
    "#### Metadata\n",
    "This is what some of the HDF5 metadata for a job looks like:"
   ]
  },
  {
   "cell_type": "code",
   "execution_count": null,
   "id": "324f6d7a-459a-4d52-a561-d870a1f22617",
   "metadata": {},
   "outputs": [],
   "source": [
    "d[next(iter(d))]"
   ]
  },
  {
   "cell_type": "markdown",
   "id": "96bb663a-0490-4d18-873e-fe0b2bf41024",
   "metadata": {},
   "source": [
    "Here the attributes '0' and '1' refer to datasets within this job.\n",
    "In this case, '0' contains eigenvalues and '1' contains eigenvectors:\n",
    "these are just the indices of the tuple returned by the solver.\n",
    "We also know the system size, the solvers used in this job, and the time\n",
    "taken for each part of the solver to complete its task.\n",
    "The names of the jobs themselves are meaningless to people and are just\n",
    "unique hashes of the job metadata.\n",
    "\n",
    "#### Complexity\n",
    "\n",
    "In the following program, we take the metadata and plot the growth of the\n",
    "runtime average at a given system size, averaging over all other parameter\n",
    "values: open and closed boundary conditions and \n",
    "$h \\in \\{0.3, 0.5, 0.7, 0.8, 0.85, 0.9, 0.95, 1, 1.05, 1.1, 1.15, 1.2, 1.3, 1.5, 1.7\\}$."
   ]
  },
  {
   "cell_type": "code",
   "execution_count": null,
   "id": "30b29b4a-f9be-436c-898f-0f5b966b6120",
   "metadata": {},
   "outputs": [],
   "source": [
    "# wrangle data from attributes\n",
    "dset = dict()\n",
    "for k, v in d.items():\n",
    "    if str(v['L']) not in dset:\n",
    "        dset[str(v['L'])] = {\n",
    "            'solvertime' : [],\n",
    "            'opertime' : [],\n",
    "        }\n",
    "    dset[str(v['L'])]['opertime'].append(v['opertime'])\n",
    "    dset[str(v['L'])]['solvertime'].append(v['solvertime'])                         "
   ]
  },
  {
   "cell_type": "code",
   "execution_count": null,
   "id": "1a25da79-f651-4721-a5b0-71d611f822a5",
   "metadata": {},
   "outputs": [],
   "source": [
    "# Collect averages for plotting\n",
    "sizes = []\n",
    "solvertimes = []\n",
    "opertimes = []\n",
    "for L in dset:\n",
    "    sizes.append(int(L))\n",
    "    opertimes.append(np.mean(dset[L]['opertime']))\n",
    "    solvertimes.append(np.mean(dset[L]['solvertime']))"
   ]
  },
  {
   "cell_type": "code",
   "execution_count": null,
   "id": "a4662245-ae7f-460d-a09a-18ef840c3a32",
   "metadata": {},
   "outputs": [],
   "source": [
    "# Sort results by L\n",
    "for i, e in enumerate(sorted(\n",
    "    zip(sizes, solvertimes, opertimes)\n",
    ")):\n",
    "    sizes[i], solvertimes[i], opertimes[i] = e"
   ]
  },
  {
   "cell_type": "code",
   "execution_count": null,
   "id": "36125a46-b36a-4127-914c-1a9758a8269b",
   "metadata": {},
   "outputs": [],
   "source": [
    "%%capture plot\n",
    "fig, ax = plt.subplots()\n",
    "\n",
    "ax.set_title('Scaling of runtime')\n",
    "ax.set_xlabel('dim($H_L$)')\n",
    "ax.set_ylabel('Time (s)')\n",
    "\n",
    "ax.loglog([ 2 ** e for e in sizes ], solvertimes, label='solver times')\n",
    "ax.loglog([ 2 ** e for e in sizes ], opertimes, label='operator times')\n",
    "ax.legend()\n",
    "\n",
    "plt.show()"
   ]
  },
  {
   "cell_type": "markdown",
   "id": "73d83eb5-574a-4a2b-b060-c652a45c1beb",
   "metadata": {},
   "source": [
    "#### Results\n",
    "The actual runtimes plotted on logarithmic axes are:"
   ]
  },
  {
   "cell_type": "code",
   "execution_count": null,
   "id": "aa065f33-2a94-4da4-b75c-d8e5512200ae",
   "metadata": {},
   "outputs": [],
   "source": [
    "plot.show()"
   ]
  },
  {
   "cell_type": "markdown",
   "id": "0b8c57dd-6806-4a2e-b6a5-32670f7f95f9",
   "metadata": {},
   "source": [
    "Even on logarithmic axis, the runtimes of the eigenvalue solver\n",
    "`scipy.sparse.linalg.eigsh`, have positive curvature.\n",
    "This means that the complexity may exceed $\\mathcal O (2^{L^\\gamma})$ for any\n",
    "constant $\\gamma$.\n",
    "By comparison, the runtimes of the operator, the function that constructs the\n",
    "sparse matrix, are essentially linear in log-log space, suggesting that the\n",
    "complexity of the algorithm is algebraic.\n",
    "Let's estimate the slope:"
   ]
  },
  {
   "cell_type": "code",
   "execution_count": null,
   "id": "c238795f-df3c-4a28-b66b-06a521781d2c",
   "metadata": {},
   "outputs": [],
   "source": [
    "m, b, r, p, err = linregress(\n",
    "    np.log10([ 2 ** e for e in sizes ]),\n",
    "    np.log10(opertimes),\n",
    ")\n",
    "print('slope: ', m)\n",
    "print('p-val: ', p)\n",
    "print('stder: ', err)"
   ]
  },
  {
   "cell_type": "markdown",
   "id": "a310c4f6-c37e-4a62-953f-bdf01f62a36b",
   "metadata": {},
   "source": [
    "So the complexity of generating the sparse matrix is very certainly with an\n",
    "exponent of about 10% larger than linear.\n",
    "\n",
    "It's also interesting that the operator builds the sparse matrix faster than\n",
    "ARPACK can diagonalize it for $L \\in \\{6, 8\\}$, but then it is slower until\n",
    "ARPACK catches up again near $L=20$.\n",
    "\n",
    "This is not the full story behind these implementations.\n",
    "Clearly, the fact the operator causes Python to crash at $L=22$ implies\n",
    "that the memory footprint of that algorithm is unreasonable, though\n",
    "the runtimes alone do not seem to reveal this as an issue."
   ]
  },
  {
   "cell_type": "markdown",
   "id": "49a6588f-9ce3-47ab-afdc-110a7dac9826",
   "metadata": {},
   "source": [
    "### All calculations\n",
    "\n",
    "These are all the parameter values for which I have calculated wavefunctions\n",
    "and energies for 6 extremal eigenvalues.\n",
    "\n",
    "```python\n",
    "# All values obtained\n",
    "L = range(8, 21, 2)\n",
    "h = [0.3, 0.5, 0.7, 0.8, 0.85, 0.9, 0.95, 1, 1.05, 1.1, 1.15, 1.2, 1.3, 1.5, 1.7]\n",
    "bc = ['o', 'c']\n",
    "```"
   ]
  },
  {
   "cell_type": "code",
   "execution_count": null,
   "id": "667866a0-fc77-4c2e-a7d6-ec8db5efcf53",
   "metadata": {},
   "outputs": [],
   "source": [
    "results = dict()\n",
    "for k, v in d.items():\n",
    "    method = '+'.join([v['oper'], v['solver']])\n",
    "    if method not in results:\n",
    "        results[method] = {\n",
    "            'L' : [],\n",
    "            'h' : [],\n",
    "            'bc': [],\n",
    "        }\n",
    "    results[method]['L'].append(v['L'])\n",
    "    results[method]['h'].append(v['h'])\n",
    "    results[method]['bc'].append(v['bc'])"
   ]
  },
  {
   "cell_type": "code",
   "execution_count": null,
   "id": "e17e6c6e-da0b-42ae-9f1c-5d80c7d6881c",
   "metadata": {},
   "outputs": [],
   "source": []
  }
 ],
 "metadata": {
  "kernelspec": {
   "display_name": "Python 3",
   "language": "python",
   "name": "python3"
  },
  "language_info": {
   "codemirror_mode": {
    "name": "ipython",
    "version": 3
   },
   "file_extension": ".py",
   "mimetype": "text/x-python",
   "name": "python",
   "nbconvert_exporter": "python",
   "pygments_lexer": "ipython3",
   "version": "3.7.9"
  }
 },
 "nbformat": 4,
 "nbformat_minor": 5
}
