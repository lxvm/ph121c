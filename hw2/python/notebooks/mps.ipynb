{
 "cells": [
  {
   "cell_type": "markdown",
   "id": "f3886f0f-4a8c-48d0-aa4c-b9e24c6bc8ff",
   "metadata": {},
   "source": [
    "# Matrix product state representation for ground states\n",
    "\n",
    "$\n",
    "\\require{physics}\n",
    "\\def\\bm{\\boldsymbol}\n",
    "$"
   ]
  },
  {
   "cell_type": "markdown",
   "id": "2c557d62-658a-47e2-96b1-2f10e2c1b27e",
   "metadata": {},
   "source": [
    "## Introduction\n",
    "\n",
    "Clearly, God did not conceive the universe as a point because God would not be\n",
    "able to take the outer product of two points to obtain vectors.\n",
    "So in the beginning, there were at least two vectors, and God took the outer\n",
    "product to make higher order tensors, the inner product to make lower order \n",
    "tensors: these were the binary operators on tensors.\n",
    "God defined these tensors over a field and also used the transpose and inverse.\n",
    "We believe God may have saved us because God invented index notation \n",
    "so that any of this could make sense.\n",
    "Therefore tensors, their fields, their classes, their algebras, and their calculus\n",
    "is the only way that it is convenient to express the geometry of the universe.\n",
    "\n",
    "Sometimes smart people find ways to represent large tensors by smaller tensors,\n",
    "and this assignment is originated in this observation.\n",
    "The goal is to rewrite a tensor of dimension $d^L$ which describes the state\n",
    "of a qu$d$it chain of known $L$ength as a matrix product.\n",
    "We do so using the SVD and Schmidt decomposition techniques explored earlier.\n",
    "\n",
    "Other projects seem pretty useful to look into for helpful\n",
    "[resources](https://tensornetwork.org/) and\n",
    "[software](https://github.com/google/TensorNetwork).\n",
    "This is a [useful paper](https://arxiv.org/abs/1008.3477) cited in the\n",
    "assignment on the subject."
   ]
  },
  {
   "cell_type": "markdown",
   "id": "5333a3f7-5e4e-44a8-b76f-75a9bcd3aab1",
   "metadata": {},
   "source": [
    "## MPS representation\n",
    "\n",
    "One asks how you actually do this task efficiently, which comes down to knowing\n",
    "how to represent the MPS wavefunction in memory.\n",
    "Choose a positive integer value for $d$ and $L$.\n",
    "The representation is of the form\n",
    "$$\n",
    "    \\psi_{\\sigma_1, \\dots, \\sigma_L} = \n",
    "        \\sum_{\\alpha_0, \\dots, \\alpha_L}\n",
    "        \\left( \\prod_{i=0}^{L-1} A_{\\alpha_i \\alpha_{i+1}}^{\\sigma_{i+1}} \\right)\n",
    "$$\n",
    "where\n",
    "\\begin{align}\n",
    "    \\dim(\\alpha_i) \\leq \n",
    "        \\begin{cases}\n",
    "            d^i\n",
    "                &\\qq{i \\leq L/2}\n",
    "            \\\\\\\\\n",
    "            d^{L-i}\n",
    "                &\\qq{i > L/2}\n",
    "        \\end{cases}\n",
    "    .\n",
    "\\end{align}\n",
    "The form of this dimensionality is due to the way the mps representation is \n",
    "constructed: a tensor is reshaped and has its SVD taken many times,\n",
    "each new time after another reshaping and SVD.\n",
    "Essentially these dimensions are the maximal ranks of a matrix as it is reshaped\n",
    "from $(1, d^L)$ to $(d^L, 1)$ when exchanging rows to columns $d$ at a time.\n",
    "Now an approximation scheme for MPS is a map:\n",
    "\\begin{align}\n",
    "    r(i) : \\{i\\} \\to \\{1, \\dots, \\max(1, \\min(d r(i-1), \\dim(\\alpha_i))\\}\n",
    "\\end{align}\n",
    "with $r(0) = 1$\n",
    "that specifies the number of rows retained at each bond index.\n",
    "This is a finite but large function space, and of the many approximation schemes\n",
    "it often makes sense to choose a simple one, such as\n",
    "$r(i) = \\min(\\chi, \\dim(\\alpha_i))$ for constant $\\chi$."
   ]
  },
  {
   "cell_type": "markdown",
   "id": "389c31f1-d006-453c-b8f3-76279f0170d5",
   "metadata": {},
   "source": [
    "### Scaling\n",
    "\n",
    "The scaling of storage requirements as a function of the approximation scheme\n",
    "can be calculated succinctly as $d \\sum_i r(i) r(i+1)$.\n",
    "Taking $r=\\dim(\\alpha_i)$ makes for an inefficient full representation of the\n",
    "because of the $d^L$ scaling for the individual matrices.\n",
    "For what truncation ranks $r$ is MPS an efficient storage scheme?\n",
    "We will test the accuracy of the scheme later."
   ]
  },
  {
   "cell_type": "markdown",
   "id": "49c580b9-6c50-4e44-aa50-c1fd0c2122f4",
   "metadata": {
    "tags": []
   },
   "source": [
    "## Program\n",
    "\n",
    "- $d=2, r=\\chi=1$ ($r=1$ is a special case where the storage format can be optimized)\n",
    "- For $h \\in \\{ 1, 5/4 \\}$\n",
    "- Take the ground state in the open system at large L\n",
    "- Compute the MPS approximation of the wavefunction, varying the bond length $k$\n",
    "- Calculate the actual reduction in storage space (np.size)\n",
    "- Contract the indices of the tensors of MPS to obtain exponentially large\n",
    "$\\ket{\\tilde{\\psi}_{gs} (k)}$.\n",
    "- Compute the overlap $\\braket{\\tilde{\\psi}\\_{gs} (k)}{\\psi\\_{gs}}$\n",
    "\n",
    "### Efficient calculations with MPS\n",
    "\n",
    "- Use MPS to calculate\n",
    "$E(k) = \\ev{H}{\\tilde{\\psi}\\_{gs} (k)} / \\braket{\\tilde{\\psi}\\_{gs} (k)}$\n",
    "- Compute the same correlation functions as in Assignment 1 at both values of \n",
    "the order parameter and study the convergence in $k$."
   ]
  },
  {
   "cell_type": "code",
   "execution_count": null,
   "id": "559015c0-0632-42d3-b2a5-bd0dfa5c3c6c",
   "metadata": {},
   "outputs": [],
   "source": [
    "import numpy as np\n",
    "import pandas as pd\n",
    "import scipy.sparse.linalg as sla\n",
    "\n",
    "from ph121c_lxvm import basis, tfim, tests"
   ]
  },
  {
   "cell_type": "code",
   "execution_count": null,
   "id": "0ecb648d-c5b0-4ad6-a326-6049b51d43b1",
   "metadata": {},
   "outputs": [],
   "source": [
    "measurements = {\n",
    "    'k' : [],\n",
    "    'E' : [],\n",
    "    'Ek': [],\n",
    "    'ip': [],\n",
    "    'Cz': [],\n",
    "    'Mz': [],\n",
    "}\n",
    "\n",
    "for oper_params in tests.tfim.param_sweep(\n",
    "    L = [6],\n",
    "    h = [1, 1.2],\n",
    "    bc= ['o'],\n",
    "):\n",
    "    job = dict(\n",
    "        oper=tfim.z.H_sparse,\n",
    "        oper_params=oper_params,\n",
    "        solver=sla.eigsh,\n",
    "        solver_params={ \n",
    "            'k' : 6, \n",
    "            'which' : 'BE',\n",
    "        },\n",
    "    )\n",
    "    evals, evecs = tfim.data.obtain(**job)\n",
    "    \n",
    "df = pd.DataFrame()"
   ]
  },
  {
   "cell_type": "code",
   "execution_count": null,
   "id": "8057c366-d402-4994-b8f3-68123e278c65",
   "metadata": {},
   "outputs": [],
   "source": [
    "def rank (i):\n",
    "    chi = 2\n",
    "    return max(1, min(chi, basis.mps.dim_mps(i, 6, 2)))\n",
    "\n",
    "def lossless(i):\n",
    "    return basis.mps.dim_mps(i, 6, 2)"
   ]
  },
  {
   "cell_type": "code",
   "execution_count": null,
   "id": "89a1cd58-6254-413f-bcaf-e32b653461ea",
   "metadata": {},
   "outputs": [],
   "source": [
    "v = np.random.random(2 ** 6)\n",
    "v = v / np.linalg.norm(v)\n",
    "A = basis.mps.my_mps(v, lossless, 6, 2)"
   ]
  },
  {
   "cell_type": "code",
   "execution_count": null,
   "id": "5168d1da-29b5-4777-adac-cdd3334df1e3",
   "metadata": {},
   "outputs": [],
   "source": [
    "np.allclose(A.v, A.contract_bonds())"
   ]
  },
  {
   "cell_type": "code",
   "execution_count": null,
   "id": "0a632f2b-eeb8-48fc-93a6-e5aaadffdf15",
   "metadata": {},
   "outputs": [],
   "source": [
    "A.lower_rank(rank)"
   ]
  },
  {
   "cell_type": "code",
   "execution_count": null,
   "id": "5ca52c4d-1aa2-4267-ac76-83fbcd98c3fa",
   "metadata": {},
   "outputs": [],
   "source": [
    "np.inner(A.contract_bonds(), v)"
   ]
  },
  {
   "cell_type": "code",
   "execution_count": null,
   "id": "d0bf0b79-b616-4de2-9f84-5b5048e9431d",
   "metadata": {},
   "outputs": [],
   "source": [
    "np.linalg.svd(v.reshape(8, 8))"
   ]
  },
  {
   "cell_type": "markdown",
   "id": "ba18d98e-6040-4ebd-b81a-e7de881750da",
   "metadata": {},
   "source": [
    "## Results"
   ]
  },
  {
   "cell_type": "markdown",
   "id": "451c973c-a69a-4f12-9bf2-37767d53f828",
   "metadata": {},
   "source": [
    "## Discussion"
   ]
  }
 ],
 "metadata": {
  "kernelspec": {
   "display_name": "Python 3",
   "language": "python",
   "name": "python3"
  },
  "language_info": {
   "codemirror_mode": {
    "name": "ipython",
    "version": 3
   },
   "file_extension": ".py",
   "mimetype": "text/x-python",
   "name": "python",
   "nbconvert_exporter": "python",
   "pygments_lexer": "ipython3",
   "version": "3.7.9"
  }
 },
 "nbformat": 4,
 "nbformat_minor": 5
}
