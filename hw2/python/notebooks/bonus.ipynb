{
 "cells": [
  {
   "cell_type": "markdown",
   "id": "ce39473d-13dc-4bbd-bb8f-5acfc7a37ee4",
   "metadata": {},
   "source": [
    "# Bonus\n",
    "\n",
    "$\\require{physics}$\n",
    "\n",
    "## Verifying entanglement\n",
    "\n",
    "I wanted to check something about entanglement entropy in this assignment:\n",
    "are the Ising symmetry sectors of the Hamiltonian, which are uncoupled, not\n",
    "entangled?\n",
    "Since my code can handle building the Hamiltonian in the full x-basis as well\n",
    "as permutations to and from the Ising symmetry sectors, let's test it!\n",
    "\n",
    "We will find the ground state in the x basis and then sift out the system\n",
    "into a + symmetry sector and - symmetry sector, do an svd and look at the values."
   ]
  },
  {
   "cell_type": "code",
   "execution_count": null,
   "id": "e0b475ca-59ad-40fa-bc97-3222a09cf6c2",
   "metadata": {},
   "outputs": [],
   "source": [
    "import numpy as np\n",
    "import scipy.sparse.linalg as sla\n",
    "import matplotlib.pyplot as plt\n",
    "%matplotlib inline\n",
    "\n",
    "from ph121c_lxvm import basis, tfim, tests, measure"
   ]
  },
  {
   "cell_type": "code",
   "execution_count": null,
   "id": "ef22558b-268f-42c5-96ff-e9bbd02996fb",
   "metadata": {},
   "outputs": [],
   "source": [
    "for oper_params in tests.tfim.param_sweep(\n",
    "    L = [14],\n",
    "    h = [1],\n",
    "    bc= ['c'],\n",
    "    sector=['f']\n",
    "):\n",
    "    job = dict(\n",
    "        oper=tfim.x.H_sparse,\n",
    "        oper_params=oper_params,\n",
    "        solver=sla.eigsh,\n",
    "        solver_params={ \n",
    "            'k' : 6, \n",
    "            'which' : 'BE',\n",
    "        },\n",
    "    )\n",
    "    evals, evecs = tfim.data.obtain(**job)\n",
    "    "
   ]
  },
  {
   "cell_type": "code",
   "execution_count": null,
   "id": "3c1a78a2-ff27-4e71-9f61-742a5604d40e",
   "metadata": {},
   "outputs": [],
   "source": [
    "vals = basis.schmidt.values(\n",
    "    # permute the gs so the the + and - sectors are in block forms\n",
    "    evecs[basis.unitary.Ising(oper_params['L']), 0],\n",
    "    # perform matricization and svd with respect to the +/- subsystems\n",
    "    np.array([oper_params['L'] - 1]),\n",
    "    oper_params['L']\n",
    ")\n",
    "print('singular values: ', vals)\n",
    "print('entanglement entropy:', measure.entropy.entanglement(vals))"
   ]
  },
  {
   "cell_type": "markdown",
   "id": "d95c02dc-2a68-4a7a-ac97-01f358f45ad0",
   "metadata": {},
   "source": [
    "I'm rather confident that the code is correct because it passes all of my TFIM\n",
    "consistency and basis interconsistency tests.\n",
    "I might conclude that the existence of degenerate eigenspaces in the Hamiltonian\n",
    "with respect to some symmetry operator does produces no entanglement entropy\n",
    "across the disjoint subsystems."
   ]
  },
  {
   "cell_type": "markdown",
   "id": "2c0673fc-d1dd-46e5-8da2-21d062fe65ea",
   "metadata": {},
   "source": [
    "## Verifying local and nonlocal mps operators\n",
    "\n",
    "Brenden helped me test my mps code by posing the challenge of verifying the\n",
    "action of the Ising symmetry operator and of 1-point correlation functions\n",
    "in the ferromagnetic $h < 1$ and paramagnetic $h > 1$ domains.\n",
    "In both cases, the 1-point correlation operator $C^z_i = \\ev{\\sigma^z_i}$\n",
    "should vanish in expectation, \n",
    "Also, the Ising symmetry operator $U = \\prod_i \\sigma^x_i$ should yield the sign\n",
    "of the symmetry sector.\n",
    "In the following calculation, we test these ideas in the mps formalism after\n",
    "obtaining the ground states in the symmetry sectors and converting them to the\n",
    "z basis."
   ]
  },
  {
   "cell_type": "code",
   "execution_count": null,
   "id": "dbb2fbdb-556d-4ccd-8ac2-f9471bd90a33",
   "metadata": {},
   "outputs": [],
   "source": [
    "for oper_params in tests.tfim.param_sweep(\n",
    "    L = [14],\n",
    "    h = [0.3, 1.7],\n",
    "    bc= ['o'],\n",
    "    sector=['+', '-'],\n",
    "):\n",
    "    job = dict(\n",
    "        oper=tfim.x.H_sparse,\n",
    "        oper_params=oper_params,\n",
    "        solver=sla.eigsh,\n",
    "        solver_params={ \n",
    "            'k' : 6, \n",
    "            'which' : 'BE',\n",
    "        },\n",
    "    )\n",
    "    evals, evecs = tfim.data.obtain(**job)\n",
    "    gs = np.zeros(2 ** oper_params['L']) # in sector basis\n",
    "    # expand to full x basis\n",
    "    ## Insert into diagonal\n",
    "    gs[((oper_params['sector'] == '-') * 2 ** ((oper_params['L'] - 1))) + np.arange(2 ** (oper_params['L'] - 1))] = evecs[:, 0]\n",
    "    ## rotate diagonal into full\n",
    "    gs = gs[basis.unitary.Ising(oper_params['L'], inverse=True)]\n",
    "    # rotate to z basis\n",
    "    gs = basis.unitary.Hadamard(oper_params['L']) @ gs\n",
    "    # DO THE MPS\n",
    "    chi_max = 5\n",
    "    def rank (i, x=chi_max):\n",
    "        \"\"\"Define an approximation scheme given by a maximal bond length.\"\"\"\n",
    "        return max(1, min(x, basis.mps.dim_mps(i, L=oper_params['L'], d=2)))\n",
    "    A = basis.mps.my_mps(gs, rank, oper_params['L'], 2)\n",
    "    # find the expectation values of the operators\n",
    "    sx = np.array([[0, 1], [1, 0]], dtype='float64')\n",
    "    sz = np.array([[1, 0], [0, -1]], dtype='float64')\n",
    "    U  = basis.tensor.mpo(oper_params['L'])\n",
    "    for i in range(U.size):\n",
    "        U[i] = sx\n",
    "    C = np.empty(oper_params['L'], dtype='object')\n",
    "    C[0] = sz\n",
    "    print(\n",
    "        'L =', oper_params['L'],\n",
    "        ': h =', oper_params['h'],\n",
    "        ': sector =', oper_params['sector'],\n",
    "    )\n",
    "    print('1-point correlation expval:', A.expval(C) / A.inner(A))\n",
    "    print('Ising operator expval     :', A.expval(U) / A.inner(A))\n",
    "    print('')"
   ]
  },
  {
   "cell_type": "markdown",
   "id": "8d2ac8eb-075f-4ccd-8261-f3e771f7954d",
   "metadata": {},
   "source": [
    "That seems about right.\n",
    "Thank god that the implementation is working."
   ]
  },
  {
   "cell_type": "code",
   "execution_count": null,
   "id": "4f0f7363-ba1b-4655-9fe8-f97a03ac1b64",
   "metadata": {},
   "outputs": [],
   "source": []
  }
 ],
 "metadata": {
  "kernelspec": {
   "display_name": "Python 3",
   "language": "python",
   "name": "python3"
  },
  "language_info": {
   "codemirror_mode": {
    "name": "ipython",
    "version": 3
   },
   "file_extension": ".py",
   "mimetype": "text/x-python",
   "name": "python",
   "nbconvert_exporter": "python",
   "pygments_lexer": "ipython3",
   "version": "3.7.9"
  }
 },
 "nbformat": 4,
 "nbformat_minor": 5
}
