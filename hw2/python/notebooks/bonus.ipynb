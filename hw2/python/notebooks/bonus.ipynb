{
 "cells": [
  {
   "cell_type": "markdown",
   "id": "ce39473d-13dc-4bbd-bb8f-5acfc7a37ee4",
   "metadata": {},
   "source": [
    "# Bonus\n",
    "\n",
    "## Introduction\n",
    "\n",
    "I wanted to check something about entanglement entropy in this assignment:\n",
    "are the Ising symmetry sectors of the Hamiltonian, which are uncoupled, not\n",
    "entangled?\n",
    "Since my code can handle building the Hamiltonian in the full x-basis as well\n",
    "as permutations to and from the Ising symmetry sectors, let's test it!\n",
    "\n",
    "We will find the ground state in the x basis and then sift out the system\n",
    "into a + symmetry sector and - symmetry sector, do an svd and look at the values."
   ]
  },
  {
   "cell_type": "code",
   "execution_count": null,
   "id": "e0b475ca-59ad-40fa-bc97-3222a09cf6c2",
   "metadata": {},
   "outputs": [],
   "source": [
    "import numpy as np\n",
    "import scipy.sparse.linalg as sla\n",
    "import matplotlib.pyplot as plt\n",
    "%matplotlib inline\n",
    "\n",
    "from ph121c_lxvm import basis, tfim, tests, measure"
   ]
  },
  {
   "cell_type": "code",
   "execution_count": null,
   "id": "ef22558b-268f-42c5-96ff-e9bbd02996fb",
   "metadata": {},
   "outputs": [],
   "source": [
    "for oper_params in tests.tfim.param_sweep(\n",
    "    L = [14],\n",
    "    h = [1],\n",
    "    bc= ['c'],\n",
    "    sector=['f']\n",
    "):\n",
    "    job = dict(\n",
    "        oper=tfim.x.H_sparse,\n",
    "        oper_params=oper_params,\n",
    "        solver=sla.eigsh,\n",
    "        solver_params={ \n",
    "            'k' : 6, \n",
    "            'which' : 'BE',\n",
    "        },\n",
    "    )\n",
    "    evals, evecs = tfim.data.obtain(**job)\n",
    "    "
   ]
  },
  {
   "cell_type": "code",
   "execution_count": null,
   "id": "3c1a78a2-ff27-4e71-9f61-742a5604d40e",
   "metadata": {},
   "outputs": [],
   "source": [
    "vals = basis.schmidt.values(\n",
    "    # permute the gs so the the + and - sectors are in block forms\n",
    "    evecs[basis.unitary.Ising(oper_params['L']), 0],\n",
    "    # perform matricization and svd with respect to the +/- subsystems\n",
    "    np.array([oper_params['L'] - 1]),\n",
    "    oper_params['L']\n",
    ")\n",
    "print('singular values: ', vals)\n",
    "print('entanglement entropy:', measure.entropy.entanglement(vals))"
   ]
  },
  {
   "cell_type": "markdown",
   "id": "d95c02dc-2a68-4a7a-ac97-01f358f45ad0",
   "metadata": {},
   "source": [
    "I'm rather confident that the code is correct because it passes all of my TFIM\n",
    "consistency and basis interconsistency tests.\n",
    "I might conclude that the existence of degenerate eigenspaces in the Hamiltonian\n",
    "with respect to some symmetry operator does produces no entanglement entropy\n",
    "across the disjoint subsystems."
   ]
  },
  {
   "cell_type": "code",
   "execution_count": null,
   "id": "483bb8a5-6365-4a24-a4f8-bdb4398c8315",
   "metadata": {},
   "outputs": [],
   "source": []
  }
 ],
 "metadata": {
  "kernelspec": {
   "display_name": "Python 3",
   "language": "python",
   "name": "python3"
  },
  "language_info": {
   "codemirror_mode": {
    "name": "ipython",
    "version": 3
   },
   "file_extension": ".py",
   "mimetype": "text/x-python",
   "name": "python",
   "nbconvert_exporter": "python",
   "pygments_lexer": "ipython3",
   "version": "3.7.9"
  }
 },
 "nbformat": 4,
 "nbformat_minor": 5
}
