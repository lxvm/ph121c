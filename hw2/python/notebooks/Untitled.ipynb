{
 "cells": [
  {
   "cell_type": "code",
   "execution_count": null,
   "id": "0f73936e-3caa-46da-be1f-cfb8436a359a",
   "metadata": {},
   "outputs": [],
   "source": [
    "import numpy as np"
   ]
  },
  {
   "cell_type": "code",
   "execution_count": null,
   "id": "2ef751da-4c2c-436e-b917-4b216fbd32ad",
   "metadata": {},
   "outputs": [],
   "source": [
    "d = 2\n",
    "L = 10\n",
    "for i in range(L+1):\n",
    "    if i <= (L + 1) / 2:\n",
    "        print(d ** i)\n",
    "    else:\n",
    "        print(d ** (L + 1 - i))"
   ]
  },
  {
   "cell_type": "code",
   "execution_count": null,
   "id": "c0e5711a-db94-482e-be5c-489c7d2522e6",
   "metadata": {},
   "outputs": [],
   "source": [
    "def dim_mps (i, L, d=2):\n",
    "    \"\"\"Calculate the maximal rank for a \"\"\"\n",
    "    if i <= (L + 1) / 2:\n",
    "        return d ** i\n",
    "    else:\n",
    "        return d ** (L + 1 - i)\n",
    "    \n",
    "def test_valid_scheme (r, L, d=2):\n",
    "    \"\"\"Tests whether a rank function is a valid mps approximation scheme.\"\"\"\n",
    "    prev_val = 1\n",
    "    for i in range(L+1):\n",
    "        assert 1 <= r(i, L, d) <= min(d * prev_val, dim_mps(i, L, d))\n",
    "        prev_val = d * r(i, L, d)\n",
    "        \n",
    "def my_r (i, L, d=2):\n",
    "    chi = 2\n",
    "    return max(1, min(chi, dim_mps(i, L, d)))"
   ]
  },
  {
   "cell_type": "code",
   "execution_count": null,
   "id": "bb13d70d-385e-411b-b69b-0d71861bbfdd",
   "metadata": {},
   "outputs": [],
   "source": [
    "test_valid_scheme(my_r, 10, 2)"
   ]
  },
  {
   "cell_type": "code",
   "execution_count": null,
   "id": "95d7985c-bbb3-4ccb-8047-72e8711628b3",
   "metadata": {},
   "outputs": [],
   "source": [
    "np.arange(0,15).reshape((3, 5)).ravel()"
   ]
  },
  {
   "cell_type": "code",
   "execution_count": null,
   "id": "2eeb1639-1087-4a6d-bc05-5e3722107e5b",
   "metadata": {},
   "outputs": [],
   "source": [
    "np.empty(5, dtype='object')"
   ]
  },
  {
   "cell_type": "code",
   "execution_count": null,
   "id": "519131a6-1ed2-4e06-8695-838863cff294",
   "metadata": {},
   "outputs": [],
   "source": [
    "np.zeros(1).reshape((1, 1))"
   ]
  },
  {
   "cell_type": "code",
   "execution_count": null,
   "id": "7ae5d80d-db2a-40df-8021-da10737eb20e",
   "metadata": {},
   "outputs": [],
   "source": [
    "my_r(5, 5)"
   ]
  },
  {
   "cell_type": "code",
   "execution_count": null,
   "id": "6062524a-b55d-4afc-a00f-8ef59f69590e",
   "metadata": {},
   "outputs": [],
   "source": [
    "ndex = np.repeat(np.arange(d), d) \\\n",
    "        + np.repeat(np.arange(0, d*d, d).reshape(d, 1), d, axis=0).ravel()"
   ]
  },
  {
   "cell_type": "code",
   "execution_count": null,
   "id": "ad63b0ff-1ad8-453c-9c54-3e67f4809eac",
   "metadata": {},
   "outputs": [],
   "source": [
    "ndex"
   ]
  },
  {
   "cell_type": "code",
   "execution_count": null,
   "id": "e7291824-bb23-4f39-96e4-3c9d95964e3e",
   "metadata": {},
   "outputs": [],
   "source": [
    "np.repeat(np.arange(d), d) "
   ]
  },
  {
   "cell_type": "code",
   "execution_count": null,
   "id": "0946f736-c3fa-4d57-b889-d2490293fec0",
   "metadata": {},
   "outputs": [],
   "source": [
    "w = np.arange(125).reshape(5, 25)\n",
    "w.reshape((25, 125 // 25), order='F')\n",
    "ndex = np.repeat(np.arange(w.shape[0]), 5)\n",
    "ndex"
   ]
  },
  {
   "cell_type": "code",
   "execution_count": null,
   "id": "3c35acce-dea2-4480-a9f8-b9f12bd95d1e",
   "metadata": {},
   "outputs": [],
   "source": [
    "np.repeat(np.arange(0, 5*5, 5)[:, None].T, 5, axis=0).ravel()"
   ]
  },
  {
   "cell_type": "code",
   "execution_count": null,
   "id": "11e3cdb5-fb2a-47de-b13b-7040050af4f7",
   "metadata": {},
   "outputs": [],
   "source": [
    "np.vstack([ np.arange(8) for _ in range(6) ]).reshape(12, 4, order='F')"
   ]
  },
  {
   "cell_type": "code",
   "execution_count": null,
   "id": "9062658e-94a7-401f-b2de-129c315ea3fb",
   "metadata": {},
   "outputs": [],
   "source": [
    "np.hsplit"
   ]
  }
 ],
 "metadata": {
  "kernelspec": {
   "display_name": "Python 3",
   "language": "python",
   "name": "python3"
  },
  "language_info": {
   "codemirror_mode": {
    "name": "ipython",
    "version": 3
   },
   "file_extension": ".py",
   "mimetype": "text/x-python",
   "name": "python",
   "nbconvert_exporter": "python",
   "pygments_lexer": "ipython3",
   "version": "3.7.9"
  }
 },
 "nbformat": 4,
 "nbformat_minor": 5
}
