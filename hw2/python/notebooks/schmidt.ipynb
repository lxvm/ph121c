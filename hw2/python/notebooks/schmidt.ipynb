{
 "cells": [
  {
   "cell_type": "markdown",
   "id": "f03a9d4a-fe12-401b-8bc5-479bac9c14d6",
   "metadata": {},
   "source": [
    "# Truncation error of Schmidt decomposition\n",
    "\n",
    "## Introduction\n",
    "\n",
    "This time, at the ground state we are interested in open boundary conditions\n",
    "and performing the Schmidt decomposition at the middle of the chain.\n",
    "We also want to compute approximate ground states and identify the errors\n",
    "of these approximations."
   ]
  },
  {
   "cell_type": "markdown",
   "id": "af58f2ac-976c-443a-875e-e8c5dbc06124",
   "metadata": {},
   "source": [
    "## Program\n",
    "\n",
    "- Schmidt decomposition at the middle of the chain ($\\ell = L/2$)\n",
    "- Truncate the state at various ranks from 1 to $2^{L/2}$\n",
    "- For each approximation, calculate the Frobenius distance and the error in the\n",
    "ground state energy relative to the ground state energy from diagonalization"
   ]
  },
  {
   "cell_type": "code",
   "execution_count": null,
   "id": "d5686722-1878-4cfd-b8c9-a46f5dc1bec7",
   "metadata": {},
   "outputs": [],
   "source": [
    "import numpy as np\n",
    "import pandas as pd\n",
    "import scipy.sparse.linalg as sla\n",
    "import matplotlib.pyplot as plt\n",
    "%matplotlib inline\n",
    "\n",
    "from ph121c_lxvm import tfim, basis, tests"
   ]
  },
  {
   "cell_type": "code",
   "execution_count": null,
   "id": "af3a917d-bc39-4088-9347-53dff2022439",
   "metadata": {},
   "outputs": [],
   "source": [
    "%%time\n",
    "errors = {\n",
    "    'k' : [], \n",
    "    'h' : [],\n",
    "    'F' : [],\n",
    "    'E' : [],\n",
    "}\n",
    "L = 20\n",
    "l = 10\n",
    "bc = 'o'\n",
    "for oper_params in tests.tfim.param_sweep(\n",
    "    L = [L],\n",
    "    h = [0.3, 1, 1.7],\n",
    "    bc= [bc],\n",
    "):\n",
    "    job = dict(\n",
    "        oper=tfim.z.H_sparse,\n",
    "        oper_params=oper_params,\n",
    "        solver=sla.eigsh,\n",
    "        solver_params={ \n",
    "            'k' : 6, \n",
    "            'which' : 'BE',\n",
    "        },\n",
    "    )\n",
    "    evals, evecs = tfim.data.obtain(**job)\n",
    "    \n",
    "    M = basis.schmidt.matricize(evecs[:, 0], np.arange(l), L)\n",
    "    res = np.linalg.svd(M, full_matrices=False)\n",
    "    for k in range(1, 2 ** (L // 2) + 1):\n",
    "        M_rc = basis.schmidt.svd_rc(*res, k)\n",
    "        v_rc = basis.schmidt.vectorize(M_rc, list(range(l)), L)\n",
    "        errors['k'].append(k)\n",
    "        errors['h'].append(oper_params['h'])\n",
    "        errors['F'].append(np.linalg.norm(M - M_rc))\n",
    "        errors['E'].append(\n",
    "            np.inner(v_rc, tfim.z.H_vec(v_rc, **oper_params)) \n",
    "            / np.linalg.norm(v_rc) - evals[0]\n",
    "        )\n",
    "df = pd.DataFrame(errors)"
   ]
  },
  {
   "cell_type": "code",
   "execution_count": null,
   "id": "57df0cfc-e80a-41ef-a760-bb43b0b57b96",
   "metadata": {},
   "outputs": [],
   "source": [
    "storage = '../../data/reconstructions'"
   ]
  },
  {
   "cell_type": "code",
   "execution_count": null,
   "id": "b0b35dbd-3d2a-4e32-b9d8-ae86b5512ec1",
   "metadata": {},
   "outputs": [],
   "source": [
    "%%capture plot\n",
    "h = sorted(set(df.h))\n",
    "fig, ax = plt.subplots()\n",
    "for s in h:\n",
    "    ax.plot(df.F[df.h==s].values, df.E[df.h==s].values, label='$h=$'+str(s))\n",
    "ax.set_title('Truncation error of Schmidt decomposition')\n",
    "ax.set_xlabel('Frobenius distance')\n",
    "ax.set_ylabel('$E_0^k - E_0$')\n",
    "ax.legend()\n",
    "plt.show()"
   ]
  },
  {
   "cell_type": "markdown",
   "id": "3fdf90f1-ab6b-44b1-abe4-89a5ade74648",
   "metadata": {},
   "source": [
    "## Results\n",
    "\n",
    "Let's take a look at the ratio of the two error metrics:"
   ]
  },
  {
   "cell_type": "code",
   "execution_count": null,
   "id": "9ac42a06-659b-42e0-9527-58b3e92764ff",
   "metadata": {},
   "outputs": [],
   "source": [
    "plot.show()"
   ]
  },
  {
   "cell_type": "markdown",
   "id": "63bee481-6131-48cd-8ef8-59599cd3a676",
   "metadata": {},
   "source": [
    "It appears that for any $h$, the relationship between the two errors is linear.\n",
    "For larger values of $h$, the Frobenius distance grows faster than the energy\n",
    "gap in the truncation of the ground state, $\\Delta E(k) = E_0^k - E_0$."
   ]
  },
  {
   "cell_type": "markdown",
   "id": "18896d66-6cbc-4c5d-80d0-97cefa19797a",
   "metadata": {},
   "source": [
    "## Discussion\n",
    "\n",
    "Based on the plot, $\\Delta E(k) > 0$, indicating that truncations never\n",
    "attain the minimum energy of the Hamiltonian (barring some possible degeneracies).\n",
    "We might want to use this error relation to bound the approximation error\n",
    "of schemes like MPS."
   ]
  },
  {
   "cell_type": "code",
   "execution_count": null,
   "id": "7ec55be6-f3cb-4369-b374-0dd35747ae58",
   "metadata": {},
   "outputs": [],
   "source": []
  }
 ],
 "metadata": {
  "kernelspec": {
   "display_name": "Python 3",
   "language": "python",
   "name": "python3"
  },
  "language_info": {
   "codemirror_mode": {
    "name": "ipython",
    "version": 3
   },
   "file_extension": ".py",
   "mimetype": "text/x-python",
   "name": "python",
   "nbconvert_exporter": "python",
   "pygments_lexer": "ipython3",
   "version": "3.7.9"
  }
 },
 "nbformat": 4,
 "nbformat_minor": 5
}
