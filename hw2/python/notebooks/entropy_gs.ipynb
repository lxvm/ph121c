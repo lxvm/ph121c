{
 "cells": [
  {
   "cell_type": "markdown",
   "id": "6ed361d6-7005-455e-9b1f-e0c7804da038",
   "metadata": {},
   "source": [
    "# Entanglement entropy in ground states\n",
    "\n",
    "$\\require{physics}\n",
    "\\def\\bm{\\boldsymbol}$\n",
    "\n",
    "## Introduction\n",
    "\n",
    "The Shannon entropy $H$ of a random variable $p$ over states $\\{ \\alpha \\}$ is:\n",
    "\\begin{align}\n",
    "    H [p] = - \\sum_{\\alpha} p (\\alpha) \\log p (\\alpha).\n",
    "\\end{align}\n",
    "A natural generalization of this concept to a wavefunction $\\ket{\\psi}$ (also a\n",
    "probability distribution) with a singular value decomposition:\n",
    "\\begin{align}\n",
    "    \\ket{\\psi} = \\sum_{\\alpha} \\lambda_\\alpha \\ket{u_\\alpha} \\otimes \\ket{v_\\alpha}\n",
    "\\end{align}\n",
    "where $\\ket{u_\\alpha} \\otimes \\ket{v_\\alpha}$ are Schmidt vectors and \n",
    "$\\lambda_\\alpha$ are Schmidt values, is to define the entanglement entropy $S$:\n",
    "\\begin{align}\n",
    "    S[\\psi] = - \\sum_\\alpha \\lambda_\\alpha^2 \\log \\lambda_\\alpha^2.\n",
    "\\end{align}"
   ]
  },
  {
   "cell_type": "markdown",
   "id": "88173537-5d34-47be-9153-516e4ae43ea4",
   "metadata": {},
   "source": [
    "## Program\n",
    "\n",
    "### Choosing subsystems\n",
    "\n",
    "We will perform a Schmidt decomposition of a vector onto a subsystem of the \n",
    "spin chain of the TFIM model we are exploring in this class.\n",
    "I won't say anything about the theory or mathematics of this decomposition,\n",
    "since it is already explained well in the assignment, however I will mention\n",
    "that my code can compute the Schmidt decomposition onto ANY subsystem of the\n",
    "chain.\n",
    "This required some thought, because as Brenden hinted during office hours, the\n",
    "matricization operation reduces to reshaping a vector into a matrix as long as\n",
    "the subsystem being matricized is a contiguous stretch of the fastest-changing \n",
    "bits in the computational basis.\n",
    "\n",
    "The only problem in handling the arbitrary case of any subsystem is to apply\n",
    "the correct permutation to the state vector in order for the subsystem of\n",
    "importance to be in the position of fastest-changing bits.\n",
    "(The actual position of those bits depends on the array storage format,\n",
    "which numpy defaults to row-major ordering (though it can switch to columns).)\n",
    "A few permutations in cycle form later, voilá, a fully capable implementation\n",
    "is in place.\n",
    "All one needs to do is to supply a list of the bit positions as the argument\n",
    "`A` to the `basis.schmidt.matricize(L, A, v)` function, or any other function\n",
    "from that module."
   ]
  },
  {
   "cell_type": "markdown",
   "id": "15a24e37-5e83-4588-a3d4-284264e1369f",
   "metadata": {},
   "source": [
    "### Tasks\n",
    "\n",
    "- For various $L$ and representative values of $h$ at open boundary conditions\n",
    "calculate the ground state entanglement entropy for the fastest-changing\n",
    "$\\ell$ bits, with $1 \\leq \\ell \\leq L-1$.\n",
    "- Summary plot of the entanglement entropy versus $L$ at $\\ell = L/2$\n",
    "- For the largest system size, fit $S(\\ell, L)$ at $h=1$ to\n",
    "\\begin{align}\n",
    "    S(\\ell; L) =\n",
    "        \\frac{c}{3} \\log \\left( \\frac{L}{\\pi} \\sin \\frac{\\pi\\ell}{L} \\right) + C\n",
    "\\end{align}\n",
    "- Repeat the above for the highest excited state"
   ]
  },
  {
   "cell_type": "code",
   "execution_count": null,
   "id": "cfd63d1c-0316-4c20-ad11-87e8022ef96a",
   "metadata": {},
   "outputs": [],
   "source": [
    "import numpy as np\n",
    "import pandas as pd\n",
    "from scipy.stats import linregress\n",
    "import scipy.sparse.linalg as sla\n",
    "import matplotlib.pyplot as plt\n",
    "%matplotlib inline\n",
    "\n",
    "from ph121c_lxvm import models, tests, basis, measure, data"
   ]
  },
  {
   "cell_type": "code",
   "execution_count": null,
   "id": "7d74ca88-3659-428c-bdef-9b3e33e6e3f1",
   "metadata": {},
   "outputs": [],
   "source": [
    "%%time\n",
    "entropies = {\n",
    "    'L' : [],\n",
    "    'h' : [],\n",
    "    'l' : [],\n",
    "    'S' : [],\n",
    "    'k' : [],\n",
    "    'bc': [],\n",
    "}\n",
    "\n",
    "for oper_params in tests.tfim_sweep(\n",
    "    L = [8, 10, 12, 14, 16, 18, 20],\n",
    "    h = [0.3, 1, 1.7],\n",
    "    bc= ['o', 'c'],\n",
    "):\n",
    "    job = dict(\n",
    "        oper=models.tfim_z.H_sparse,\n",
    "        oper_params=oper_params,\n",
    "        solver=sla.eigsh,\n",
    "        solver_params={ \n",
    "            'k' : 6, \n",
    "            'which' : 'BE',\n",
    "        },\n",
    "    )\n",
    "    evals, evecs = data.jobs.obtain(**job)\n",
    "    gs = evecs[:, 0]\n",
    "    es = evecs[:, job['solver_params']['k'] - 1]\n",
    "    A = []\n",
    "    for l in range(oper_params['L']-1):\n",
    "        A.append(l)\n",
    "        for k, state in zip([0, job['solver_params']['k'] - 1], [gs, es]):\n",
    "            entropies['S'].append(\n",
    "                measure.entropy.entanglement(\n",
    "                    basis.schmidt.values(state, A, oper_params['L'])\n",
    "                )\n",
    "            )\n",
    "            entropies['l'].append(l)\n",
    "            entropies['L'].append(oper_params['L'])\n",
    "            entropies['h'].append(oper_params['h'])\n",
    "            entropies['k'].append(k)\n",
    "            entropies['bc'].append(oper_params['bc'])\n",
    "        \n",
    "df = pd.DataFrame(entropies)"
   ]
  },
  {
   "cell_type": "code",
   "execution_count": null,
   "id": "bd9ae784-6c5d-4a67-81b1-6d85d94c4f2e",
   "metadata": {},
   "outputs": [],
   "source": [
    "def plot_script(df, bc, k):\n",
    "    \"\"\"Make the display plots.\"\"\"\n",
    "    L = sorted(set(df.L))\n",
    "    h = sorted(set(df.h))\n",
    "    w = 2\n",
    "\n",
    "    fig_l, axes_l = plt.subplots(len(L)//w+len(L)%w, w)\n",
    "    for i, row in enumerate(axes_l):\n",
    "        for j, ax in enumerate(row):\n",
    "            if w*i + j < len(L):\n",
    "                for s in h:\n",
    "                    sub = df[(df.h==s) & (df.L==L[w*i+j]) & (df.bc==bc) & (df.k==k)]\n",
    "                    ax.plot(sub.l.values, sub.S.values, label='h='+str(s))\n",
    "                ax.set_xlabel(f'$l$ at $L={L[w*i+j]}$')\n",
    "                ax.set_ylabel('$S$')\n",
    "                handles, labels = ax.get_legend_handles_labels()\n",
    "            else:\n",
    "                ax.set_axis_off()\n",
    "                ax.legend(handles, labels, loc='center')\n",
    "    st = fig_l.suptitle('Entanglement entropies')\n",
    "    fig_l.set_size_inches(5, 6)\n",
    "    fig_l.tight_layout()\n",
    "    st.set_y(.95)\n",
    "    fig_l.subplots_adjust(top=.9)\n",
    "\n",
    "    fig_L, ax_L = plt.subplots()\n",
    "    for s in h:\n",
    "        sub = df[(df.h==s) & (df.l==df.L//2) & (df.bc==bc) & (df.k==k)]\n",
    "        ax_L.plot(sub.L.values, sub.S.values, label='h='+str(s))\n",
    "    ax_L.set_title('Entanglement entropy at half-subsystem')\n",
    "    ax_L.set_xlabel('$L$')\n",
    "    ax_L.set_ylabel('$S$')\n",
    "    ax_L.legend()\n",
    "    fig_L.set_size_inches(3, 3)\n",
    "\n",
    "    return (fig_l, fig_L)"
   ]
  },
  {
   "cell_type": "markdown",
   "id": "c87dab7f-5942-49ef-90c5-d46f2c16997a",
   "metadata": {},
   "source": [
    "## Results\n",
    "\n",
    "We are ready to show some of these calculated results.\n",
    "\n",
    "### Values"
   ]
  },
  {
   "cell_type": "code",
   "execution_count": null,
   "id": "ca573978-8f5f-487e-9083-3e79c6ba3702",
   "metadata": {},
   "outputs": [],
   "source": [
    "df.head()"
   ]
  },
  {
   "cell_type": "markdown",
   "id": "853ba8d2-c970-473e-96e8-a28e44271fa9",
   "metadata": {},
   "source": [
    "### Open system, ground state\n",
    "\n",
    "Next we will show the plots of the entanglement entropy"
   ]
  },
  {
   "cell_type": "code",
   "execution_count": null,
   "id": "5949ad62-dd7b-46f6-b504-50bc9268b7c4",
   "metadata": {},
   "outputs": [],
   "source": [
    "%%capture\n",
    "plots = plot_script(df, 'o', 0)"
   ]
  },
  {
   "cell_type": "code",
   "execution_count": null,
   "id": "c62e1156-811b-4994-b5df-37358bcfb4db",
   "metadata": {},
   "outputs": [],
   "source": [
    "plots[0]"
   ]
  },
  {
   "cell_type": "markdown",
   "id": "b3d430a4-cedf-45c7-b014-df9e881c4d27",
   "metadata": {},
   "source": [
    "The plot above shows the entanglement entropy as a function of system sizes,\n",
    "subsystem sizes, and the ordering parameter.\n",
    "In the small $h<1$ regime, the entanglement is largest and relatively constant\n",
    "with respect to the system size.\n",
    "In the large $h>1$ regime, the entropy is smallest, indicating states that\n",
    "are more classical, resembling product states.\n",
    "At the critical point, the entropy is maximized at the halfway subsystem and\n",
    "minimized at the largest, resp smallest subsystems.\n",
    "\n",
    "\n",
    "The next plot shows the summary over $L$.\n",
    "We can see that in the ferromagnetic and paramagnetic regions, the entropy is\n",
    "essentially constant with respect to the chain length.\n",
    "However at the critical point the entropy is increasing with length, because\n",
    "there are more ways to entangle more particles in a way that is possible at the\n",
    "phase transition."
   ]
  },
  {
   "cell_type": "code",
   "execution_count": null,
   "id": "d2f78df7-6836-4f1a-8520-e6da8923b2dd",
   "metadata": {},
   "outputs": [],
   "source": [
    "plots[1]"
   ]
  },
  {
   "cell_type": "markdown",
   "id": "a994cc4b-b2a3-448f-b72e-d5a875aae9b4",
   "metadata": {},
   "source": [
    "### Periodic system, ground state"
   ]
  },
  {
   "cell_type": "code",
   "execution_count": null,
   "id": "02d7fb3e-2d13-4035-bdf8-ad5dfa6120cb",
   "metadata": {},
   "outputs": [],
   "source": [
    "%%capture\n",
    "plots_c = plot_script(df, 'c', 0)"
   ]
  },
  {
   "cell_type": "code",
   "execution_count": null,
   "id": "f8200d18-d231-419b-a908-50e703a1eca8",
   "metadata": {},
   "outputs": [],
   "source": [
    "plots_c[0]"
   ]
  },
  {
   "cell_type": "markdown",
   "id": "45359be0-3db4-4282-8180-768cc88830fa",
   "metadata": {},
   "source": [
    "It is quite notable that the periodic boundary condition leads to double the\n",
    "entanglement entropy at the critical point compared to the open system.\n",
    "In this case, it is much larger because the bonds can extend the same length \n",
    "in both directions without the open boundary.\n",
    "In the ferromagnetic and paramagnetic phases, the entropy is relatively unchanged."
   ]
  },
  {
   "cell_type": "code",
   "execution_count": null,
   "id": "e7dabcac-ef7b-4ded-96ff-36493cc975b0",
   "metadata": {},
   "outputs": [],
   "source": [
    "plots_c[1]"
   ]
  },
  {
   "cell_type": "markdown",
   "id": "1c930409-71fc-4cf1-97d6-b403aeecfe9e",
   "metadata": {},
   "source": [
    "#### Critical point entropy area law\n",
    "\n",
    "Next we fit the data at $L=20$ to this function:\n",
    "\\begin{align}\n",
    "    S(\\ell; L) =\n",
    "        \\frac{c}{3} \\log \\left( \\frac{L}{\\pi} \\sin \\frac{\\pi\\ell}{L} \\right) + C\n",
    "\\end{align}\n",
    "using the natural logarithm (as does `measure.entropy.entanglement()`)."
   ]
  },
  {
   "cell_type": "code",
   "execution_count": null,
   "id": "caa05455-117b-4d00-bfaf-a820e1ae99bb",
   "metadata": {},
   "outputs": [],
   "source": [
    "sub = df[(df.h==1) & (df.L==20) & (df.bc=='c') & (df.k==0)]\n",
    "\n",
    "m, b, r, p, err = linregress(\n",
    "    np.log((20 / np.pi) * np.sin((np.pi / 20) * (sub.l.values + 1))) / 3,\n",
    "    sub.S.values,\n",
    ")\n",
    "print('slope: ', m)\n",
    "print('yintr: ', b)\n",
    "print('corrl: ', r)\n",
    "print('pvalu: ', p)\n",
    "print('stder: ', err)"
   ]
  },
  {
   "cell_type": "markdown",
   "id": "badadc6d-2f38-4a2c-aaf1-6167a0526660",
   "metadata": {},
   "source": [
    "These appear to be very significant results with log error, suggesting \n",
    "goodness of fit.\n",
    "It's worth mentioning the the slope and y intercept are about the same value and\n",
    "are highly correlated, but that might not be physically relevant."
   ]
  },
  {
   "cell_type": "markdown",
   "id": "992c0bea-8d2f-475b-9ac9-c818180651b4",
   "metadata": {},
   "source": [
    "### Open system, most excited state\n",
    "\n",
    "Let's look at the other end of the spectrum"
   ]
  },
  {
   "cell_type": "code",
   "execution_count": null,
   "id": "f646ed75-37f6-460c-9af8-5cc9becbe165",
   "metadata": {},
   "outputs": [],
   "source": [
    "%%capture\n",
    "plots_o = plot_script(df, 'o', 5)"
   ]
  },
  {
   "cell_type": "code",
   "execution_count": null,
   "id": "739ad937-4805-4831-8493-9ab6c611acd4",
   "metadata": {},
   "outputs": [],
   "source": [
    "plots_o[0]"
   ]
  },
  {
   "cell_type": "code",
   "execution_count": null,
   "id": "20b414a6-3db5-4c77-9da7-5ee1644459cb",
   "metadata": {},
   "outputs": [],
   "source": [
    "plots_o[1]"
   ]
  },
  {
   "cell_type": "markdown",
   "id": "07f6d816-35ae-44a2-8833-53d152a738a1",
   "metadata": {},
   "source": [
    "As before the values for the entropies are quite similar to the other end of the\n",
    "spectrum.\n",
    "This might be the case because the highly excited states will have most spins\n",
    "antialigned, which can be reflected in the singular value decomposition without\n",
    "adding much more information about the state - so the state looks like a ground\n",
    "state except with more and regularly spaced sign flips.\n",
    "In this open system and excited state, the area law, which says the entanglement\n",
    "entropy is constant as a function of size (in 1D with ends as boundaries), \n",
    "because this is just about as unique a state as the ground state (except for the\n",
    "antialignment) which means that one expects not much to change about the \n",
    "information content and entropy of the state."
   ]
  },
  {
   "cell_type": "markdown",
   "id": "46868339-c2d3-4d8d-a071-b2a804e67d92",
   "metadata": {},
   "source": [
    "#### Critical point entropy area law\n",
    "\n",
    "We'll do a similar fit for the highest energy state"
   ]
  },
  {
   "cell_type": "code",
   "execution_count": null,
   "id": "55f2b5ee-b80b-44ac-93a5-283d7b44e241",
   "metadata": {},
   "outputs": [],
   "source": [
    "sub = df[(df.h==1) & (df.L==20) & (df.bc=='o') & (df.k==5)]\n",
    "\n",
    "m, b, r, p, err = linregress(\n",
    "    np.log((20 / np.pi) * np.sin((np.pi / 20) * (sub.l.values + 1))) / 3,\n",
    "    sub.S.values,\n",
    ")\n",
    "print('slope: ', m)\n",
    "print('yintr: ', b)\n",
    "print('corrl: ', r)\n",
    "print('pvalu: ', p)\n",
    "print('stder: ', err)"
   ]
  },
  {
   "cell_type": "markdown",
   "id": "c704611f-88f5-4730-b80e-fbda8977851a",
   "metadata": {},
   "source": [
    "Because the boundaries are open, the slope and intercept are about half of \n",
    "what they were before, but this is quite similar to the previous case, including\n",
    "the correlation of the slope and intercept."
   ]
  },
  {
   "cell_type": "markdown",
   "id": "74496504-ab4a-459d-9bf3-6449856619c0",
   "metadata": {},
   "source": [
    "## Discussion\n",
    "\n",
    "In summary, we have seen how the physics of subsystems gives rise to the \n",
    "phenomenon of entropy, and have created evidence to verify the area law scaling\n",
    "of the entanglement entropy in the 1D TFIM system."
   ]
  },
  {
   "cell_type": "code",
   "execution_count": null,
   "id": "3684c97e-0a71-4cf9-bbf5-c90d0d826eae",
   "metadata": {},
   "outputs": [],
   "source": []
  }
 ],
 "metadata": {
  "kernelspec": {
   "display_name": "Python 3",
   "language": "python",
   "name": "python3"
  },
  "language_info": {
   "codemirror_mode": {
    "name": "ipython",
    "version": 3
   },
   "file_extension": ".py",
   "mimetype": "text/x-python",
   "name": "python",
   "nbconvert_exporter": "python",
   "pygments_lexer": "ipython3",
   "version": "3.7.9"
  }
 },
 "nbformat": 4,
 "nbformat_minor": 5
}
