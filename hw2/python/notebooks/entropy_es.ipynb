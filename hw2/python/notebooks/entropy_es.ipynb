{
 "cells": [
  {
   "cell_type": "markdown",
   "id": "fae83a78-6eb9-415a-8f67-1f85ebca45b4",
   "metadata": {},
   "source": [
    "# Entanglement entropy of highly excited states\n",
    "\n",
    "## Introduction\n",
    "\n",
    "We are interested in calculating the entanglement entropy for states at the\n",
    "middle of the spectrum, which sparse solvers do not do well (though it is\n",
    "ameliorated by transformations like shift-invert mode).\n",
    "Instead, I will obtain states via dense diagonalization"
   ]
  },
  {
   "cell_type": "markdown",
   "id": "d4a6006d-a8a4-4ee5-bc7c-97e76def06d4",
   "metadata": {},
   "source": [
    "## Program\n",
    "\n",
    "- Calculae "
   ]
  },
  {
   "cell_type": "code",
   "execution_count": null,
   "id": "a313c590-504c-4274-ab53-2d04aae1345e",
   "metadata": {},
   "outputs": [],
   "source": [
    "import numpy as np\n",
    "import pandas as pd\n",
    "import scipy.linalg as la\n",
    "import matplotlib.pyplot as plt\n",
    "%matplotlib inline\n",
    "\n",
    "from ph121c_lxvm import tfim, basis, tests"
   ]
  },
  {
   "cell_type": "code",
   "execution_count": null,
   "id": "3f03cbc0-a41f-40ef-a094-8386d430f560",
   "metadata": {},
   "outputs": [],
   "source": [
    "%%time\n",
    "\n",
    "for oper_params in tests.tfim.param_sweep(\n",
    "    L = list(range(4,5)),\n",
    "    h = [0.3],\n",
    "    bc= ['c'],\n",
    "):\n",
    "    job = dict(\n",
    "        oper=tfim.z.H_dense,\n",
    "        oper_params=oper_params,\n",
    "        solver=la.eigh,\n",
    "        solver_params={ \n",
    "            'subset_by_index' : np.arange(-2, 4) + 2 ** (oper_params['L'] - 1),\n",
    "        },\n",
    "    )\n",
    "    evals, evecs = tfim.data.obtain(**job)\n",
    "    "
   ]
  },
  {
   "cell_type": "code",
   "execution_count": null,
   "id": "3885f0e3-cb30-489d-ad92-746a15cd0de0",
   "metadata": {},
   "outputs": [],
   "source": []
  }
 ],
 "metadata": {
  "kernelspec": {
   "display_name": "Python 3",
   "language": "python",
   "name": "python3"
  },
  "language_info": {
   "codemirror_mode": {
    "name": "ipython",
    "version": 3
   },
   "file_extension": ".py",
   "mimetype": "text/x-python",
   "name": "python",
   "nbconvert_exporter": "python",
   "pygments_lexer": "ipython3",
   "version": "3.7.9"
  }
 },
 "nbformat": 4,
 "nbformat_minor": 5
}
