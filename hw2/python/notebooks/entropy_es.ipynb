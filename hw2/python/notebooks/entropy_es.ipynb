{
 "cells": [
  {
   "cell_type": "markdown",
   "id": "fae83a78-6eb9-415a-8f67-1f85ebca45b4",
   "metadata": {},
   "source": [
    "# Entanglement entropy of highly excited states\n",
    "\n",
    "## Introduction\n",
    "\n",
    "We are interested in calculating the entanglement entropy for states at the\n",
    "middle of the spectrum, which sparse solvers do not do well (though it is\n",
    "ameliorated by transformations like shift-invert mode).\n",
    "Instead, I will obtain states via dense diagonalization"
   ]
  },
  {
   "cell_type": "markdown",
   "id": "d4a6006d-a8a4-4ee5-bc7c-97e76def06d4",
   "metadata": {},
   "source": [
    "## Program\n",
    "\n",
    "- Calculate wavefunctions at center of spectrum using dense solver\n",
    "- Repeat entropy calculations as in part 2"
   ]
  },
  {
   "cell_type": "code",
   "execution_count": null,
   "id": "a313c590-504c-4274-ab53-2d04aae1345e",
   "metadata": {},
   "outputs": [],
   "source": [
    "import numpy as np\n",
    "import pandas as pd\n",
    "import scipy.linalg as la\n",
    "import matplotlib.pyplot as plt\n",
    "%matplotlib inline\n",
    "\n",
    "from ph121c_lxvm import tfim, basis, tests, measure"
   ]
  },
  {
   "cell_type": "code",
   "execution_count": null,
   "id": "3f03cbc0-a41f-40ef-a094-8386d430f560",
   "metadata": {},
   "outputs": [],
   "source": [
    "%%time\n",
    "entropies = {\n",
    "    'L' : [],\n",
    "    'h' : [],\n",
    "    'l' : [],\n",
    "    'S' : [],\n",
    "    'bc': [],\n",
    "}\n",
    "\n",
    "for oper_params in tests.tfim.param_sweep(\n",
    "    L = list(range(4,15)),\n",
    "    h = [0.3],\n",
    "    bc= ['c'],\n",
    "):\n",
    "    job = dict(\n",
    "        oper=tfim.z.H_dense,\n",
    "        oper_params=oper_params,\n",
    "        solver=la.eigh,\n",
    "        solver_params={ \n",
    "            'subset_by_index' : list(np.array([-2, 3]) + 2 ** (oper_params['L'] - 1)),\n",
    "        },\n",
    "    )\n",
    "    evals, evecs = tfim.data.obtain(**job)\n",
    "        \n",
    "    es = evecs[:, 5]\n",
    "    print('using state with eigenvalue:', evals[5])\n",
    "    A = []\n",
    "    for l in range(oper_params['L']-1):\n",
    "        A.append(l)\n",
    "        entropies['S'].append(\n",
    "            measure.entropy.entanglement(\n",
    "                basis.schmidt.values(es, A, oper_params['L'])\n",
    "            )\n",
    "        )\n",
    "        entropies['l'].append(l)\n",
    "        entropies['L'].append(oper_params['L'])\n",
    "        entropies['h'].append(oper_params['h'])\n",
    "        entropies['bc'].append(oper_params['bc'])\n",
    "\n",
    "df = pd.DataFrame(entropies)"
   ]
  },
  {
   "cell_type": "code",
   "execution_count": null,
   "id": "a2e159bc-99c1-493e-a060-f8b23478f190",
   "metadata": {},
   "outputs": [],
   "source": [
    "def plot_script(df, bc):\n",
    "    \"\"\"Make the display plots.\"\"\"\n",
    "    L = sorted(set(df.L))\n",
    "    h = sorted(set(df.h))\n",
    "    w = 2\n",
    "\n",
    "    fig_l, axes_l = plt.subplots(len(L)//w+len(L)%w, w)\n",
    "    for i, row in enumerate(axes_l):\n",
    "        for j, ax in enumerate(row):\n",
    "            if w*i + j < len(L):\n",
    "                for s in h:\n",
    "                    sub = df[(df.h==s) & (df.L==L[w*i+j]) & (df.bc==bc)]\n",
    "                    ax.plot(sub.l.values, sub.S.values, label='h='+str(s))\n",
    "                ax.set_xlabel(f'$l$ at $L={L[w*i+j]}$')\n",
    "                ax.set_ylabel('$S$')\n",
    "                handles, labels = ax.get_legend_handles_labels()\n",
    "            else:\n",
    "                ax.set_axis_off()\n",
    "                ax.legend(handles, labels, loc='center')\n",
    "    st = fig_l.suptitle('Entanglement entropies')\n",
    "    fig_l.set_size_inches(5, 6)\n",
    "    fig_l.tight_layout()\n",
    "    st.set_y(.95)\n",
    "    fig_l.subplots_adjust(top=.9)\n",
    "\n",
    "    fig_L, ax_L = plt.subplots()\n",
    "    for s in h:\n",
    "        sub = df[(df.h==s) & (df.l==df.L//2) & (df.bc==bc)]\n",
    "        ax_L.plot(sub.L.values, sub.S.values, label='h='+str(s))\n",
    "    ax_L.set_title('Entanglement entropy at half-subsystem')\n",
    "    ax_L.set_xlabel('$L$')\n",
    "    ax_L.set_ylabel('$S$')\n",
    "    ax_L.legend()\n",
    "    fig_L.set_size_inches(3, 3)\n",
    "\n",
    "    return (fig_l, fig_L)"
   ]
  },
  {
   "cell_type": "code",
   "execution_count": null,
   "id": "184d8ccc-ca32-4a49-82e1-6c6ad80bdc12",
   "metadata": {},
   "outputs": [],
   "source": [
    "%%capture\n",
    "figs = plot_script(df, 'c')"
   ]
  },
  {
   "cell_type": "markdown",
   "id": "ecbff83b-2888-47cc-b353-b9ce0cd3a02b",
   "metadata": {},
   "source": [
    "## Results\n",
    "\n",
    "The main goal is to observe a different scaling of entropy for a highly-excited\n",
    "state which is not a band state.\n",
    "In fact this is what we observe for the Hamiltonian in the ferromagnetic phase\n",
    "and with periodic boundary conditions."
   ]
  },
  {
   "cell_type": "code",
   "execution_count": null,
   "id": "482b41fe-80f2-4d31-8b71-00498225f351",
   "metadata": {},
   "outputs": [],
   "source": [
    "figs[0]"
   ]
  },
  {
   "cell_type": "markdown",
   "id": "a1a28b10-1548-4536-b455-09f3e8a39560",
   "metadata": {},
   "source": [
    "It really is different behavior than the constant for the area law in the band\n",
    "states.\n",
    "From smaller $L=4$ to larger systems, $L=14$, the same pattern emerges where\n",
    "the entanglement entropy has a maximum at $\\ell = L/2$ and appears to decay\n",
    "linearly away from that maximum.\n",
    "\n",
    "Next we how a summary of the growth of the entanglement entropy at half\n",
    "subsystems for various $L$:"
   ]
  },
  {
   "cell_type": "code",
   "execution_count": null,
   "id": "362eeb84-0ead-4b77-942c-f253bdf6b3e0",
   "metadata": {},
   "outputs": [],
   "source": [
    "figs[1]"
   ]
  },
  {
   "cell_type": "markdown",
   "id": "5ffa3d8b-22e5-4412-8788-0591f76e5c18",
   "metadata": {},
   "source": [
    "## Discussion\n",
    "\n",
    "Instead of observing a constant entanglement entropy with respect to subsystems,\n",
    "as in the extremal eigenstates, the states at the center of the spectrum display\n",
    "new behaviors: increasing entropy with respect to system size and also with\n",
    "respect to subsystem size.\n",
    "One might expect that the entropy increases at equipartition, and indeed, this\n",
    "is what we are observing.\n",
    "From this perspective, the excited states are more random than those at the bands."
   ]
  },
  {
   "cell_type": "code",
   "execution_count": null,
   "id": "6e51cc33-62d4-49ef-a3cc-ec97cb7b4022",
   "metadata": {},
   "outputs": [],
   "source": []
  }
 ],
 "metadata": {
  "kernelspec": {
   "display_name": "Python 3",
   "language": "python",
   "name": "python3"
  },
  "language_info": {
   "codemirror_mode": {
    "name": "ipython",
    "version": 3
   },
   "file_extension": ".py",
   "mimetype": "text/x-python",
   "name": "python",
   "nbconvert_exporter": "python",
   "pygments_lexer": "ipython3",
   "version": "3.7.9"
  }
 },
 "nbformat": 4,
 "nbformat_minor": 5
}
