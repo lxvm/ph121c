{
 "cells": [
  {
   "cell_type": "markdown",
   "id": "2df22605-5f20-4bca-a477-7085d1059c8b",
   "metadata": {},
   "source": [
    "# Dynamical ETH\n",
    "\n",
    "$\n",
    "\\require{physics}\n",
    "\\def\\bm{\\boldsymbol}\n",
    "\\def\\indx{\\sigma_1, \\dots, \\sigma_L}\n",
    "\\def\\ind{\\tau_1, \\dots, \\tau_L}\n",
    "$"
   ]
  },
  {
   "cell_type": "code",
   "execution_count": null,
   "id": "310e5bfb-30e0-4c06-875d-b3ddbe302a23",
   "metadata": {},
   "outputs": [],
   "source": [
    "import numpy as np\n",
    "import pandas as pd\n",
    "import matplotlib.pyplot as plt\n",
    "%matplotlib inline\n",
    "\n",
    "from ph121c_lxvm import models, data, tests\n",
    "from ph121c_lxvm.fortran import evolve\n",
    "evolve.get_threads()"
   ]
  },
  {
   "cell_type": "markdown",
   "id": "7d6420aa-8d3c-46b0-b725-d98b3606b7fd",
   "metadata": {},
   "source": [
    "The model we will study in this notebook is:\n",
    "$$\n",
    "    H = \\sum_{j=1}^L \\sigma_j^z \\sigma_{j+1}^z\n",
    "    - h^x \\sum_{j=1}^L \\sigma_j^x\n",
    "    - h^z \\sum_{j=1}^L \\sigma_j^z \n",
    "    .\n",
    "$$\n",
    "We are interested in the fact that $h^z \\neq 0$ makes this\n",
    "TFIM Hamiltonian non-integrable, and creates eigenstate thermalization.\n",
    "We set the following generic parameter values:"
   ]
  },
  {
   "cell_type": "code",
   "execution_count": null,
   "id": "0f4cb5c6-0641-4192-8e72-af9529f3116e",
   "metadata": {},
   "outputs": [],
   "source": [
    "hx, hz = (-1.05, 0.5)"
   ]
  },
  {
   "cell_type": "markdown",
   "id": "82f97ecb-158f-43e1-a07d-e5cb19dbeef4",
   "metadata": {},
   "source": [
    "## Time evolution of an initial state\n",
    "\n",
    "Our initial state will be\n",
    "$$\n",
    "    \\ket{\\psi (t=0)} = \\ket{\\xi}_1 \\otimes \\cdots \\otimes \\ket{\\xi}_L\n",
    "    ,\n",
    "$$\n",
    "with $\\ket{\\xi} = \\frac{1}{2} \\left( \\ket{\\uparrow} - \\sqrt{3} \\ket{\\downarrow}\\right)$."
   ]
  },
  {
   "cell_type": "code",
   "execution_count": null,
   "id": "c6b62719-7910-49b1-94c9-0f820d8f5998",
   "metadata": {},
   "outputs": [],
   "source": [
    "xi = np.array([-np.sqrt(3), 1]) * 0.5"
   ]
  },
  {
   "cell_type": "markdown",
   "id": "73d865fb-b3a4-4e47-a319-07dcea6286a4",
   "metadata": {},
   "source": [
    "We are interested in time-evolving this state, which we can do in the energy\n",
    "eigenbasis, where:\n",
    "$$\n",
    "    \\ket{\\psi} \n",
    "        = \\sum_{\\indx=0}^{1} a_{\\indx} \\ket{\\indx} \n",
    "        = \\sum_{n=1}^{2^L} c_n \\ket{n}\n",
    "    ,\n",
    "$$\n",
    "where $c_n = \\sum_{\\indx} a_n \\braket{n}{\\indx}$.\n",
    "The time evolution of an operator in the energy basis, where\n",
    "$H \\ket{n} = \\epsilon_n \\ket{n}$, can be described by:\n",
    "$$\n",
    "    \\ev{O}{\\psi(t)} \n",
    "        = \\sum_{n, m} c_m^* c_n e^{-i(\\epsilon_n - \\epsilon_m)t} \\mel{m}{O}{n}\n",
    "    .\n",
    "$$\n",
    "\n",
    "Shu Fay told me it took hours to run code to do this, so I decided I would\n",
    "think about how to cast the problem efficiently.\n",
    "We could represent the sum above as the sum of the entries of a matrix in the\n",
    "energy basis, where initially each element is $c_m^* c_n \\mel{m}{O}{n}$ and\n",
    "we update this at each time step of duration $\\Delta t$ by multiplying with\n",
    "$e^{-i(\\epsilon_n - \\epsilon_m)\\Delta t}$. We would find that each time step\n",
    "incurs $2^{2L}$ multiplications followed by summing $2^{2L}$ elements together.\n",
    "This is a fine way of doing the problem.\n",
    "\n",
    "I wanted to use the fact we know the Pauli operators very well in the computational\n",
    "basis. In fact, we know that they have precisely $2^L$ nonzero elements, and we\n",
    "can calculate these elements with bitwise operations. We can use resolution of\n",
    "the identity to write:\n",
    "\\begin{align}\n",
    "    \\ev{O}{\\psi(t)} \n",
    "        &= \\sum_{\\indx} \\sum_{\\indxb} \\sum_{n, m}\n",
    "        c_m^* c_n e^{-i(\\epsilon_n - \\epsilon_m)t}\n",
    "        \\braket{m}{\\indx}\\mel{\\indx}{O}{\\ind}\\braket{\\ind}{n}\n",
    "    \\\\\n",
    "        &= \\sum_{\\indx} \\sum_{\\ind} \\mel{\\indx}{O}{\\ind}\n",
    "        \\left( \\sum_{n} c_n e^{-i\\epsilon_n t} \\braket{\\ind}{n} \\right)\n",
    "        \\left( \\sum_{m} c_m e^{-i\\epsilon_m t} \\braket{\\indx}{m} \\right)^*\n",
    "    .\n",
    "\\end{align}\n",
    "For $O = \\sigma_k^\\mu$ where $k \\in \\\\{1, \\dots, L \\\\}$ and $\\mu \\in {x, y, z}$,\n",
    "we have binary formulas acting on site $k, k-1, k+1$ that give us the matrix\n",
    "elements $\\mel{\\indx}{O}{\\ind}$. In fact, we know $\\ind$ to be a function of\n",
    "$\\indx$, so we will write $\\tau(\\indx) = \\ind$.\n",
    "Therefore we have succesfully eliminated one of the indices:\n",
    "\\begin{align}\n",
    "    \\ev{O}{\\psi(t)} \n",
    "        &= \\sum_{\\indx} \\mel{\\indx}{O}{\\tau(\\indx)}\n",
    "        \\left( \\sum_{n} c_n e^{-i\\epsilon_n t} \\braket{\\tau(\\indx)}{n} \\right)\n",
    "        \\left( \\sum_{m} c_m e^{-i\\epsilon_m t} \\braket{\\indx}{m} \\right)^*\n",
    "    .\n",
    "\\end{align}\n",
    "This means that when $\\tau(\\indx) = \\indx$ which is true for diagonal operators\n",
    "such as $\\sigma_k^z$, we can also limit the complexity of the problem to $2^{2L}$\n",
    "sums and multiplications, without ever having to change basis.\n",
    "Note that in this case, $\\braket{\\indx}{m}$ is just a matrix element of one of\n",
    "the eigenvectors returned by the diagonalization routine.\n",
    "\n",
    "I wrote code to do this time evolution in Fortran, and basically it does a loop\n",
    "over the physical index and the inner indices are just sums over vectors.\n",
    "I used OpenMP directives to speed the loop over the $\\indx$ index in my Fortran\n",
    "code by about 25% compared to the serial version.\n",
    "\n",
    "In short, time evolution on a temporal grid is a computationally intensive task.\n",
    "I expect this to take a long time to run, so I will make sure to save the results.\n",
    "After all, it did take me 4 tries before `np.linalg.eigh` didn't get itself\n",
    "killed due to requesting too much memory at $L=14$. When it did work, then\n",
    "$L=14$ took about 10 minutes to diagonalize (`numpy` says it uses the `syevd`\n",
    "routine from LAPACK, but back in assignment 1, I used the generic `syev` routine\n",
    "from MKL LAPACK and $L=14$ only took 2 minutes there).\n",
    "All of the diagonalization runtime information lives in the metadata of my HDF5\n",
    "archive, but I'm too slow to get it out. All I know is that my appendix to\n",
    "assignment 2 demonstrates the code to talk with the archive."
   ]
  },
  {
   "cell_type": "code",
   "execution_count": null,
   "id": "13bd8989-46ca-4bb3-a921-e9e864b4f0c0",
   "metadata": {},
   "outputs": [],
   "source": [
    "%%time\n",
    "\n",
    "dt = 0.05\n",
    "Nstp = 1000\n",
    "bc = 'c'\n",
    "\n",
    "save = '../../data/wobbles.pick'\n",
    "\n",
    "try:\n",
    "    df = pd.read_pickle(save)\n",
    "except FileNotFoundError:\n",
    "\n",
    "    wobbles = {\n",
    "        's_0^?' : [],\n",
    "        'vals' : [],\n",
    "        'L' : [],\n",
    "    }\n",
    "\n",
    "    for L in [8, 10, 12, 14]:\n",
    "\n",
    "        job = dict(\n",
    "            oper=models.tfim_z.H_dense,\n",
    "            oper_params={\n",
    "                'L' : L,\n",
    "                'h' : hx,\n",
    "                'hz': hz,\n",
    "                'bc': bc,\n",
    "            },\n",
    "            solver=np.linalg.eigh,\n",
    "            solver_params={},\n",
    "        )\n",
    "        evals, evecs = data.jobs.obtain(**job)\n",
    "\n",
    "        psi = 1\n",
    "        for i in range(L):\n",
    "            psi = np.kron(xi, psi)\n",
    "        coef = evecs.T @ psi\n",
    "        for which in ['x', 'y', 'z']:\n",
    "            cevecs = (coef * evecs).T.astype('complex')\n",
    "            tevals = np.exp(-1j*dt*evals)\n",
    "            wobbles['L'].append(L)\n",
    "            wobbles['s_0^?'].append(which)\n",
    "            wobbles['vals'].append(\n",
    "                evolve.time_ev(l=L, k=0, nstp=Nstp, which=which, cevecs=cevecs, tevals=tevals)\n",
    "            )\n",
    "\n",
    "    df = pd.DataFrame(wobbles)\n",
    "    df.to_pickle(save)"
   ]
  },
  {
   "cell_type": "raw",
   "id": "71cb0aa7-79b8-47a3-b390-38e6f22a3193",
   "metadata": {},
   "source": [
    "CPU times: user 1h 41min 23s, sys: 11.4 s, total: 1h 41min 35s\n",
    "Wall time: 8min 41s"
   ]
  },
  {
   "cell_type": "markdown",
   "id": "58e2cc7e-815c-4ef7-b1c8-6ca7478aa5e2",
   "metadata": {},
   "source": [
    "In this case, I ran the code in three separate chunks, so this runtime was for\n",
    "$L=14$ and `which = 'y'`.\n",
    "I think I've been here for about 30 minutes, so let's just say that's the time\n",
    "it took to generate all 12 time evolutions (The diagonalization was done previously).\n",
    "Of that time, $L=12$ took about 30-40 seconds each, so every $L=14$ evolution\n",
    "took about 10 minutes."
   ]
  },
  {
   "cell_type": "code",
   "execution_count": null,
   "id": "b2a23552-09b5-4abe-a96c-e1fc672e90f2",
   "metadata": {},
   "outputs": [],
   "source": [
    "plots = []\n",
    "for i, val in enumerate(df.vals):\n",
    "    fig, ax = plt.subplots()\n",
    "    ax.plot(np.arange(Nstp)*dt, val)\n",
    "    ax.set_title(f\"$\\sigma_0^{df['s_0^?'][i]}, L={df.L[i]}$\")\n",
    "    ax.set_xlabel('t')\n",
    "    ax.set_ylabel(f\"$\\\\langle \\sigma_0^{df['s_0^?'][i]} (t) \\\\rangle$\")\n",
    "    plots.append(fig)"
   ]
  },
  {
   "cell_type": "markdown",
   "id": "aa804c54-6232-4679-b852-b985600d87ba",
   "metadata": {},
   "source": [
    "## Thermal values of observables"
   ]
  },
  {
   "cell_type": "code",
   "execution_count": null,
   "id": "4c6ae554-5bfe-488e-8711-4bbb3f25ef29",
   "metadata": {},
   "outputs": [],
   "source": [
    "%%time\n",
    "\n",
    "bc = 'c'\n",
    "\n",
    "graphs = []\n",
    "\n",
    "for L in [8, 10, 12, 14]:\n",
    "\n",
    "    job = dict(\n",
    "        oper=models.tfim_z.H_dense,\n",
    "        oper_params={\n",
    "            'L' : L,\n",
    "            'h' : hx,\n",
    "            'hz': hz,\n",
    "            'bc': bc,\n",
    "        },\n",
    "        solver=np.linalg.eigh,\n",
    "        solver_params={},\n",
    "    )\n",
    "    evals, _ = data.jobs.obtain(**job)\n",
    "    zzz = lambda x: np.exp(-x * evals)\n",
    "    zz  = lambda x: sum(evals * zzz(x))\n",
    "    z   = lambda x: sum(zzz(x))\n",
    "    fig, ax = plt.subplots()\n",
    "    ax.plot(np.arange(3, 10), [ zz(e) / z(e) for e in np.arange(3, 10) ])\n",
    "    ax.set_title(f'$L={L}$')\n",
    "    ax.set_xlabel('$ \\\\beta $')\n",
    "    ax.set_ylabel('$ E_\\\\beta $')\n",
    "    graphs.append(fig)"
   ]
  },
  {
   "cell_type": "markdown",
   "id": "a861af71-f8d2-4c43-8524-a5e2f41f0de3",
   "metadata": {},
   "source": [
    "## Entanglement entropy growth with time"
   ]
  },
  {
   "cell_type": "code",
   "execution_count": null,
   "id": "4fe515d3-b2ad-4d07-b67b-a7f56fc86352",
   "metadata": {},
   "outputs": [],
   "source": []
  }
 ],
 "metadata": {
  "kernelspec": {
   "display_name": "Python 3",
   "language": "python",
   "name": "python3"
  },
  "language_info": {
   "codemirror_mode": {
    "name": "ipython",
    "version": 3
   },
   "file_extension": ".py",
   "mimetype": "text/x-python",
   "name": "python",
   "nbconvert_exporter": "python",
   "pygments_lexer": "ipython3",
   "version": "3.7.9"
  }
 },
 "nbformat": 4,
 "nbformat_minor": 5
}
