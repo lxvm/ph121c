{
 "cells": [
  {
   "cell_type": "markdown",
   "id": "e786cd08-517f-4ce5-a2cc-314f5271f94b",
   "metadata": {},
   "source": [
    "# Violations of ETH\n",
    "\n",
    "$\n",
    "\\require{physics}\n",
    "\\def\\bm{\\boldsymbol}\n",
    "$\n"
   ]
  },
  {
   "cell_type": "code",
   "execution_count": null,
   "id": "1a586f2f-8ea6-4c99-83af-7c8657c0225c",
   "metadata": {},
   "outputs": [],
   "source": [
    "from itertools import product\n",
    "\n",
    "import numpy as np\n",
    "import pandas as pd\n",
    "import matplotlib.pyplot as plt\n",
    "%matplotlib inline\n",
    "\n",
    "from ph121c_lxvm import models, data, basis, measure"
   ]
  },
  {
   "cell_type": "markdown",
   "id": "9a471570-05d6-4c9f-9ed7-4f79b2bac3b9",
   "metadata": {},
   "source": [
    "## Many-body localized model\n",
    "\n",
    "We introduce disorder to the model we have used before by allowing random\n",
    "coefficients:\n",
    "$$\n",
    "    H = \\sum_{j=1}^L \\sigma_j^z \\sigma_{j+1}^z\n",
    "    - \\sum_{j=1}^L h_j^x \\sigma_j^x\n",
    "    - \\sum_{j=1}^L h_j^z \\sigma_j^z \n",
    "    .\n",
    "$$\n",
    "The random coefficients $h_j^x$ and $h_j^z$ are sampled uniformly from $[W, W]$,\n",
    "where the magnitude of $W$ determines the strength of the random noise.\n",
    "This model may introduce localization of the quantum state, where the random\n",
    "noise causes the probability mass to focus on some sites in the chain."
   ]
  },
  {
   "cell_type": "code",
   "execution_count": null,
   "id": "35a1a8c1-dc32-44c2-9e55-223dc557d81e",
   "metadata": {},
   "outputs": [],
   "source": [
    "%%time\n",
    "\n",
    "save = '../../data/randoms.pick'\n",
    "\n",
    "try:\n",
    "    df = pd.read_pickle(save)\n",
    "except FileNotFoundError:\n",
    "    \n",
    "    xi = np.array([-np.sqrt(3), 1]) * 0.5    \n",
    "    dt = 0.05\n",
    "    Nstp = 1000\n",
    "    randoms = {\n",
    "        's_0^?' : [],\n",
    "        'vals' : [],\n",
    "        'L' : [],\n",
    "        'i' : [],\n",
    "    }\n",
    "\n",
    "    \n",
    "    rng = np.random.default_rng(seed=935)\n",
    "    W = 3.0\n",
    "    Navg = 5\n",
    "    bc = 'c'\n",
    "    for L in [8, 10, 12]:\n",
    "        psi = 1\n",
    "        for i in range(L):\n",
    "            psi = np.kron(xi, psi)\n",
    "        for i in range(Navg):\n",
    "            job = dict(\n",
    "                oper=models.tfim_z.H_dense,\n",
    "                oper_params={\n",
    "                    'L' : L,\n",
    "                    'h' : rng.uniform(low=-W, high=W, size=L),\n",
    "                    'hz': rng.uniform(low=-W, high=W, size=L),\n",
    "                    'bc': bc,\n",
    "                },\n",
    "                solver=np.linalg.eigh,\n",
    "                solver_params={},\n",
    "            )\n",
    "            evals, evecs = data.jobs.obtain(**job)\n",
    "\n",
    "            coef = evecs.T @ psi\n",
    "            for which in ['x', 'y', 'z']:\n",
    "                cevecs = (coef * evecs).T.astype('complex')\n",
    "                tevals = np.exp(-1j*dt*evals)\n",
    "                randoms['L'].append(L)\n",
    "                randoms['i'].append(i)\n",
    "                randoms['s_0^?'].append(which)\n",
    "                randoms['vals'].append(\n",
    "                    measure.evolve.Pauli_ev(\n",
    "                        L=L, Nstp=Nstp, which=which, cevecs=cevecs, tevals=tevals,\n",
    "                        num_threads=4\n",
    "                    )\n",
    "                )\n",
    "\n",
    "    df = pd.DataFrame(randoms)\n",
    "    df.to_pickle(save)"
   ]
  },
  {
   "cell_type": "raw",
   "id": "e40546af-5271-4438-8f0a-09f5c847e732",
   "metadata": {},
   "source": [
    "CPU times: user 1h 36min 47s, sys: 16 s, total: 1h 37min 3s\n",
    "Wall time: 8min 25s"
   ]
  },
  {
   "cell_type": "markdown",
   "id": "e5776819-8a02-4044-bd67-cb23c37c28eb",
   "metadata": {},
   "source": [
    "## Quantum many-body scar states\n",
    "\n",
    "The following Hamiltonian is a toy model of a loop of spin-1/2 Rydberg atoms:\n",
    "$$\n",
    "    H = \\frac{\\Omega}{2} \\sum_{j=1}^L \\sigma_j^x\n",
    "    + \\sum_{j=1}^L P_{j, j+1} \\sigma_{j+2}^z\n",
    "    ,\n",
    "$$\n",
    "where\n",
    "\\begin{align}\n",
    "    P_{j, j+1} \n",
    "        = (1 - \\bm \\sigma_j \\cdot \\bm \\sigma_{j+1}) / 4\n",
    "        = (1 - \\sigma_j^x \\sigma_{j+1}^x - \\sigma_j^y \\sigma_{j+1}^y - \\sigma_j^z \\sigma_{j+1}^z) / 4\n",
    "    .\n",
    "\\end{align}\n",
    "We are interested in this model because it contains scar states with unusually\n",
    "low entanglement entropy. These can be viewed as the quantum analog of periodic\n",
    "orbits in classically chaotic systems."
   ]
  },
  {
   "cell_type": "code",
   "execution_count": null,
   "id": "f5181b22-33df-4f1d-94fd-5b88cbf4dc5e",
   "metadata": {},
   "outputs": [],
   "source": [
    "%%time\n",
    "save = '../../data/scars.pick'\n",
    "try:\n",
    "    df = pd.read_pickle(save)\n",
    "except FileNotFoundError:\n",
    "\n",
    "    scars = {\n",
    "        'E' : [],\n",
    "        'S' : [],\n",
    "        'O' : [],\n",
    "        'L' : [],\n",
    "    }\n",
    "\n",
    "    for L, O in product([8, 10, 12], [0.0, 0.5, 1.0, 4.0]):\n",
    "\n",
    "        job = dict(\n",
    "            oper=models.scars.H_dense,\n",
    "            oper_params={\n",
    "                'L' : L,\n",
    "                'O' : O,\n",
    "            },\n",
    "            solver=np.linalg.eigh,\n",
    "            solver_params={},\n",
    "        )\n",
    "        evals, evecs = data.jobs.obtain(**job)\n",
    "\n",
    "        scars['L'].append(L)\n",
    "        scars['O'].append(O)\n",
    "        scars['E'].append(evals)\n",
    "        scars['S'].append([\n",
    "            # Evaluate entanglement entropy with respect to a half-subssystem\n",
    "            # To use a random subsystem instead of a contiguous one, use comments\n",
    "            # rng = np.random.default_rng(seed=935)\n",
    "            measure.entropy.entanglement(basis.schmidt.values(\n",
    "                evecs[:, i], np.arange(L//2), L\n",
    "            #     evecs[i], rng.choice(np.arange(L), size=L//2, replace=False), L\n",
    "            )) for i in range(evals.size)\n",
    "        ])\n",
    "        df = pd.DataFrame(scars)\n",
    "        df.to_pickle(save)"
   ]
  },
  {
   "cell_type": "raw",
   "id": "67bed36a-39c5-45c4-a513-577b86dd6c6c",
   "metadata": {},
   "source": [
    "CPU times: user 1min 19s, sys: 948 ms, total: 1min 20s\n",
    "Wall time: 14.4 s"
   ]
  },
  {
   "cell_type": "code",
   "execution_count": null,
   "id": "7e0109bc-e064-4158-a723-4a22abff0c0a",
   "metadata": {},
   "outputs": [],
   "source": [
    "nrow = 4\n",
    "ncol = 3\n",
    "fig, axes = plt.subplots(nrow, ncol, sharey=True)\n",
    "for i, row in enumerate(axes):\n",
    "    for j, ax in enumerate(row):\n",
    "        ax.scatter(\n",
    "            df.E[i + j*nrow] / df.L[i + j*nrow],\n",
    "            df.S[i + j*nrow] / df.L[i + j*nrow],\n",
    "            s=20, marker='x', alpha=0.4,\n",
    "        )\n",
    "        ax.set_title('$L=$' + str(df.L[i + j*nrow]) \\\n",
    "            + ', $\\Omega=$' + str(df.O[i + j*nrow]))\n",
    "        ax.set_ylabel('$S_{L/2}/L$')\n",
    "        ax.set_xlabel('$\\lambda/L$')\n",
    "        ax.vlines((df.O[i + j*nrow] / df.L[i + j*nrow]) \\\n",
    "            * (np.arange(df.L[i + j*nrow] + 1) - df.L[i + j*nrow] / 2),\n",
    "            ymin=0, ymax=0.3, linestyle='dotted',\n",
    "        )\n",
    "fig.set_size_inches(9, 9)\n",
    "fig.tight_layout()\n"
   ]
  },
  {
   "cell_type": "markdown",
   "id": "561244f5-1ac0-4504-8310-8053fc13196e",
   "metadata": {},
   "source": [
    "## Code snippets\n",
    "\n",
    "These are some useful code snippets I though I would drop here.\n",
    "I had made a few mistakes while indexing for calculations, so I though I'd\n",
    "give some code credit where it is due:"
   ]
  },
  {
   "cell_type": "markdown",
   "id": "4e06f772-f8c3-4ad3-a03f-7d5818c0ab1a",
   "metadata": {},
   "source": [
    "```python\n",
    "# Verify orthogonality of eigenvectors (this takes a while)\n",
    "for i, j in product(np.arange(evals.size), repeat = 2):\n",
    "    if i > j:\n",
    "        continue\n",
    "    elif i == j:\n",
    "        kron = 1\n",
    "    else:\n",
    "        kron = 0\n",
    "    assert np.allclose(kron, np.inner(evecs[:, i].conj(), evecs[:, j])), str(i) + ' ' + str(j)\n",
    "```"
   ]
  },
  {
   "cell_type": "markdown",
   "id": "e5f4c80e-e252-4e81-ab64-11a3d085f1d8",
   "metadata": {},
   "source": [
    "```python\n",
    "# Verify eigenpairs\n",
    "for i in range(evals.size):\n",
    "    assert np.allclose(models.scars.H_vec(evecs[:, i], L, O), evals[i] * evecs[:, i]), str(i)\n",
    "```"
   ]
  },
  {
   "cell_type": "code",
   "execution_count": null,
   "id": "14979428-fec7-4d4b-9a75-1d5b3d1db0e7",
   "metadata": {},
   "outputs": [],
   "source": []
  }
 ],
 "metadata": {
  "kernelspec": {
   "display_name": "Python 3",
   "language": "python",
   "name": "python3"
  },
  "language_info": {
   "codemirror_mode": {
    "name": "ipython",
    "version": 3
   },
   "file_extension": ".py",
   "mimetype": "text/x-python",
   "name": "python",
   "nbconvert_exporter": "python",
   "pygments_lexer": "ipython3",
   "version": "3.7.9"
  }
 },
 "nbformat": 4,
 "nbformat_minor": 5
}
