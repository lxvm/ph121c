{
 "cells": [
  {
   "cell_type": "markdown",
   "id": "c9dd5f4f-36f4-449c-b0d5-68864bb2f4d1",
   "metadata": {},
   "source": [
    "# Eigenstate ETH\n",
    "\n",
    "$\\require{physics}$\n"
   ]
  },
  {
   "cell_type": "code",
   "execution_count": null,
   "id": "9e7d9ffe-851a-4be8-8b42-b1237251cfef",
   "metadata": {},
   "outputs": [],
   "source": [
    "import numpy as np\n",
    "import pandas as pd\n",
    "import matplotlib.pyplot as plt\n",
    "%matplotlib inline\n",
    "\n",
    "from ph121c_lxvm import data, models, basis, tensor, measure"
   ]
  },
  {
   "cell_type": "markdown",
   "id": "3f325a88-a53d-4d8f-acd6-1fd714e27b42",
   "metadata": {},
   "source": [
    "## Observables in excited states\n",
    "\n",
    "We are going to measure the expectation values of the Pauli operators in the\n",
    "energy eigenbasis. And we are going to _plot_ them. Same Hamiltonian as last time.\n",
    "\n",
    "Here we are supposed to use the fact $\\ket{\\xi}$ from last time is translation\n",
    "invariant, so we'll restrict to the $k=0$ momentum sector of the Hamiltonian\n",
    "by filtering states in the wrong sector with $\\ev{T}{n} \\neq 1$."
   ]
  },
  {
   "cell_type": "code",
   "execution_count": null,
   "id": "5751b855-a579-4f7e-938d-88bfc65b7e73",
   "metadata": {},
   "outputs": [],
   "source": [
    "%%time\n",
    "\n",
    "hx, hz = (-1.05, 0.5)\n",
    "bc = 'c'\n",
    "sizes = [8, 10, 12]#, 14] # kernel crashes at 14: maybe raise stack limit?\n",
    "opers = ['x', 'y', 'z']\n",
    "values = {\n",
    "    'Pauli' : [],\n",
    "    'vals' : [],\n",
    "    'L' : [],\n",
    "    'E' : [],\n",
    "    'n' : [],\n",
    "}\n",
    "sector = { str(e): [] for e in sizes }\n",
    "\n",
    "for L in sizes:\n",
    "\n",
    "    job = dict(\n",
    "        oper=models.tfim_z.H_dense,\n",
    "        oper_params={\n",
    "            'L' : L,\n",
    "            'h' : hx,\n",
    "            'hz': hz,\n",
    "            'bc': bc,\n",
    "        },\n",
    "        solver=np.linalg.eigh,\n",
    "        solver_params={},\n",
    "    )\n",
    "    evals, evecs = data.jobs.obtain(**job)\n",
    "    # cyclic permutation by translation operator\n",
    "    perm = np.arange(L)\n",
    "    perm += 1\n",
    "    perm[-1] = 0\n",
    "    # identify vectors in k=0 sector\n",
    "    for i in range(evals.size):\n",
    "        if np.allclose(np.inner(evecs[:, i], \n",
    "            basis.schmidt.permute(evecs[:, i], [], L, perm=perm)\n",
    "        ), 1):\n",
    "            sector[str(L)].append(i)\n",
    "    # Now calculate expectation values\n",
    "    for which in opers:\n",
    "        for i in sector[str(L)]:\n",
    "            tevals = np.zeros(2 ** L, dtype='complex')\n",
    "            tevals[i] = 1\n",
    "            cevecs = (tevals * evecs).T.astype('complex')\n",
    "            values['vals'].append(\n",
    "                measure.evolve.Pauli_ev(\n",
    "                    L=L, Nstp=1, which=which, cevecs=cevecs, tevals=tevals,\n",
    "                    num_threads=4\n",
    "                )\n",
    "            )\n",
    "            values['L'].append(L)\n",
    "            values['n'].append(i)\n",
    "            values['E'].append(evals[i])\n",
    "            values['Pauli'].append(which)\n",
    "df = pd.DataFrame(values)"
   ]
  },
  {
   "cell_type": "code",
   "execution_count": null,
   "id": "633d6fa9-511d-454d-a610-1385dfda78c4",
   "metadata": {},
   "outputs": [],
   "source": [
    "fig, axes = plt.subplots(1, len(opers))\n",
    "for i, ax in enumerate(axes):\n",
    "    for L in sizes:\n",
    "        ax.plot(\n",
    "            df[(df.L == L) & (df.Pauli == opers[i])].E.values / L,\n",
    "            df[(df.L == L) & (df.Pauli == opers[i])].vals.values,\n",
    "            label=f'$L={L}$', alpha=0.8\n",
    "        )\n",
    "    ax.set_title(f'$\\\\sigma_0^{opers[i]}$')\n",
    "    ax.set_xlabel('$\\\\epsilon_n / L$')\n",
    "    ax.set_ylabel('$\\\\langle \\\\sigma_0^{opers[i]} \\\\rangle_n$')\n",
    "    ax.legend()\n",
    "fig.set_size_inches(9, 6)\n",
    "fig.tight_layout()"
   ]
  },
  {
   "cell_type": "markdown",
   "id": "65a74b1f-bc6e-489c-908c-28a2c0df7bf6",
   "metadata": {},
   "source": [
    "If I reason too much about these plots, my brain might pop, but we can describe\n",
    "some of what is going on. In the $\\sigma^z$ plot, higher energies correspond\n",
    "to less magnetic correlation of the first spin, while near the ground state\n",
    "the first site is much more likely to point up to align with the parallel\n",
    "and interaction terms in the Hamiltonian. As before $\\sigma^y$ vanishes, and\n",
    "so $\\sigma^x$ remains, and it simply grows with the energy, almost equal and\n",
    "opposite $\\sigma^z$, as the higher energy states are aligning with the transverse\n",
    "field.\n",
    "\n",
    "In general, as a function of $L$, it appears that all the expectation values\n",
    "don't change with $L$ in this data. I think I can see that the yellow\n",
    "is noisier than the green, so maybe the variance is decreasing as $L$ increases.\n",
    "From ETH behavior, we would expect that larger systems thermalize faster, and\n",
    "that the expectation values become more predictable."
   ]
  },
  {
   "cell_type": "markdown",
   "id": "3bd81dde-dc90-49e2-8ec0-67ad84b7f0f4",
   "metadata": {},
   "source": [
    "## Entropic signature of thermalization\n",
    "\n",
    "Let's also get the half-system entanglement entropy of the $k=0$ momentum\n",
    "eigenstates:"
   ]
  },
  {
   "cell_type": "code",
   "execution_count": null,
   "id": "34d13ec0-20f0-4bfb-b525-252e13068ef5",
   "metadata": {},
   "outputs": [],
   "source": [
    "entropx = dict(L=[], S=[], E=[], n=[])\n",
    "\n",
    "for L in sizes:\n",
    "\n",
    "    job = dict(\n",
    "        oper=models.tfim_z.H_dense,\n",
    "        oper_params={\n",
    "            'L' : L,\n",
    "            'h' : hx,\n",
    "            'hz': hz,\n",
    "            'bc': bc,\n",
    "        },\n",
    "        solver=np.linalg.eigh,\n",
    "        solver_params={},\n",
    "    )\n",
    "    evals, evecs = data.jobs.obtain(**job)\n",
    "    for i in sector[str(L)]:\n",
    "        entropx['L'].append(L)\n",
    "        entropx['n'].append(i)\n",
    "        entropx['E'].append(evals[i])\n",
    "        entropx['S'].append(\n",
    "            measure.entropy.entanglement(basis.schmidt.values(\n",
    "                evecs[:, i], np.arange(L // 2), L\n",
    "            ))\n",
    "        )\n",
    "        \n",
    "df = pd.DataFrame(entropx)"
   ]
  },
  {
   "cell_type": "code",
   "execution_count": null,
   "id": "04c5a67b-bcaa-41eb-9df7-fee618e0b5f0",
   "metadata": {},
   "outputs": [],
   "source": [
    "fig, ax = plt.subplots()\n",
    "for L in sizes:\n",
    "    ax.plot(df[df.L == L].E.values / L, df[df.L == L].S.values / L, label=f'$L={L}$')\n",
    "ax.set_title('Entanglement entropy')\n",
    "ax.set_xlabel('$\\\\epsilon_n / L$')\n",
    "ax.set_ylabel('$S_{L/2} / L$')\n",
    "ax.legend()\n",
    "plt.show()"
   ]
  },
  {
   "cell_type": "markdown",
   "id": "a96bd667-acbc-4d65-9873-6bc22afb2027",
   "metadata": {},
   "source": [
    "It appears that the entropy is minimized at the band edges and maximized in the\n",
    "center of the spectrum in the $k=0$ momentum sector.\n",
    "Also, the entropy, which we have normalized by the system size no longer appears\n",
    "to depend strongly on $L$, so we have found something more or less scale invariant.\n",
    "I believe this graphic is consistent with our exploration of area law and volume\n",
    "law scaling of the entanglement entropy."
   ]
  }
 ],
 "metadata": {
  "kernelspec": {
   "display_name": "Python 3",
   "language": "python",
   "name": "python3"
  },
  "language_info": {
   "codemirror_mode": {
    "name": "ipython",
    "version": 3
   },
   "file_extension": ".py",
   "mimetype": "text/x-python",
   "name": "python",
   "nbconvert_exporter": "python",
   "pygments_lexer": "ipython3",
   "version": "3.7.9"
  }
 },
 "nbformat": 4,
 "nbformat_minor": 5
}
