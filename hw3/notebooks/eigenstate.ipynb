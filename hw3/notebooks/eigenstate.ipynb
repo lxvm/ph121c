{
 "cells": [
  {
   "cell_type": "markdown",
   "id": "c9dd5f4f-36f4-449c-b0d5-68864bb2f4d1",
   "metadata": {},
   "source": [
    "# Eigenstate ETH\n",
    "\n",
    "$\\require{physics}$\n"
   ]
  },
  {
   "cell_type": "markdown",
   "id": "3f325a88-a53d-4d8f-acd6-1fd714e27b42",
   "metadata": {},
   "source": [
    "## Observables in excited states"
   ]
  },
  {
   "cell_type": "markdown",
   "id": "3bd81dde-dc90-49e2-8ec0-67ad84b7f0f4",
   "metadata": {},
   "source": [
    "## Entropic signature of thermalization"
   ]
  },
  {
   "cell_type": "code",
   "execution_count": null,
   "id": "2919d13f-1aa8-44fe-be8f-3f76de2db4dc",
   "metadata": {},
   "outputs": [],
   "source": []
  }
 ],
 "metadata": {
  "kernelspec": {
   "display_name": "Python 3",
   "language": "python",
   "name": "python3"
  },
  "language_info": {
   "codemirror_mode": {
    "name": "ipython",
    "version": 3
   },
   "file_extension": ".py",
   "mimetype": "text/x-python",
   "name": "python",
   "nbconvert_exporter": "python",
   "pygments_lexer": "ipython3",
   "version": "3.7.9"
  }
 },
 "nbformat": 4,
 "nbformat_minor": 5
}
