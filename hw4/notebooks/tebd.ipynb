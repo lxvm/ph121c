{
 "cells": [
  {
   "cell_type": "markdown",
   "id": "f22d706b-e0c2-4524-afa8-73b9f54cf445",
   "metadata": {},
   "source": [
    "# Quench dynamics in the MBL phase\n",
    "\n",
    "$\\require{physics}$"
   ]
  },
  {
   "cell_type": "code",
   "execution_count": null,
   "id": "2c685188-aef4-4f07-b314-c0c1e31637ce",
   "metadata": {},
   "outputs": [],
   "source": [
    "from copy import deepcopy\n",
    "\n",
    "import numpy as np\n",
    "import pandas as pd\n",
    "from scipy.linalg import expm\n",
    "import matplotlib.pyplot as plt\n",
    "%matplotlib inline\n",
    "\n",
    "from ph121c_lxvm import tensor, measure"
   ]
  },
  {
   "cell_type": "markdown",
   "id": "3e56e0ec-5fc8-4c63-bab3-670e646414d8",
   "metadata": {},
   "source": [
    "## Summary\n",
    "\n",
    "We will again evolve this quantum state\n",
    "\\begin{align}\n",
    "    \\ket{\\psi(t=0)} = \\ket{\\xi} \\otimes \\cdots \\otimes \\ket{\\xi}\n",
    "    ,\n",
    "\\end{align}\n",
    "where $\\ket{\\xi} = \\frac{1}{2} \\left( \\ket{\\uparrow} - \\sqrt{3} \\ket{\\downarrow} \\right)$."
   ]
  },
  {
   "cell_type": "code",
   "execution_count": null,
   "id": "12f942a9-749b-4ae6-b743-587e48bb8c65",
   "metadata": {},
   "outputs": [],
   "source": [
    "# Build initial state\n",
    "down = np.array([1., 0.]).reshape(2, 1)\n",
    "up   = down[::-1].reshape((2, 1))\n",
    "ξ = (up - np.sqrt(3) * down) / 2\n",
    "\n",
    "def make_wave (L, d):\n",
    "    \"\"\"Create the inital wavefunctions.\"\"\"\n",
    "    ψ = tensor.mps(L=L, d=d)\n",
    "    ψ.from_arr([ ξ for _ in range(L) ], center=-1)  \n",
    "    return ψ"
   ]
  },
  {
   "cell_type": "markdown",
   "id": "3058e028-bd71-4714-b299-f06af58a0c69",
   "metadata": {},
   "source": [
    "Measuring the half-system entanglement entropy:"
   ]
  },
  {
   "cell_type": "code",
   "execution_count": null,
   "id": "6d315ad3-f1c4-40ea-9670-cf18875a6423",
   "metadata": {},
   "outputs": [],
   "source": [
    "def eentropy (tren, i):\n",
    "    \"\"\"Calculate the entanglement entropy at a cut between quanta i, i+1.\"\"\"\n",
    "    tren.groupby_quanta_tag([i])\n",
    "    u, s, vh = np.linalg.svd(tren.center.mat)\n",
    "    return measure.entropy.entanglement(s)"
   ]
  },
  {
   "cell_type": "markdown",
   "id": "d0a49f21-ff6f-4861-b590-6182770977d5",
   "metadata": {},
   "source": [
    "We will use the following TFIM Hamiltonian with open boundary conditions\n",
    "parametrized by random coefficients $h_i^x, h_i^z \\sim U(-W, W)$:\n",
    "$$\n",
    "    H = \n",
    "        -\\sum_{i=1}^{L-1} \\sigma_i^z \\sigma_{i+1}^z\n",
    "        -\\sum_{i=1}^L h_i^x \\sigma_i^x \n",
    "        -\\sum_{i=1}^L h_i^z \\sigma_i^z \n",
    "    .\n",
    "$$"
   ]
  },
  {
   "cell_type": "code",
   "execution_count": null,
   "id": "26579f54-9832-4908-858e-93d2e654e0dc",
   "metadata": {},
   "outputs": [],
   "source": [
    "sx = np.array([[0, 1], [1, 0]])\n",
    "sy = np.array([[0, -1j], [1j, 0]])\n",
    "sz = np.diag([1, -1])\n",
    "\n",
    "# Build pieces of Hamiltonian in gate representation\n",
    "def build_pieces_of_H (L, d, W, seed):\n",
    "    \"\"\"Build the field, odd, and even term Hamiltonians and also their union.\"\"\"\n",
    "    rng = np.random.default_rng(seed=seed)\n",
    "    H_field = np.empty(L, dtype='O')\n",
    "    for i in range(H_field.size):\n",
    "        H_field[i] = tensor.mpo(L=L, d=d)\n",
    "        H_field[i].set_local_oper(\n",
    "            -(rng.random((-W, W)) * sx + rng.random((-W, W)) * sz), i + 1\n",
    "        )\n",
    "    H_odd = np.empty(L//2, dtype='O')\n",
    "    for i in range(H_odd.size):\n",
    "        H_odd[i] = tensor.mpo(L=L, d=d)\n",
    "        H_odd[i].set_local_oper(-sz, 2*i + 1)\n",
    "        H_odd[i].set_local_oper(sz, 2*i + 1 + 1)\n",
    "    H_even = np.empty(L//2 - 1 + L%2, dtype='O')\n",
    "    for i in range(H_even.size):\n",
    "        H_even[i] = tensor.mpo(L=L, d=d)\n",
    "        H_even[i].set_local_oper(-sz, 2*(i + 1))\n",
    "        H_even[i].set_local_oper(sz, 2*(i + 1) + 1)\n",
    "    H_full = np.array([*H_field, *H_odd, *H_even], dtype='O')\n",
    "    return (H_field, H_odd, H_even, H_full)\n",
    "\n",
    "\n",
    "# Construct propagators\n",
    "def build_propagators (L, d, δτ, H_field, H_odd, H_even):\n",
    "    \"\"\"Exponentiate each non-commuting piece of the Hamiltonian\"\"\"\n",
    "    U_field = tensor.mpo(L=L, d=d)\n",
    "    for i, e in enumerate(H_field):\n",
    "        U_field.set_local_oper(expm(- 1.j * δτ * e[0].mat), i+1)\n",
    "    U_odd = tensor.mpo(L=L, d=d)\n",
    "    for i, e in enumerate(H_odd):\n",
    "        U_odd.set_local_oper(\n",
    "            expm(- 1.j * δτ * np.kron(e[1].mat, e[0].mat)),\n",
    "            2 * i + 1\n",
    "        )\n",
    "    U_even = tensor.mpo(L=L, d=d)\n",
    "    for i, e in enumerate(H_even):\n",
    "        U_even.set_local_oper(\n",
    "            expm(- 1.j * δτ * np.kron(e[1].mat, e[0].mat)),\n",
    "            2 * (i + 1)\n",
    "        )\n",
    "    return (U_field, U_odd, U_even)\n",
    "\n"
   ]
  },
  {
   "cell_type": "markdown",
   "id": "c06241c0-93bd-4608-bdd0-e3da5029295a",
   "metadata": {},
   "source": [
    "## Evolution\n",
    "\n",
    "We will evolve the state in real time and measure the entanglement entropy\n",
    "at each time step.\n",
    "The goal is to observe the MBL physics of this Hamiltonian through the\n",
    "logarithmic growth of the entanglement entropy."
   ]
  },
  {
   "cell_type": "code",
   "execution_count": null,
   "id": "c8433d75-198a-49b3-a4a0-bc6d170dc869",
   "metadata": {},
   "outputs": [],
   "source": [
    "W = 3\n",
    "L = 64\n",
    "d = 2\n",
    "hx = 1.05\n",
    "hz = 0.5\n",
    "δτ = 0.1\n",
    "N = 50\n",
    "seeds = [935, 483, 102, 567, 304]"
   ]
  },
  {
   "cell_type": "code",
   "execution_count": null,
   "id": "0f151f67-b6ab-4736-bee5-43004c21d469",
   "metadata": {},
   "outputs": [],
   "source": [
    "ψ = make_wave(L=L, d=d)\n",
    "# Data structure to save results\n",
    "ψ_results = dict(S=[], seed=[], n=[])"
   ]
  },
  {
   "cell_type": "code",
   "execution_count": null,
   "id": "34db2e85-e540-485b-9bcd-a2e42d042d8b",
   "metadata": {},
   "outputs": [],
   "source": [
    "%%time\n",
    "chi = 16\n",
    "Nstp = 20\n",
    "for seed in seeds:\n",
    "    H_field, H_odd, H_even, H_full = build_pieces_of_H(\n",
    "        L=L, d=d, W=W, seed=seed\n",
    "    )\n",
    "    U_field, U_odd, U_even = build_propagators(\n",
    "        L=L, d=d, δτ=δτ, H_field=H_field, H_odd=H_odd, H_even=H_even\n",
    "    )\n",
    "    wave = deepcopy(ψ)\n",
    "    # TEBD pattern\n",
    "    for i in range(Nstp):\n",
    "        for e in [U_field, U_even, U_odd]:\n",
    "            e.oper(wave, inplace=True)\n",
    "        wave.canonize(center=-1)\n",
    "#         wave.trim_bonds(chi)\n",
    "        wave.normalize()\n",
    "        # measure entropy\n",
    "        ψ_results['S'].append(eentropy(wave, L//2))\n",
    "        ψ_results['n'].append(i)\n",
    "        ψ_results['seed'].append(seed)"
   ]
  },
  {
   "cell_type": "markdown",
   "id": "398dc18b-9e1f-4809-949f-17d3f9aae912",
   "metadata": {},
   "source": [
    "## Plots\n",
    "\n",
    "Here we will plot the entanglement entropy as a function of time for all\n",
    "the disorder realizations."
   ]
  },
  {
   "cell_type": "code",
   "execution_count": null,
   "id": "808bf68d-8dfc-43bb-96d1-764927922296",
   "metadata": {},
   "outputs": [],
   "source": [
    "df = pd.DataFrame(ψ_results)"
   ]
  },
  {
   "cell_type": "code",
   "execution_count": null,
   "id": "ceba2ee1-7639-48a7-ad64-4ad1af16627f",
   "metadata": {},
   "outputs": [],
   "source": [
    "# nrow = len(graphs)\n",
    "# ncol = len(opers)\n",
    "# fig, axes = plt.subplots(nrow, ncol)\n",
    "# for i, row in enumerate(axes):\n",
    "#     for j, ax in enumerate(row):\n",
    "#         for k in range(Navg):\n",
    "#             ax.plot(\n",
    "#                 np.arange(Nstp)*dt,\n",
    "#                 df[(df.Pauli == opers[j]) & (df.L == graphs[i]) & (df.i == k)\n",
    "#                 ].vals.values[0], alpha=0.3\n",
    "#             )\n",
    "#         ax.plot(\n",
    "#             np.arange(Nstp)*dt,\n",
    "#             np.mean(df[(df.Pauli == opers[j]) & (df.L == graphs[i])].vals.values)\n",
    "#         )\n",
    "#         ax.axhline(np.mean(observe[opers[j]][i*Navg:(i+1)*Navg]))\n",
    "#         ax.set_title(f\"$\\sigma_0^{opers[j]}, L={graphs[i]}$\")\n",
    "#         ax.set_xlabel('t')\n",
    "#         ax.set_ylabel(f\"$\\\\langle \\sigma_0^{opers[j]} (t) \\\\rangle$\")\n",
    "# fig.set_size_inches(9, 9)\n",
    "# fig.tight_layout()\n",
    "# plt.show()"
   ]
  }
 ],
 "metadata": {
  "kernelspec": {
   "display_name": "Python 3",
   "language": "python",
   "name": "python3"
  },
  "language_info": {
   "codemirror_mode": {
    "name": "ipython",
    "version": 3
   },
   "file_extension": ".py",
   "mimetype": "text/x-python",
   "name": "python",
   "nbconvert_exporter": "python",
   "pygments_lexer": "ipython3",
   "version": "3.7.9"
  }
 },
 "nbformat": 4,
 "nbformat_minor": 5
}
