{
 "cells": [
  {
   "cell_type": "markdown",
   "id": "f22d706b-e0c2-4524-afa8-73b9f54cf445",
   "metadata": {},
   "source": [
    "# Quench dynamics in the MBL phase\n",
    "\n",
    "$\\require{physics}$"
   ]
  },
  {
   "cell_type": "code",
   "execution_count": null,
   "id": "2c685188-aef4-4f07-b314-c0c1e31637ce",
   "metadata": {},
   "outputs": [],
   "source": [
    "from copy import deepcopy\n",
    "\n",
    "import numpy as np\n",
    "import pandas as pd\n",
    "from scipy.linalg import expm\n",
    "import matplotlib.pyplot as plt\n",
    "%matplotlib inline\n",
    "\n",
    "from ph121c_lxvm import tensor, measure"
   ]
  },
  {
   "cell_type": "markdown",
   "id": "3e56e0ec-5fc8-4c63-bab3-670e646414d8",
   "metadata": {},
   "source": [
    "## Summary\n",
    "\n",
    "We will again evolve this quantum state\n",
    "\\begin{align}\n",
    "    \\ket{\\psi(t=0)} = \\ket{\\xi} \\otimes \\cdots \\otimes \\ket{\\xi}\n",
    "    ,\n",
    "\\end{align}\n",
    "where $\\ket{\\xi} = \\frac{1}{2} \\left( \\ket{\\uparrow} - \\sqrt{3} \\ket{\\downarrow} \\right)$."
   ]
  },
  {
   "cell_type": "code",
   "execution_count": null,
   "id": "12f942a9-749b-4ae6-b743-587e48bb8c65",
   "metadata": {},
   "outputs": [],
   "source": [
    "# Build initial state\n",
    "down = np.array([1., 0.]).reshape(2, 1)\n",
    "up   = down[::-1].reshape((2, 1))\n",
    "ξ = (up - np.sqrt(3) * down) / 2\n",
    "\n",
    "def make_wave (L, d):\n",
    "    \"\"\"Create the inital wavefunctions.\"\"\"\n",
    "    ψ = tensor.mps(L=L, d=d)\n",
    "    ψ.from_arr([ ξ for _ in range(L) ], center=-1)  \n",
    "    return ψ"
   ]
  },
  {
   "cell_type": "markdown",
   "id": "3058e028-bd71-4714-b299-f06af58a0c69",
   "metadata": {},
   "source": [
    "Measuring the half-system entanglement entropy:"
   ]
  },
  {
   "cell_type": "code",
   "execution_count": null,
   "id": "6d315ad3-f1c4-40ea-9670-cf18875a6423",
   "metadata": {},
   "outputs": [],
   "source": [
    "def eentropy (tren, i):\n",
    "    \"\"\"Calculate the entanglement entropy at a cut between quanta i, i+1.\"\"\"\n",
    "    tren.groupby_quanta_tag([i])\n",
    "    u, s, vh = np.linalg.svd(tren.center.mat)\n",
    "    return measure.entropy.entanglement(s)"
   ]
  },
  {
   "cell_type": "markdown",
   "id": "d0a49f21-ff6f-4861-b590-6182770977d5",
   "metadata": {},
   "source": [
    "We will use the following TFIM Hamiltonian with open boundary conditions\n",
    "parametrized by random coefficients $h_i^x, h_i^z \\sim U(-W, W)$:\n",
    "$$\n",
    "    H = \n",
    "        -\\sum_{i=1}^{L-1} \\sigma_i^z \\sigma_{i+1}^z\n",
    "        -\\sum_{i=1}^L h_i^x \\sigma_i^x \n",
    "        -\\sum_{i=1}^L h_i^z \\sigma_i^z \n",
    "    .\n",
    "$$"
   ]
  },
  {
   "cell_type": "code",
   "execution_count": null,
   "id": "26579f54-9832-4908-858e-93d2e654e0dc",
   "metadata": {},
   "outputs": [],
   "source": [
    "sx = np.array([[0, 1], [1, 0]])\n",
    "sy = np.array([[0, -1j], [1j, 0]])\n",
    "sz = np.diag([1, -1])\n",
    "\n",
    "# Build pieces of Hamiltonian in gate representation\n",
    "def build_pieces_of_H (L, d, W, seed):\n",
    "    \"\"\"Build the field, odd, and even term Hamiltonians and also their union.\"\"\"\n",
    "    rng = np.random.default_rng(seed=seed)\n",
    "    H_field = np.empty(L, dtype='O')\n",
    "    for i in range(H_field.size):\n",
    "        H_field[i] = tensor.mpo(L=L, d=d)\n",
    "        H_field[i].set_local_oper(\n",
    "            -(rng.uniform(-W, W) * sx + rng.uniform(-W, W) * sz), i + 1\n",
    "        )\n",
    "    H_odd = np.empty(L//2, dtype='O')\n",
    "    for i in range(H_odd.size):\n",
    "        H_odd[i] = tensor.mpo(L=L, d=d)\n",
    "        H_odd[i].set_local_oper(-sz, 2*i + 1)\n",
    "        H_odd[i].set_local_oper(sz, 2*i + 1 + 1)\n",
    "    H_even = np.empty(L//2 - 1 + L%2, dtype='O')\n",
    "    for i in range(H_even.size):\n",
    "        H_even[i] = tensor.mpo(L=L, d=d)\n",
    "        H_even[i].set_local_oper(-sz, 2*(i + 1))\n",
    "        H_even[i].set_local_oper(sz, 2*(i + 1) + 1)\n",
    "    H_full = np.array([*H_field, *H_odd, *H_even], dtype='O')\n",
    "    return (H_field, H_odd, H_even, H_full)\n",
    "\n",
    "\n",
    "# Construct propagators\n",
    "def build_propagators (L, d, δτ, H_field, H_odd, H_even):\n",
    "    \"\"\"Exponentiate each non-commuting piece of the Hamiltonian\"\"\"\n",
    "    U_field = tensor.mpo(L=L, d=d)\n",
    "    for i, e in enumerate(H_field):\n",
    "        U_field.set_local_oper(expm(- 1.j * δτ * e[0].mat), i+1)\n",
    "    U_odd = tensor.mpo(L=L, d=d)\n",
    "    for i, e in enumerate(H_odd):\n",
    "        U_odd.set_local_oper(\n",
    "            expm(- 1.j * δτ * np.kron(e[1].mat, e[0].mat)),\n",
    "            2 * i + 1\n",
    "        )\n",
    "    U_even = tensor.mpo(L=L, d=d)\n",
    "    for i, e in enumerate(H_even):\n",
    "        U_even.set_local_oper(\n",
    "            expm(- 1.j * δτ * np.kron(e[1].mat, e[0].mat)),\n",
    "            2 * (i + 1)\n",
    "        )\n",
    "    return (U_field, U_odd, U_even)\n",
    "\n"
   ]
  },
  {
   "cell_type": "code",
   "execution_count": null,
   "id": "1d55edfa-9692-4c94-9844-7c9c8935c7b9",
   "metadata": {},
   "outputs": [],
   "source": [
    "def make_observables (L, d):\n",
    "    \"\"\"Create the observable operators of interest.\"\"\"\n",
    "    s1x = tensor.mpo(L=L, d=d)\n",
    "    s1x.set_local_oper(sx, 1)\n",
    "    sL2x = tensor.mpo(L=L, d=d)\n",
    "    sL2x.set_local_oper(sx, L//2)\n",
    "    s1z = tensor.mpo(L=L, d=d)\n",
    "    s1z.set_local_oper(sz, 1)\n",
    "    sL2z = tensor.mpo(L=L, d=d)\n",
    "    sL2z.set_local_oper(sz, L//2)\n",
    "    return (s1x, sL2x, s1z, sL2z)"
   ]
  },
  {
   "cell_type": "markdown",
   "id": "c06241c0-93bd-4608-bdd0-e3da5029295a",
   "metadata": {},
   "source": [
    "## Evolution\n",
    "\n",
    "We will evolve the state in real time and measure the entanglement entropy\n",
    "at each time step.\n",
    "The goal is to observe the MBL physics of this Hamiltonian through the\n",
    "logarithmic growth of the entanglement entropy."
   ]
  },
  {
   "cell_type": "code",
   "execution_count": null,
   "id": "c8433d75-198a-49b3-a4a0-bc6d170dc869",
   "metadata": {},
   "outputs": [],
   "source": [
    "W = 3\n",
    "L = 24\n",
    "d = 2\n",
    "δτ = 0.1\n",
    "N = 20\n",
    "seeds = [935, 483, 102, 567, 304]"
   ]
  },
  {
   "cell_type": "code",
   "execution_count": null,
   "id": "34db2e85-e540-485b-9bcd-a2e42d042d8b",
   "metadata": {},
   "outputs": [],
   "source": [
    "%%time\n",
    "chi = 16\n",
    "Nstp = 20\n",
    "ψ = make_wave(L=L, d=d)\n",
    "ψ_results = dict(t=[], S=[], s1x=[], sL2x=[], s1z=[], sL2z=[], seed=[])\n",
    "for seed in seeds:\n",
    "    H_field, H_odd, H_even, H_full = build_pieces_of_H(\n",
    "        L=L, d=d, W=W, seed=seed\n",
    "    )\n",
    "    U_field, U_odd, U_even = build_propagators(\n",
    "        L=L, d=d, δτ=δτ, H_field=H_field, H_odd=H_odd, H_even=H_even\n",
    "    )\n",
    "    wave = deepcopy(ψ)\n",
    "    s1x, sL2x, s1z, sL2z = make_observables(L=L, d=d)\n",
    "    ψ_results['t'].append(0)\n",
    "    ψ_results['seed'].append(seed)\n",
    "    ψ_results['S'].append(eentropy(ψ, L//2))\n",
    "    ψ_results['s1x'].append(s1x.expval(ψ))\n",
    "    ψ_results['sL2x'].append(sL2x.expval(ψ))\n",
    "    ψ_results['s1z'].append(s1z.expval(ψ))\n",
    "    ψ_results['sL2z'].append(sL2z.expval(ψ))\n",
    "    # TEBD pattern\n",
    "    for i in range(N):\n",
    "        for e in [U_field, U_even, U_odd]:\n",
    "            e.oper(wave, inplace=True)\n",
    "        wave.trim_bonds(chi)\n",
    "        wave.normalize()\n",
    "        # measure entropy\n",
    "        ψ_results['t'].append(δτ * (i + 1))\n",
    "        ψ_results['seed'].append(seed)\n",
    "        ψ_results['S'].append(eentropy(ψ, L//2))\n",
    "        ψ_results['s1x'].append(s1x.expval(ψ))\n",
    "        ψ_results['sL2x'].append(sL2x.expval(ψ))\n",
    "        ψ_results['s1z'].append(s1z.expval(ψ))\n",
    "        ψ_results['sL2z'].append(sL2z.expval(ψ))"
   ]
  },
  {
   "cell_type": "markdown",
   "id": "398dc18b-9e1f-4809-949f-17d3f9aae912",
   "metadata": {},
   "source": [
    "## Plots\n",
    "\n",
    "Here we will plot the entanglement entropy as a function of time for all\n",
    "the disorder realizations."
   ]
  },
  {
   "cell_type": "code",
   "execution_count": null,
   "id": "808bf68d-8dfc-43bb-96d1-764927922296",
   "metadata": {},
   "outputs": [],
   "source": [
    "df = pd.DataFrame(ψ_results)"
   ]
  },
  {
   "cell_type": "code",
   "execution_count": null,
   "id": "feaf40ce-e148-4641-82d1-66f9eb246dcb",
   "metadata": {},
   "outputs": [],
   "source": [
    "fig, ax = plt.subplots()\n",
    "# grp = df.groupby(['L', 't']).mean().reset_index()\n",
    "for k, seed in enumerate(seeds):\n",
    "    which = (df.seed == seed)\n",
    "    ax.plot(\n",
    "        df.t[which].values, df.S[which].values,\n",
    "        label=f'$\\\\chi={chi}$'\n",
    "    )\n",
    "grp = df.groupby(['t']).mean().reset_index()\n",
    "# ax.plot(np.arange(N) * δτ, np.mean(df.S))\n",
    "ax.set_title('$S_{L/2}$')\n",
    "ax.set_xlabel('time')\n",
    "ax.set_ylabel('$S_{L/2}$')\n",
    "ax.legend()\n",
    "fig.tight_layout()\n",
    "plt.show()"
   ]
  },
  {
   "cell_type": "markdown",
   "id": "cb93dea8-bfab-44e9-bb17-da22de2fc503",
   "metadata": {},
   "source": [
    "Compared to the previous Hamiltonian, the entropy here does not spike, but\n",
    "steadily increases, which seems to be the signature of the MBL phase.\n",
    "\n",
    "I have plotted 5 disorder realizations and believe that it's not too\n",
    "hard to imagine the average.\n",
    "\n",
    "I also got some data of the observables, but I am about to fall asleep,\n",
    "so instead here are the values averaged over the disorder realizations:"
   ]
  },
  {
   "cell_type": "code",
   "execution_count": null,
   "id": "42ffa268-cae6-42a7-a731-f35255ea10d2",
   "metadata": {},
   "outputs": [],
   "source": [
    "grp"
   ]
  },
  {
   "cell_type": "code",
   "execution_count": null,
   "id": "03d11e0b-7344-4ad5-b8f4-05ffb6ad8669",
   "metadata": {},
   "outputs": [],
   "source": []
  }
 ],
 "metadata": {
  "kernelspec": {
   "display_name": "Python 3",
   "language": "python",
   "name": "python3"
  },
  "language_info": {
   "codemirror_mode": {
    "name": "ipython",
    "version": 3
   },
   "file_extension": ".py",
   "mimetype": "text/x-python",
   "name": "python",
   "nbconvert_exporter": "python",
   "pygments_lexer": "ipython3",
   "version": "3.7.9"
  }
 },
 "nbformat": 4,
 "nbformat_minor": 5
}
