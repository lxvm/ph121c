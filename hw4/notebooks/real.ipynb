{
 "cells": [
  {
   "cell_type": "markdown",
   "id": "a3f023e0-3b24-456c-8d3e-562e572c6091",
   "metadata": {},
   "source": [
    "# Real Time Evolution\n",
    "\n",
    "$\\require{physics}$"
   ]
  },
  {
   "cell_type": "code",
   "execution_count": null,
   "id": "811b2fa7-0b79-4d21-91b5-452f5991b5df",
   "metadata": {},
   "outputs": [],
   "source": [
    "from copy import deepcopy\n",
    "\n",
    "import numpy as np\n",
    "import pandas as pd\n",
    "from scipy.linalg import expm\n",
    "import matplotlib.pyplot as plt\n",
    "%matplotlib inline\n",
    "\n",
    "from ph121c_lxvm import tensor, measure"
   ]
  },
  {
   "cell_type": "markdown",
   "id": "3e3dd5ce-152e-4d44-90ff-c645ec97b5d7",
   "metadata": {},
   "source": [
    "## Summary\n",
    "\n",
    "In this notebook, we will evolve a quantum state\n",
    "\\begin{align}\n",
    "    \\ket{\\psi(t=0)} = \\ket{\\xi} \\otimes \\cdots \\otimes \\ket{\\xi}\n",
    "    ,\n",
    "\\end{align}\n",
    "where $\\ket{\\xi} = \\frac{1}{2} \\left( \\ket{\\uparrow} - \\sqrt{3} \\ket{\\downarrow} \\right)$.\n",
    "We will also evolve a second product state to compare against:\n",
    "\\begin{align}\n",
    "    \\ket{\\psi (t=0)}\n",
    "        &= \\ket{\\uparrow} \\otimes \\ket{\\downarrow} \\otimes \\cdots\n",
    "    .\n",
    "\\end{align}"
   ]
  },
  {
   "cell_type": "code",
   "execution_count": null,
   "id": "223e56c3-c0d3-4f7f-b1a9-4479a206c98b",
   "metadata": {},
   "outputs": [],
   "source": [
    "# Build initial state\n",
    "down = np.array([1., 0.]).reshape(2, 1)\n",
    "up   = down[::-1].reshape((2, 1))\n",
    "ξ = (up - np.sqrt(3) * down) / 2\n",
    "\n",
    "def make_waves (L, d):\n",
    "    \"\"\"Create the inital wavefunctions.\"\"\"\n",
    "    ψ = tensor.mps(L=L, d=d)\n",
    "    ψ.from_arr([ ξ for _ in range(L) ], center=-1)\n",
    "    assert (L % 2 == 0)\n",
    "    ρ = tensor.mps(L=L, d=d)\n",
    "    wave = []\n",
    "    for i in range(L // 2):\n",
    "        wave.append(up)\n",
    "        wave.append(down)\n",
    "    ρ.from_arr(wave, center=-1)    \n",
    "    return (ψ, ρ)"
   ]
  },
  {
   "cell_type": "markdown",
   "id": "7cbdf3f0-1249-45ba-bc51-fdc97bcdf5da",
   "metadata": {},
   "source": [
    "We will do so while measuring the half-system entanglement entropy, $S_{L/2}$:"
   ]
  },
  {
   "cell_type": "code",
   "execution_count": null,
   "id": "61e82254-ea02-48b9-b5c7-90202fecebef",
   "metadata": {},
   "outputs": [],
   "source": [
    "def eentropy (tren, i):\n",
    "    \"\"\"Calculate the entanglement entropy at a cut between quanta i, i+1.\"\"\"\n",
    "    tren.groupby_quanta_tag([i])\n",
    "    u, s, vh = np.linalg.svd(tren.center.mat)\n",
    "    return measure.entropy.entanglement(s)\n"
   ]
  },
  {
   "cell_type": "markdown",
   "id": "b1f3b86a-31e3-4e26-94b1-08b1a1af645d",
   "metadata": {},
   "source": [
    "and these observables\n",
    "$\\ev{\\sigma_{L/2}^x}, \\ev{\\sigma_1^x}, \\ev{\\sigma_{L/2}^z}, \\ev{\\sigma_1^z}$:\n"
   ]
  },
  {
   "cell_type": "code",
   "execution_count": null,
   "id": "f6a25c3c-8212-4fa4-af9c-128607677bea",
   "metadata": {},
   "outputs": [],
   "source": [
    "sx = np.array([[0, 1], [1, 0]])\n",
    "sy = np.array([[0, -1j], [1j, 0]])\n",
    "sz = np.diag([1, -1])\n",
    "\n",
    "def make_observables (L, d):\n",
    "    \"\"\"Create the observable operators of interest.\"\"\"\n",
    "    s1x = tensor.mpo(L=L, d=d)\n",
    "    s1x.set_local_oper(sx, 1)\n",
    "    sL2x = tensor.mpo(L=L, d=d)\n",
    "    sL2x.set_local_oper(sx, L//2)\n",
    "    s1z = tensor.mpo(L=L, d=d)\n",
    "    s1z.set_local_oper(sz, 1)\n",
    "    sL2z = tensor.mpo(L=L, d=d)\n",
    "    sL2z.set_local_oper(sz, L//2)\n",
    "    return (s1x, sL2x, s1z, sL2z)"
   ]
  },
  {
   "cell_type": "markdown",
   "id": "ec9b032a-407c-4e68-9f7f-105b1cee0866",
   "metadata": {},
   "source": [
    "We will consider the same Hamiltonian as before, now evolving in real time:"
   ]
  },
  {
   "cell_type": "code",
   "execution_count": null,
   "id": "cef912d0-f376-4a43-af2b-783ff4a634f6",
   "metadata": {},
   "outputs": [],
   "source": [
    "# Build pieces of Hamiltonian in gate representation\n",
    "def build_pieces_of_H (L, d, hx, hz):\n",
    "    \"\"\"Build the field, odd, and even term Hamiltonians and also their union.\"\"\"\n",
    "    H_field = np.empty(L, dtype='O')\n",
    "    for i in range(H_field.size):\n",
    "        H_field[i] = tensor.mpo(L=L, d=d)\n",
    "        H_field[i].set_local_oper(-(hx * sx + hz * sz), i + 1)\n",
    "    H_odd = np.empty(L//2, dtype='O')\n",
    "    for i in range(H_odd.size):\n",
    "        H_odd[i] = tensor.mpo(L=L, d=d)\n",
    "        H_odd[i].set_local_oper(-sz, 2*i + 1)\n",
    "        H_odd[i].set_local_oper(sz, 2*i + 1 + 1)\n",
    "    H_even = np.empty(L//2 - 1 + L%2, dtype='O')\n",
    "    for i in range(H_even.size):\n",
    "        H_even[i] = tensor.mpo(L=L, d=d)\n",
    "        H_even[i].set_local_oper(-sz, 2*(i + 1))\n",
    "        H_even[i].set_local_oper(sz, 2*(i + 1) + 1)\n",
    "    H_full = np.array([*H_field, *H_odd, *H_even], dtype='O')\n",
    "    return (H_field, H_odd, H_even, H_full)\n",
    "\n",
    "\n",
    "# Construct propagators\n",
    "def build_propagators (L, d, δτ, H_field, H_odd, H_even):\n",
    "    \"\"\"Exponentiate each non-commuting piece of the Hamiltonian\"\"\"\n",
    "    U_field = tensor.mpo(L=L, d=d)\n",
    "    for i, e in enumerate(H_field):\n",
    "        U_field.set_local_oper(expm(- 1.j * δτ * e[0].mat), i+1)\n",
    "    U_odd = tensor.mpo(L=L, d=d)\n",
    "    for i, e in enumerate(H_odd):\n",
    "        U_odd.set_local_oper(\n",
    "            expm(- 1.j * δτ * np.kron(e[1].mat, e[0].mat)),\n",
    "            2 * i + 1\n",
    "        )\n",
    "    U_even = tensor.mpo(L=L, d=d)\n",
    "    for i, e in enumerate(H_even):\n",
    "        U_even.set_local_oper(\n",
    "            expm(- 1.j * δτ * np.kron(e[1].mat, e[0].mat)),\n",
    "            2 * (i + 1)\n",
    "        )\n",
    "    return (U_field, U_odd, U_even)\n",
    "\n"
   ]
  },
  {
   "cell_type": "markdown",
   "id": "b6712b35-4b38-45e4-9a75-12a72e29ba49",
   "metadata": {},
   "source": [
    "Our goal is to observe how quickly the entanglement entropy grows in time\n",
    "in order to observe the limitations of the validity of our MPS approximation."
   ]
  },
  {
   "cell_type": "markdown",
   "id": "daca2cc7-5b3d-4051-852f-a869666d718e",
   "metadata": {},
   "source": [
    "## Evolution\n",
    "\n",
    "We will evolve the aforementioned states at the system sizes $L=16, 32$\n",
    "for a fixed number $N=20$ of time steps at a step size of $\\delta\\tau=0.05$.\n",
    "At each time step, we measure the entropy and the observables.\n",
    "\n",
    "It would be nice to do a bigger system, but I already demonstrated that\n",
    "my implementation can do these MPS systems up to a size of 100, albeit\n",
    "slowly. I would need MOAR PERFORMANCE to consider letting these big\n",
    "simulations run for bigger chunks time.\n",
    "\n",
    "I wrote code that tried to be general, rather than specific.\n",
    "I suppose there's a performance penalty for all of my argument checking."
   ]
  },
  {
   "cell_type": "code",
   "execution_count": null,
   "id": "bdaf3d93-f407-4bbb-8613-521613bdc68e",
   "metadata": {},
   "outputs": [],
   "source": [
    "d = 2\n",
    "hx = 1.05\n",
    "hz = 0.05\n",
    "δτ = 0.05\n",
    "N = 20"
   ]
  },
  {
   "cell_type": "code",
   "execution_count": null,
   "id": "baca5f86-db65-4257-bb16-297289fb2976",
   "metadata": {},
   "outputs": [],
   "source": [
    "%%time\n",
    "chi_vals = [16, 32, 64]\n",
    "L_list = [16, 32]\n",
    "# Data structure to save results\n",
    "ψ_results = dict(t=[], L=[], S=[], s1x=[], sL2x=[], s1z=[], sL2z=[], chi=[])\n",
    "ρ_results = dict(t=[], L=[], S=[], s1x=[], sL2x=[], s1z=[], sL2z=[], chi=[])\n",
    "for L in L_list:\n",
    "    for chi in chi_vals:\n",
    "        H_field, H_odd, H_even, H_full = build_pieces_of_H(L=L, d=d, hx=hx, hz=hz)\n",
    "        U_field, U_odd, U_even = build_propagators(\n",
    "            L=L, d=d, δτ=δτ, H_field=H_field, H_odd=H_odd, H_even=H_even\n",
    "        )\n",
    "        ψ, ρ = make_waves(L=L, d=d)\n",
    "        s1x, sL2x, s1z, sL2z = make_observables(L=L, d=d)\n",
    "        ψ_results['t'].append(0)\n",
    "        ψ_results['chi'].append(chi)\n",
    "        ψ_results['L'].append(L)\n",
    "        ψ_results['S'].append(eentropy(ψ, L//2))\n",
    "        ψ_results['s1x'].append(s1x.expval(ψ))\n",
    "        ψ_results['sL2x'].append(sL2x.expval(ψ))\n",
    "        ψ_results['s1z'].append(s1z.expval(ψ))\n",
    "        ψ_results['sL2z'].append(sL2z.expval(ψ))\n",
    "        ρ_results['t'].append(0)\n",
    "        ρ_results['chi'].append(chi)\n",
    "        ρ_results['L'].append(L)\n",
    "        ρ_results['S'].append(eentropy(ρ, L//2))\n",
    "        ρ_results['s1x'].append(s1x.expval(ρ))\n",
    "        ρ_results['sL2x'].append(sL2x.expval(ρ))\n",
    "        ρ_results['s1z'].append(s1z.expval(ρ))\n",
    "        ρ_results['sL2z'].append(sL2z.expval(ρ))\n",
    "        for i in range(N):\n",
    "            for e in [U_field, U_even, U_odd]:\n",
    "                e.oper(ψ, inplace=True)\n",
    "                e.oper(ρ, inplace=True)\n",
    "            ψ.trim_bonds(chi)\n",
    "            ρ.trim_bonds(chi)\n",
    "            ψ.normalize()\n",
    "            ρ.normalize()\n",
    "            ψ_results['t'].append(δτ * (i + 1))\n",
    "            ψ_results['chi'].append(chi)\n",
    "            ψ_results['L'].append(L)\n",
    "            ψ_results['S'].append(eentropy(ψ, L//2))\n",
    "            ψ_results['s1x'].append(s1x.expval(ψ))\n",
    "            ψ_results['sL2x'].append(sL2x.expval(ψ))\n",
    "            ψ_results['s1z'].append(s1z.expval(ψ))\n",
    "            ψ_results['sL2z'].append(sL2z.expval(ψ))\n",
    "            ρ_results['t'].append(δτ * (i + 1))\n",
    "            ρ_results['chi'].append(chi)\n",
    "            ρ_results['L'].append(L)\n",
    "            ρ_results['S'].append(eentropy(ρ, L//2))\n",
    "            ρ_results['s1x'].append(s1x.expval(ρ))\n",
    "            ρ_results['sL2x'].append(sL2x.expval(ρ))\n",
    "            ρ_results['s1z'].append(s1z.expval(ρ))\n",
    "            ρ_results['sL2z'].append(sL2z.expval(ρ))\n",
    "            if ((i + 1) % 10 == 0):\n",
    "                print(f'step {i+1} completed at L={L}, chi={chi}')"
   ]
  },
  {
   "cell_type": "markdown",
   "id": "1d0213ab-f539-4c95-b5d2-3d76b8295b42",
   "metadata": {},
   "source": [
    "## Plots\n",
    "\n",
    "Here we will plot all of the observables we have recorded "
   ]
  },
  {
   "cell_type": "code",
   "execution_count": null,
   "id": "3b527723-32a5-4ae4-a5ea-637d55677e56",
   "metadata": {},
   "outputs": [],
   "source": [
    "ψ_results['chi'] = []\n",
    "ρ_results['chi'] = []\n",
    "for L in L_list:\n",
    "    for chi in chi_vals:\n",
    "        for i in range(N+1):\n",
    "            ψ_results['chi'].append(chi)\n",
    "            ρ_results['chi'].append(chi)"
   ]
  },
  {
   "cell_type": "code",
   "execution_count": null,
   "id": "2134ab86-78a5-4a5f-beef-94298d2b846f",
   "metadata": {},
   "outputs": [],
   "source": [
    "df = pd.DataFrame(ψ_results)\n",
    "dp = pd.DataFrame(ρ_results)"
   ]
  },
  {
   "cell_type": "markdown",
   "id": "9ed08a22-48a4-4519-8785-486c6367a997",
   "metadata": {},
   "source": [
    "Let's first show the entropies for different values of $\\chi$"
   ]
  },
  {
   "cell_type": "code",
   "execution_count": null,
   "id": "43ba6451-8081-48d1-a46f-b1b5ac93ad47",
   "metadata": {},
   "outputs": [],
   "source": [
    "nrow, ncol = 2, 2\n",
    "fig, axes = plt.subplots(nrow, ncol)\n",
    "for i, row in enumerate(axes):\n",
    "    dd = [df, dp][i]\n",
    "    names = ('psi', 'rho')\n",
    "    for j, ax in enumerate(row):\n",
    "        for k, chi in enumerate(chi_vals):\n",
    "            which = (dd.L == L_list[j]) & (dd.chi == chi)\n",
    "            ax.plot(\n",
    "                dd.t[which].values, dd.S[which].values,\n",
    "                label=f'$\\\\chi={chi}$'\n",
    "            )\n",
    "            ax.set_title('$S_{L/2}$ of $\\\\' + names[i] + ', L=' + str(L_list[j]) + '$')\n",
    "            ax.set_xlabel('time')\n",
    "            ax.set_ylabel('$S_{L/2}$')\n",
    "            ax.legend(loc='right')\n",
    "fig.tight_layout()\n",
    "plt.show()"
   ]
  },
  {
   "cell_type": "markdown",
   "id": "a299211f-687f-42ac-82ac-64c939d4076e",
   "metadata": {},
   "source": [
    "Seems like the entropies grow rapidly until they hit a peak.\n",
    "What happens afterwards depends on the system size and $\\chi$, but\n",
    "it is clear that either the entropies saturate at some large value, or\n",
    "they crash down violently to zero.\n",
    "\n",
    "Now we can just make plots for each observable"
   ]
  },
  {
   "cell_type": "code",
   "execution_count": null,
   "id": "79b67b3f-7da3-4e99-a0ad-34568725c779",
   "metadata": {},
   "outputs": [],
   "source": [
    "nrow, ncol = 2, 2\n",
    "fig, axes = plt.subplots(nrow, ncol)\n",
    "for i, row in enumerate(axes):\n",
    "    dd = [df, dp][i]\n",
    "    names = ('psi', 'rho')\n",
    "    for j, ax in enumerate(row):\n",
    "        for k, chi in enumerate(chi_vals):\n",
    "            which = (dd.L == L_list[j]) & (dd.chi == chi)\n",
    "            ax.plot(\n",
    "                dd.t[which].values, np.real(dd.s1x[which].values),\n",
    "                label=f'$\\\\chi={chi}$'\n",
    "            )\n",
    "            ax.set_title('$\\\\sigma_1^x$ of $\\\\' + names[i] + ', L=' + str(L_list[j]) + '$')\n",
    "            ax.set_xlabel('time')\n",
    "            ax.set_ylabel('$\\\\langle \\\\sigma_{1}^x \\\\rangle$')\n",
    "            ax.legend(loc='right')\n",
    "fig.tight_layout()\n",
    "plt.show()"
   ]
  },
  {
   "cell_type": "code",
   "execution_count": null,
   "id": "522f8252-23fe-4040-a0c8-cf48c1dcbcd0",
   "metadata": {},
   "outputs": [],
   "source": [
    "nrow, ncol = 2, 2\n",
    "fig, axes = plt.subplots(nrow, ncol)\n",
    "for i, row in enumerate(axes):\n",
    "    dd = [df, dp][i]\n",
    "    names = ('psi', 'rho')\n",
    "    for j, ax in enumerate(row):\n",
    "        for k, chi in enumerate(chi_vals):\n",
    "            which = (dd.L == L_list[j]) & (dd.chi == chi)\n",
    "            ax.plot(\n",
    "                dd.t[which].values, np.real(dd.sL2x[which].values),\n",
    "                label=f'$\\\\chi={chi}$'\n",
    "            )\n",
    "            ax.set_title('$\\\\sigma_{L/2}^x$ of $\\\\' + names[i] + ', L=' + str(L_list[j]) + '$')\n",
    "            ax.set_xlabel('time')\n",
    "            ax.set_ylabel('$\\\\langle \\\\sigma_{L/2}^x \\\\rangle$')\n",
    "            ax.legend(loc='right')\n",
    "fig.tight_layout()\n",
    "plt.show()"
   ]
  },
  {
   "cell_type": "code",
   "execution_count": null,
   "id": "266db758-4fda-4fc4-9a62-d2c1992f3a5f",
   "metadata": {},
   "outputs": [],
   "source": [
    "nrow, ncol = 2, 2\n",
    "fig, axes = plt.subplots(nrow, ncol)\n",
    "for i, row in enumerate(axes):\n",
    "    dd = [df, dp][i]\n",
    "    names = ('psi', 'rho')\n",
    "    for j, ax in enumerate(row):\n",
    "        for k, chi in enumerate(chi_vals):\n",
    "            which = (dd.L == L_list[j]) & (dd.chi == chi)\n",
    "            ax.plot(\n",
    "                dd.t[which].values, np.real(dd.s1z[which].values),\n",
    "                label=f'$\\\\chi={chi}$'\n",
    "            )\n",
    "            ax.set_title('$\\\\sigma_1^z$ of $\\\\' + names[i] + ', L=' + str(L_list[j]) + '$')\n",
    "            ax.set_xlabel('time')\n",
    "            ax.set_ylabel('$\\\\langle \\\\sigma_{1}^z \\\\rangle$')\n",
    "            ax.legend(loc='right')\n",
    "fig.tight_layout()\n",
    "plt.show()"
   ]
  },
  {
   "cell_type": "code",
   "execution_count": null,
   "id": "c61f6e4a-d1fa-44be-960a-68ef5ad04da6",
   "metadata": {},
   "outputs": [],
   "source": [
    "nrow, ncol = 2, 2\n",
    "fig, axes = plt.subplots(nrow, ncol)\n",
    "for i, row in enumerate(axes):\n",
    "    dd = [df, dp][i]\n",
    "    names = ('psi', 'rho')\n",
    "    for j, ax in enumerate(row):\n",
    "        for k, chi in enumerate(chi_vals):\n",
    "            which = (dd.L == L_list[j]) & (dd.chi == chi)\n",
    "            ax.plot(\n",
    "                dd.t[which].values, np.real(dd.sL2z[which].values),\n",
    "                label=f'$\\\\chi={chi}$'\n",
    "            )\n",
    "            ax.set_title('$\\\\sigma_{L/2}^z$ of $\\\\' + names[i] + ', L=' + str(L_list[j]) + '$')\n",
    "            ax.set_xlabel('time')\n",
    "            ax.set_ylabel('$\\\\langle \\\\sigma_{L/2}^z \\\\rangle$')\n",
    "            ax.legend(loc='right')\n",
    "fig.tight_layout()\n",
    "plt.show()"
   ]
  },
  {
   "cell_type": "markdown",
   "id": "75e5769f-2b73-454f-8ba6-a7dd83a0cbf0",
   "metadata": {},
   "source": [
    "I'm rather surprised there isn't as much oscillation as in the last\n",
    "homework, but I checked that one I evolved for 40 seconds and here it is only 1.\n",
    "In each case, the observables crash down to zero wherever the entropy\n",
    "peaks.\n",
    "It's really almost too obvious.\n",
    "It seems like my solver is failing drastically instead of just making a poor approximation.\n",
    "\n",
    "Anyway, the results seem to match for both test wavefunctions, so at least\n",
    "the simulations are consistent."
   ]
  },
  {
   "cell_type": "code",
   "execution_count": null,
   "id": "efbec59e-6394-4834-9a42-d471e50194db",
   "metadata": {},
   "outputs": [],
   "source": []
  }
 ],
 "metadata": {
  "kernelspec": {
   "display_name": "Python 3",
   "language": "python",
   "name": "python3"
  },
  "language_info": {
   "codemirror_mode": {
    "name": "ipython",
    "version": 3
   },
   "file_extension": ".py",
   "mimetype": "text/x-python",
   "name": "python",
   "nbconvert_exporter": "python",
   "pygments_lexer": "ipython3",
   "version": "3.7.9"
  }
 },
 "nbformat": 4,
 "nbformat_minor": 5
}
