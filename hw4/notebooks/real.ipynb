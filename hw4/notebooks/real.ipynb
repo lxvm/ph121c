{
 "cells": [
  {
   "cell_type": "markdown",
   "id": "a3f023e0-3b24-456c-8d3e-562e572c6091",
   "metadata": {},
   "source": [
    "# Real Time Evolution\n",
    "\n",
    "$\\require{physics}$"
   ]
  },
  {
   "cell_type": "code",
   "execution_count": null,
   "id": "811b2fa7-0b79-4d21-91b5-452f5991b5df",
   "metadata": {},
   "outputs": [],
   "source": [
    "from copy import deepcopy\n",
    "\n",
    "import numpy as np\n",
    "from scipy.linalg import expm\n",
    "import matplotlib.pyplot as plt\n",
    "%matplotlib inline\n",
    "\n",
    "from ph121c_lxvm import tensor, measure"
   ]
  },
  {
   "cell_type": "markdown",
   "id": "3e3dd5ce-152e-4d44-90ff-c645ec97b5d7",
   "metadata": {},
   "source": [
    "## Summary\n",
    "\n",
    "In this notebook, we will evolve a quantum state\n",
    "\\begin{align}\n",
    "    \\ket{\\psi(t=0)} = \\ket{\\xi} \\otimes \\cdots \\otimes \\ket{\\xi}\n",
    "    ,\n",
    "\\end{align}\n",
    "where $\\ket{\\xi} = \\frac{1}{2} \\left( \\ket{\\uparrow} - \\sqrt{3} \\ket{\\downarrow} \\right)$.\n",
    "We will also evolve a second product state to compare against:\n",
    "\\begin{align}\n",
    "    \\ket{\\psi (t=0)}\n",
    "        &= \\ket{\\uparrow} \\otimes \\ket{\\downarrow} \\otimes \\cdots\n",
    "    .\n",
    "\\end{align}"
   ]
  },
  {
   "cell_type": "code",
   "execution_count": null,
   "id": "223e56c3-c0d3-4f7f-b1a9-4479a206c98b",
   "metadata": {},
   "outputs": [],
   "source": [
    "# Build initial state\n",
    "down = np.array([1., 0.]).reshape(2, 1)\n",
    "up   = down[::-1].reshape((2, 1))\n",
    "ξ = (up - np.sqrt(3) * down) / 2\n",
    "\n",
    "def make_waves (L, d):\n",
    "    \"\"\"Create the inital wavefunctions.\"\"\"\n",
    "    ψ = tensor.mps(L=L, d=d)\n",
    "    ψ.from_arr([ ξ for _ in range(L) ], center=-1)\n",
    "    assert (L % 2 == 0)\n",
    "    ρ = tensor.mps(L=L, d=d)\n",
    "    wave = []\n",
    "    for i in range(L // 2):\n",
    "        wave.append(up)\n",
    "        wave.append(down)\n",
    "    ρ.from_arr(wave, center=-1)    \n",
    "    return (ψ, ρ)"
   ]
  },
  {
   "cell_type": "markdown",
   "id": "7cbdf3f0-1249-45ba-bc51-fdc97bcdf5da",
   "metadata": {},
   "source": [
    "We will do so while measuring the half-system entanglement entropy, $S_{L/2}$:"
   ]
  },
  {
   "cell_type": "code",
   "execution_count": null,
   "id": "61e82254-ea02-48b9-b5c7-90202fecebef",
   "metadata": {},
   "outputs": [],
   "source": [
    "def eentropy (tren, i):\n",
    "    \"\"\"Calculate the entanglement entropy at a cut between quanta i, i+1.\"\"\"\n",
    "    tren.groupby_quanta_tag([i])\n",
    "    u, s, vh = np.linalg.svd(tren.center.mat)\n",
    "    return measure.entropy.entanglement(s)\n"
   ]
  },
  {
   "cell_type": "markdown",
   "id": "b1f3b86a-31e3-4e26-94b1-08b1a1af645d",
   "metadata": {},
   "source": [
    "and these observables\n",
    "$\\ev{\\sigma_{L/2}^x}, \\ev{\\sigma_1^x}, \\ev{\\sigma_{L/2}^z}, \\ev{\\sigma_1^z}$:\n"
   ]
  },
  {
   "cell_type": "code",
   "execution_count": null,
   "id": "f6a25c3c-8212-4fa4-af9c-128607677bea",
   "metadata": {},
   "outputs": [],
   "source": [
    "sx = np.array([[0, 1], [1, 0]])\n",
    "sy = np.array([[0, -1j], [1j, 0]])\n",
    "sz = np.diag([1, -1])\n",
    "\n",
    "def make_observables (L, d):\n",
    "    \"\"\"Create the observable operators of interest.\"\"\"\n",
    "    s1x = tensor.mpo(L=L, d=d)\n",
    "    s1x.set_local_oper(sx, 1)\n",
    "    sL2x = tensor.mpo(L=L, d=d)\n",
    "    sL2x.set_local_oper(sx, L//2)\n",
    "    s1z = tensor.mpo(L=L, d=d)\n",
    "    s1z.set_local_oper(sz, 1)\n",
    "    sL2z = tensor.mpo(L=L, d=d)\n",
    "    sL2z.set_local_oper(sz, L//2)\n",
    "    return (s1x, sL2x, s1z, sL2z)"
   ]
  },
  {
   "cell_type": "markdown",
   "id": "ec9b032a-407c-4e68-9f7f-105b1cee0866",
   "metadata": {},
   "source": [
    "We will consider the same Hamiltonian as before, now evolving in real time:"
   ]
  },
  {
   "cell_type": "code",
   "execution_count": null,
   "id": "cef912d0-f376-4a43-af2b-783ff4a634f6",
   "metadata": {},
   "outputs": [],
   "source": [
    "# Build pieces of Hamiltonian in gate representation\n",
    "def build_pieces_of_H (L, d, hx, hz):\n",
    "    \"\"\"Build the field, odd, and even term Hamiltonians and also their union.\"\"\"\n",
    "    H_field = np.empty(L, dtype='O')\n",
    "    for i in range(H_field.size):\n",
    "        H_field[i] = tensor.mpo(L=L, d=d)\n",
    "        H_field[i].set_local_oper(-(hx * sx + hz * sz), i + 1)\n",
    "    H_odd = np.empty(L//2, dtype='O')\n",
    "    for i in range(H_odd.size):\n",
    "        H_odd[i] = tensor.mpo(L=L, d=d)\n",
    "        H_odd[i].set_local_oper(-sz, 2*i + 1)\n",
    "        H_odd[i].set_local_oper(sz, 2*i + 1 + 1)\n",
    "    H_even = np.empty(L//2 - 1 + L%2, dtype='O')\n",
    "    for i in range(H_even.size):\n",
    "        H_even[i] = tensor.mpo(L=L, d=d)\n",
    "        H_even[i].set_local_oper(-sz, 2*(i + 1))\n",
    "        H_even[i].set_local_oper(sz, 2*(i + 1) + 1)\n",
    "    H_full = np.array([*H_field, *H_odd, *H_even], dtype='O')\n",
    "    return (H_field, H_odd, H_even, H_full)\n",
    "\n",
    "\n",
    "# Construct propagators\n",
    "def build_propagators (L, d, δτ, H_field, H_odd, H_even):\n",
    "    \"\"\"Exponentiate each non-commuting piece of the Hamiltonian\"\"\"\n",
    "    U_field = tensor.mpo(L=L, d=d)\n",
    "    for i, e in enumerate(H_field):\n",
    "        U_field.set_local_oper(expm(- 1.j * δτ * e[0].mat), i+1)\n",
    "    U_odd = tensor.mpo(L=L, d=d)\n",
    "    for i, e in enumerate(H_odd):\n",
    "        U_odd.set_local_oper(\n",
    "            expm(- 1.j * δτ * np.kron(e[1].mat, e[0].mat)),\n",
    "            2 * i + 1\n",
    "        )\n",
    "    U_even = tensor.mpo(L=L, d=d)\n",
    "    for i, e in enumerate(H_even):\n",
    "        U_even.set_local_oper(\n",
    "            expm(- 1.j * δτ * np.kron(e[1].mat, e[0].mat)),\n",
    "            2 * (i + 1)\n",
    "        )\n",
    "    return (U_field, U_odd, U_even)\n",
    "\n"
   ]
  },
  {
   "cell_type": "markdown",
   "id": "b6712b35-4b38-45e4-9a75-12a72e29ba49",
   "metadata": {},
   "source": [
    "Our goal is to observe how quickly the entanglement entropy grows in time\n",
    "in order to observe the limitations of the validity of our MPS approximation."
   ]
  },
  {
   "cell_type": "markdown",
   "id": "daca2cc7-5b3d-4051-852f-a869666d718e",
   "metadata": {},
   "source": [
    "## Evolution\n",
    "\n",
    "We will evolve the aforementioned states at the system sizes $L=16, 32, 64, 128$\n",
    "for a fixed number $N$ of time steps at a step size of $\\delta\\tau$.\n",
    "At each time step, we "
   ]
  },
  {
   "cell_type": "code",
   "execution_count": null,
   "id": "bdaf3d93-f407-4bbb-8613-521613bdc68e",
   "metadata": {},
   "outputs": [],
   "source": [
    "L_list = [16, ]#32, 64, 128]\n",
    "d = 2\n",
    "hx = 1.05\n",
    "hz = 0.5\n",
    "δτ = 0.1\n",
    "N = 50"
   ]
  },
  {
   "cell_type": "code",
   "execution_count": null,
   "id": "09526cb3-9329-440a-ab48-db7032ad703c",
   "metadata": {},
   "outputs": [],
   "source": [
    "# Data structure to save results\n",
    "ψ_results = dict(S=[], s1x=[], sL2x=[], s1z=[], sL2z=[])"
   ]
  },
  {
   "cell_type": "code",
   "execution_count": null,
   "id": "baca5f86-db65-4257-bb16-297289fb2976",
   "metadata": {},
   "outputs": [],
   "source": [
    "%%time\n",
    "\n",
    "for L in L_list:\n",
    "    H_field, H_odd, H_even, H_full = build_pieces_of_H(L=L, d=d, hx=hx, hz=hz)\n",
    "    U_field, U_odd, U_even = build_propagators(\n",
    "        L=L, d=d, δτ=δτ, H_field=H_field, H_odd=H_odd, H_even=H_even\n",
    "    )\n",
    "    ψ, ρ = make_wave(L=L, d=d)\n",
    "    s1x, sL2x, s1z, sL2z = make_observables(L=L, d=d)\n",
    "    "
   ]
  },
  {
   "cell_type": "markdown",
   "id": "1d0213ab-f539-4c95-b5d2-3d76b8295b42",
   "metadata": {},
   "source": [
    "## Plots\n",
    "\n",
    "Here we will plot all of the observables we have recorded "
   ]
  },
  {
   "cell_type": "code",
   "execution_count": null,
   "id": "43ba6451-8081-48d1-a46f-b1b5ac93ad47",
   "metadata": {},
   "outputs": [],
   "source": []
  }
 ],
 "metadata": {
  "kernelspec": {
   "display_name": "Python 3",
   "language": "python",
   "name": "python3"
  },
  "language_info": {
   "codemirror_mode": {
    "name": "ipython",
    "version": 3
   },
   "file_extension": ".py",
   "mimetype": "text/x-python",
   "name": "python",
   "nbconvert_exporter": "python",
   "pygments_lexer": "ipython3",
   "version": "3.7.9"
  }
 },
 "nbformat": 4,
 "nbformat_minor": 5
}
