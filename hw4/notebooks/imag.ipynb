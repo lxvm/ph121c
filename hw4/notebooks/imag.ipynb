{
 "cells": [
  {
   "cell_type": "markdown",
   "id": "da8f854c-9476-4a6f-a806-b34533a5b9d8",
   "metadata": {},
   "source": [
    "# Imaginary time evolution\n",
    "\n",
    "$\n",
    "\\require{physics}\n",
    "\\def\\bm{\\boldsymbol}\n",
    "$"
   ]
  },
  {
   "cell_type": "code",
   "execution_count": null,
   "id": "84ccf9de-4ed9-4714-9a46-a06720a4a549",
   "metadata": {},
   "outputs": [],
   "source": [
    "from copy import deepcopy\n",
    "\n",
    "import numpy as np\n",
    "from scipy.linalg import expm\n",
    "from scipy.sparse.linalg import eigsh\n",
    "import matplotlib.pyplot as plt\n",
    "%matplotlib inline\n",
    "\n",
    "from ph121c_lxvm import tensor, basis, models"
   ]
  },
  {
   "cell_type": "markdown",
   "id": "29ccc98c-0dec-459e-ab68-8805b82ff268",
   "metadata": {},
   "source": [
    "## What we are doing\n",
    "\n",
    "In this assignment there will be simulations of the dynamics of quantum systems\n",
    "with local Hamiltonians in the matrix product state (MPS) representation.\n",
    "This will be via the Time Evolving Block Decimation (TEBD) algorithm.\n",
    "\n",
    "If you're like me and you're learning this for the first time, I looked for help\n",
    "on the topic and have created this brief collection of learning materials:\n",
    "\n",
    "- [Roger Penrose tensor diagram notation (1971)](https://www.mscs.dal.ca/%7Eselinger/papers/graphical-bib/public/Penrose-applications-of-negative-dimensional-tensors.pdfhttps://www.mscs.dal.ca/%7Eselinger/papers/graphical-bib/public/Penrose-applications-of-negative-dimensional-tensors.pdf)\n",
    "- [Vidal's exposition of TEBD (2004)](https://arxiv.org/abs/quant-ph/0310089)\n",
    "- [Tensor Network TEBD](https://tensornetwork.org/mps/algorithms/timeevo/tebd.html)\n",
    "- [TeNPy (see `literature` for more)](https://tenpy.github.io/index.html)\n",
    "- [Help with tensor networks](https://www.tensors.net/)\n",
    "- [White's exposition of DMRG (1992)](https://doi.org/10.1103/PhysRevLett.69.2863)"
   ]
  },
  {
   "cell_type": "markdown",
   "id": "92913fd2-5892-4472-94bd-e7de9d543d25",
   "metadata": {},
   "source": [
    "## Overview\n",
    "\n",
    "In TEBD, we are interested in applying a propagator $U(t)$ to evolve a quantum\n",
    "state. In this section, we will use imaginary time evolution of the Hamiltonian:\n",
    "$$ U(\\tau) = e^{H \\tau}, $$\n",
    "but next section we will consider real time evolution:\n",
    "$$ U(t) = e^{-i H t}. $$\n",
    "We will use the following TFIM Hamiltonian with open boundary conditions\n",
    "parametrized by $h^x, h^z$:\n",
    "$$\n",
    "    H = \n",
    "        -\\sum_{i=1}^{L-1} \\sigma_i^z \\sigma_{i+1}^z\n",
    "        -h^x \\sum_{i=1}^L \\sigma_i^x \n",
    "        -h^z \\sum_{i=1}^L \\sigma_i^z \n",
    "    .\n",
    "$$\n",
    "Because the Hamiltonian is 2-local, we can group its terms:\n",
    "\\begin{align}\n",
    "    H &=\n",
    "        -\\left( \\sum_{i=1}^L h^x \\sigma_i^x + h^z \\sigma_i^z \\right)\n",
    "        - \\left( \\sum_{i=1}^{L // 2} \\sigma_{2i - 1}^z \\sigma_{2i}^z \\right)\n",
    "        - \\left( \\sum_{i=1}^{L // 2-1+L\\%2} \\sigma_{2i}^z \\sigma_{2i+1}^z \\right)\n",
    "    \\\\\\\\\n",
    "        &= H_1 + H_2^\\text{even} + H_2^\\text{odd}\n",
    "        .\n",
    "\\end{align}\n",
    "Now all of the terms in each group commute, but the groups themselves may not.\n",
    "The Zassenhaus formula [(proven here)](https://doi.org/10.1002/cpa.3160070404)\n",
    "allows a separation of $U(t)$ into a product of matrix exponentials of these\n",
    "local terms, grouped in powers of $t$.\n",
    "The formula tells us that the lowest order of $t$ in the exponent is given by:\n",
    "$$\n",
    "    U(\\tau) =\n",
    "    e^{H_1 \\tau} e^{H_2^\\text{even} \\tau} e^{H_2^\\text{odd} \\tau}\n",
    "    e^{\\mathcal O (\\tau^2)}\n",
    "    .\n",
    "$$\n",
    "Note: the Zassenhaus formula looks like the Baker-Campbell-Hausdorff formula,\n",
    "but they group terms differently. The former groups terms in powers of $t$, and\n",
    "thus lends itself to perturbative approximations.\n",
    "\n",
    "A corollary of the Zassenhaus formula is the Lie product formula:\n",
    "$$\n",
    "    e^{A + B} = \\lim_{N \\to \\infty} \\left( e^{A/N} e^{B/N} \\right)^N\n",
    "    .\n",
    "$$\n",
    "In fact, this result was known as early as 1893 by Sophus Lie, the namesake of\n",
    "Lie algebras! Their work is published in ISBN 0828402329 and on the\n",
    "[web](https://archive.org/details/theoriedertrans00liegoog?ref=ol&view=theater).\n",
    "Thus for some finite $N$, we will are in a good position to make the \n",
    "[Suzuki](https://aip.scitation.org/doi/abs/10.1063/1.529425)-[Trotter\n",
    "](https://doi.org/10.1090/S0002-9939-1959-0108732-6) decomposition\n",
    "which provides an approximation of the time-evolution operator over a discrete\n",
    "number of time steps:\n",
    "$$\n",
    "    U(\\tau) \\approx\n",
    "        \\left(\n",
    "        e^{H_1 \\tau/N} e^{H_2^\\text{even} \\tau/N} e^{H_2^\\text{odd} \\tau/N}\n",
    "        \\right)^N\n",
    "    .\n",
    "$$\n",
    "This provides yet another example of how mathematicians have explored areas\n",
    "relevant to physics more than a century before their emergence.\n",
    "\n",
    "In practice, **this is how we will simulate time evolution of quantum systems**\n",
    "on both classical computers (using the MPS representation) _and_ on quantum\n",
    "computers by applying the gates on qudits in the same fashion as on the tensor\n",
    "network. For higher-order Suzuki-Trotter decompositions,\n",
    "[read this (cited by Vitali)](https://arxiv.org/abs/quant-ph/9809009)."
   ]
  },
  {
   "cell_type": "markdown",
   "id": "12ff375b-7fbe-4ec8-bd1e-e4bc283f97b4",
   "metadata": {},
   "source": [
    "## Matrix calculus\n",
    "\n",
    "I haven't given you enough details yet to apply this to a tensor network!\n",
    "I haven't exponentiated matrices that can be written as Kronecker products.\n",
    "\n",
    "In general, matrix exponentials can be calculated in terms of diagonalizing a\n",
    "matrix and exponentiating its eigenvalues, or by a power-series representation.\n",
    "For a review of matrix exponentials, see these [course notes written by my summer\n",
    "research mentor](https://web.mit.edu/18.06/www/Spring17/Matrix-Exponentials.pdf),\n",
    "or this [paper on many ways of calculating the matrix exponential\n",
    "](http://www.cs.cornell.edu/cvResearchPDF/19ways+.pdf).\n",
    "\n",
    "My questions about Kronecker products and matrix exponentials center around\n",
    "whether the operations commute: for 1-site operators, 2-site operators?\n",
    "Let's begin"
   ]
  },
  {
   "cell_type": "code",
   "execution_count": null,
   "id": "29f0767a-10fe-4c98-a05f-bb924423bc9b",
   "metadata": {},
   "outputs": [],
   "source": [
    "sx = np.array([[0, 1], [1, 0]])\n",
    "sy = np.array([[0, -1j], [1j, 0]])\n",
    "sz = np.diag([1, -1])"
   ]
  },
  {
   "cell_type": "markdown",
   "id": "580732cf-5f94-4782-baee-dd105617d55a",
   "metadata": {},
   "source": [
    "### Two sites\n",
    "For the diagonal matrix $\\sigma^z$ we shall see that the matrix exponential and\n",
    "Kronecker product do not commute for a 2-site operator:"
   ]
  },
  {
   "cell_type": "code",
   "execution_count": null,
   "id": "e3033880-6855-4f02-8c3f-4cfbd9c0b4af",
   "metadata": {},
   "outputs": [],
   "source": [
    "expm(np.kron(sz, sz))"
   ]
  },
  {
   "cell_type": "code",
   "execution_count": null,
   "id": "42d26486-160a-4735-bcd0-de315e57d651",
   "metadata": {},
   "outputs": [],
   "source": [
    "np.kron(expm(sz), expm(sz))"
   ]
  },
  {
   "cell_type": "markdown",
   "id": "64fab7fa-d924-4af3-9955-7c9d1622a5bc",
   "metadata": {},
   "source": [
    "Not the same! This means we actually have to exponentiate the matrix, which for\n",
    "a diagonal matrix is equivalent to exponentiating the diagonal:"
   ]
  },
  {
   "cell_type": "code",
   "execution_count": null,
   "id": "4acbd4c5-307b-469d-8ec3-e7e1689bbfc1",
   "metadata": {},
   "outputs": [],
   "source": [
    "np.exp(np.diag(np.kron(sz, sz)))"
   ]
  },
  {
   "cell_type": "markdown",
   "id": "2ee0be13-f441-481b-9f90-ea79e8cb3c22",
   "metadata": {},
   "source": [
    "The consequence for MPS is that this is not possible to represent as a one-site\n",
    "operator, so we will have to contract a virtual index before applying this\n",
    "transformation directly. (After, we will again do an SVD to return to MPS form).\n",
    "\n",
    "We _could_ represent the matrix product operator as acting on individual sites\n",
    "if we take an SVD of it and disaggregating the physical indicies by introducing\n",
    "a virtual index. This option might not be viable for diagonal matrices with\n",
    "large coefficients (maybe better for random unitaries):"
   ]
  },
  {
   "cell_type": "code",
   "execution_count": null,
   "id": "3bc0264a-4a26-4511-a28d-245d8b02aa18",
   "metadata": {},
   "outputs": [],
   "source": [
    "np.linalg.svd(expm(np.kron(sz, sz)))"
   ]
  },
  {
   "cell_type": "markdown",
   "id": "9a6cdab0-b46c-45a8-a025-247505366bc0",
   "metadata": {},
   "source": [
    "That is, if we can write the elements of a 2-site operator $U(t)$ as\n",
    "$U_{\\sigma'_i \\sigma'_{i+1}}^{\\sigma_i \\sigma_{i+1}}$, then we should reshape\n",
    "the matrix so that $U_{\\sigma'_i \\sigma_i}^{\\sigma'_{i+1} \\sigma_{i+1}}$\n",
    "groups the physical indices by the site. Then we should do an SVD on this matrix\n",
    "which will introduce a virtual index $\\alpha$, leading to:\n",
    "$$\n",
    "    U_{\\sigma'_i \\sigma_i}^{\\sigma'_{i+1} \\sigma_{i+1}}\n",
    "        = \\sum_\\alpha U_{\\sigma'_i \\sigma_i}^\\alpha\n",
    "        S_\\alpha^\\alpha (V^\\dagger)_{\\alpha}^{\\sigma'_{i+1} \\sigma_{i+1}}\n",
    "    .\n",
    "$$\n",
    "We should then reshape\n",
    "$U_{\\sigma'_i \\sigma_i}^\\alpha \\to U_{\\sigma'_i}^{\\sigma_i \\alpha}$ and\n",
    "$(V^\\dagger)_{\\alpha}^{\\sigma'_{i+1} \\sigma_{i+1}}\n",
    "\\to (V^\\dagger)_{\\alpha \\sigma'_{i+1}}^{\\sigma_{i+1}}$\n",
    "so that we can apply these operators to the physical indices as a matrix\n",
    "multiplication. This opens the door to matrix product operators, which have very\n",
    "similar properties as MPS, except for the additional physical index."
   ]
  },
  {
   "cell_type": "markdown",
   "id": "3f747e8e-e43d-4430-bc46-ec21711e58d2",
   "metadata": {},
   "source": [
    "### One site\n",
    "\n",
    "#### Diagonal matrix\n",
    "\n",
    "We shall see that for a 1-site operator, the matrix exponential commutes with\n",
    "a Kronecker product by the identity:"
   ]
  },
  {
   "cell_type": "code",
   "execution_count": null,
   "id": "9f1446d2-a133-4fc9-8f51-b0971f16eefd",
   "metadata": {},
   "outputs": [],
   "source": [
    "expm(np.kron(np.eye(2), sz))"
   ]
  },
  {
   "cell_type": "code",
   "execution_count": null,
   "id": "16ec672f-840e-494a-8af6-29f5b0f8bada",
   "metadata": {},
   "outputs": [],
   "source": [
    "np.kron(np.eye(2), expm(sz))"
   ]
  },
  {
   "cell_type": "markdown",
   "id": "8d241c7e-c2d9-4db8-8350-d55fa34eca44",
   "metadata": {},
   "source": [
    "#### Non-diagonal matrix\n",
    "\n",
    "For the off-diagonal matrix $\\sigma^x$, the operations still commute across\n",
    "Kronecker products with the identity:"
   ]
  },
  {
   "cell_type": "code",
   "execution_count": null,
   "id": "ba9faa5e-735a-4c5e-be6b-f5d112916a6c",
   "metadata": {},
   "outputs": [],
   "source": [
    "expm(np.kron(np.eye(2), sx))"
   ]
  },
  {
   "cell_type": "code",
   "execution_count": null,
   "id": "59a44693-f35e-4e39-a22a-26533ff838c2",
   "metadata": {},
   "outputs": [],
   "source": [
    "np.kron(np.eye(2), expm(sx))"
   ]
  },
  {
   "cell_type": "markdown",
   "id": "2ccd518f-5a4e-43ff-b2a1-9c87d6e66061",
   "metadata": {},
   "source": [
    "All in all, this means we can time-evolve local operators efficiently by\n",
    "calculating their matrix exponentials locally.\n",
    "\n",
    "Since in fact $\\sigma^x$ is related to $\\sigma^z$ by a Hadamard rotation. $T$,\n",
    "we can compute:\n",
    "$$\n",
    "    \\exp(\\phi \\sigma^x)\n",
    "        = \\exp(\\phi T \\sigma^z T)\n",
    "        = T \\exp(\\phi \\sigma^z) T\n",
    "    .\n",
    "$$\n",
    "Let's demonstrate:"
   ]
  },
  {
   "cell_type": "code",
   "execution_count": null,
   "id": "d5d5b1b4-85fb-4f82-8fad-cdf5aae037df",
   "metadata": {},
   "outputs": [],
   "source": [
    "hd = np.array([[1, 1], [1, -1]]) * np.sqrt(0.5)"
   ]
  },
  {
   "cell_type": "code",
   "execution_count": null,
   "id": "7819d8cd-a6ad-4f03-8495-ae4ed3e11b35",
   "metadata": {},
   "outputs": [],
   "source": [
    "expm(sx)"
   ]
  },
  {
   "cell_type": "code",
   "execution_count": null,
   "id": "fd620527-8642-4de8-b593-591e67b72e05",
   "metadata": {},
   "outputs": [],
   "source": [
    "expm(hd @ sz @ hd)"
   ]
  },
  {
   "cell_type": "code",
   "execution_count": null,
   "id": "1619735e-de6c-4ddc-a0cb-3f6772e3471b",
   "metadata": {},
   "outputs": [],
   "source": [
    "hd @ expm(sz) @ hd"
   ]
  },
  {
   "cell_type": "markdown",
   "id": "07387405-b9e3-4823-b733-3eb5d37d04b9",
   "metadata": {},
   "source": [
    "We might prefer to use the result in the assignment that for a 1-site operator:\n",
    "$$\n",
    "    \\exp(i t \\bm n \\cdot \\bm \\sigma)\n",
    "        = \\cos(t) + i \\sin(t) \\bm n \\cdot \\bm \\sigma\n",
    "    .\n",
    "$$\n",
    "For imaginary time evolution:\n",
    "$$\n",
    "    \\exp(\\tau \\bm n \\cdot \\bm \\sigma)\n",
    "        = \\cos(-i \\tau) + i \\sin(-i \\tau) \\bm n \\cdot \\bm \\sigma\n",
    "        = \\cosh(\\tau) + \\sinh(\\tau) \\bm n \\cdot \\bm \\sigma\n",
    "    .\n",
    "$$"
   ]
  },
  {
   "cell_type": "code",
   "execution_count": null,
   "id": "f81b3a54-797a-4ffc-94d8-81e2f7ccbc27",
   "metadata": {},
   "outputs": [],
   "source": [
    "# Verify formula expontentiation formulas\n",
    "hx, hz = 1.05, 0.5\n",
    "hn = np.sqrt(hx ** 2 + hz ** 2)\n",
    "np.allclose(\n",
    "    expm((hx * sx + hz * sz) / hn),\n",
    "    np.cosh(1) * np.eye(2) + np.sinh(1) * ((hx * sx + hz * sz) / hn)\n",
    ")"
   ]
  },
  {
   "cell_type": "markdown",
   "id": "0d24926d-d827-4f75-867f-423cd4880fbd",
   "metadata": {},
   "source": [
    "## Action\n",
    "\n",
    "At this stage, I have layed out the Suzuki-Trotter decomposition as well as how\n",
    "to represent the gates within each term, so we can go ahead and do TEBD.\n",
    "We are told to evolve a ferromagnetic state:\n",
    "\\begin{align}\n",
    "    \\ket{\\psi (t=0)}\n",
    "        &= \\ket{\\downarrow} \\otimes \\cdots \\otimes \\ket{\\downarrow}\n",
    "    ,\n",
    "    \\\\\\\\\n",
    "    \\ket{\\phi (t=0)}\n",
    "        &= \\ket{\\uparrow} \\otimes \\cdots \\otimes \\ket{\\uparrow}\n",
    "    .\n",
    "\\end{align}"
   ]
  },
  {
   "cell_type": "code",
   "execution_count": null,
   "id": "f34cc913-d739-45b5-912e-1e47e6eefb77",
   "metadata": {},
   "outputs": [],
   "source": [
    "L  = 12\n",
    "d  = 2\n",
    "hx = 1.05\n",
    "hz = 0.5"
   ]
  },
  {
   "cell_type": "code",
   "execution_count": null,
   "id": "4ae49a95-d021-494a-9784-099d123cbb7a",
   "metadata": {},
   "outputs": [],
   "source": [
    "down = np.array([1., 0.]).reshape(2, 1)\n",
    "up   = down[::-1].reshape((2, 1))\n",
    "\n",
    "# build wavefunction in MPS representation\n",
    "ψ = tensor.mps(L=L, d=d)\n",
    "ψ.from_arr([ down for _ in range(L) ], center=-1)\n",
    "ϕ = tensor.mps(L=L, d=d)\n",
    "ϕ.from_arr([ up for _ in range(L) ], center=-1)"
   ]
  },
  {
   "cell_type": "markdown",
   "id": "d40e8193-28bb-4ef6-8676-6cb59609bd4a",
   "metadata": {},
   "source": [
    "We are asked to calculate the energy of this state which requires a Hamiltonian."
   ]
  },
  {
   "cell_type": "code",
   "execution_count": null,
   "id": "bb197350-c29b-4b27-855b-22a87b8b1592",
   "metadata": {},
   "outputs": [],
   "source": [
    "sx = np.diag([1., 1.])[::-1]\n",
    "sz = np.diag([1.,-1.])\n",
    "\n",
    "# Build pieces of Hamiltonian in gate representation\n",
    "def build_pieces_of_H (L, d, hx, hz):\n",
    "    \"\"\"Build the field, odd, and even term Hamiltonians and also their union.\"\"\"\n",
    "    H_field = np.empty(L, dtype='O')\n",
    "    for i in range(H_field.size):\n",
    "        H_field[i] = tensor.mpo(L=L, d=d)\n",
    "        H_field[i].set_local_oper(-(hx * sx + hz * sz), i + 1)\n",
    "    H_odd = np.empty(L//2, dtype='O')\n",
    "    for i in range(H_odd.size):\n",
    "        H_odd[i] = tensor.mpo(L=L, d=d)\n",
    "        H_odd[i].set_local_oper(-sz, 2*i + 1)\n",
    "        H_odd[i].set_local_oper(sz, 2*i + 1 + 1)\n",
    "    H_even = np.empty(L//2 - 1 + L%2, dtype='O')\n",
    "    for i in range(H_even.size):\n",
    "        H_even[i] = tensor.mpo(L=L, d=d)\n",
    "        H_even[i].set_local_oper(-sz, 2*(i + 1))\n",
    "        H_even[i].set_local_oper(sz, 2*(i + 1) + 1)\n",
    "    H_full = np.array([*H_field, *H_odd, *H_even], dtype='O')\n",
    "    return (H_field, H_odd, H_even, H_full)"
   ]
  },
  {
   "cell_type": "code",
   "execution_count": null,
   "id": "6583a2db-e552-4a8d-879e-ee23b30d586a",
   "metadata": {},
   "outputs": [],
   "source": [
    "H_field, H_odd, H_even, H_full = build_pieces_of_H(L=L, d=d, hx=hx, hz=hz)"
   ]
  },
  {
   "cell_type": "code",
   "execution_count": null,
   "id": "03f091fe-febc-464f-87ad-2c4a482f6e35",
   "metadata": {},
   "outputs": [],
   "source": [
    "for name, wave in [('psi', ψ), ('phi', ϕ)]:\n",
    "    print('MPS Energy of', name, sum(e.expval(wave) for e in H_full))"
   ]
  },
  {
   "cell_type": "markdown",
   "id": "60845ce8-822f-451b-9fc3-8a65e760d547",
   "metadata": {},
   "source": [
    "As a verification, let's compare this to the direct calculation from the Hamiltonian."
   ]
  },
  {
   "cell_type": "code",
   "execution_count": null,
   "id": "f2f1fb28-d703-4784-985a-3fdfe28fbfb8",
   "metadata": {
    "tags": []
   },
   "outputs": [],
   "source": [
    "ψ.merge_bonds()\n",
    "ψ.reset_pos()\n",
    "psic = ψ[0].mat.reshape(ψ.size())\n",
    "np.inner(psic, models.tfim_z.H_vec(psic, L, hx, 'o', hz))"
   ]
  },
  {
   "cell_type": "code",
   "execution_count": null,
   "id": "60e347c0-5f9d-42ba-84e3-c63d45b8b41e",
   "metadata": {},
   "outputs": [],
   "source": [
    "ϕ.merge_bonds()\n",
    "ϕ.reset_pos()\n",
    "phic = ϕ[0].mat.reshape(ϕ.size())\n",
    "np.inner(phic, models.tfim_z.H_vec(phic, L, hx, 'o', hz))"
   ]
  },
  {
   "cell_type": "code",
   "execution_count": null,
   "id": "7dd158f4-195b-4763-976c-86141efe616a",
   "metadata": {},
   "outputs": [],
   "source": [
    "# Restore MPS compression to these product states\n",
    "ψ.split_quanta(-1, trim = 1)\n",
    "ϕ.split_quanta(-1, trim = 1)"
   ]
  },
  {
   "cell_type": "markdown",
   "id": "d2916a1a-f401-4979-8b92-66061b483350",
   "metadata": {},
   "source": [
    "### Implementation\n",
    "\n",
    "Somehow, my code was influenced by the interface to the Julia\n",
    "[ITensor](https://itensor.org/) package. I haven't used the package, but\n",
    "seeing that in their code they define everything in terms of indices\n",
    "and operations on them convinced me I should write classes which do the\n",
    "same. Keeping track of indices is a pain, so reducing everything to index\n",
    "operations on my MPS representation (which is basically a list of matrices,\n",
    "where each matrix has a multiindex for both rows and columns) hopefully\n",
    "makes algorithms less difficult to program when the essential methods work.\n",
    "\n",
    "In order to do this, I made many backwards-incompatible changes to my\n",
    "previous MPS code, which was rather simple to begin with.\n",
    "Now, there is a TON of stuff going on under the hood to provide a composable\n",
    "set of elementary tensor operations that are abstracted away from the storage\n",
    "and representation details of the tensors themselves.\n",
    "The basic problems are: how do you keep track of a set of indices as a data\n",
    "structure, and how to you selectively operate on these indices with operations\n",
    "such as contractions, reshapes, and reorderings.\n",
    "A lot of this comes down to giving bonds pointers to sites.\n",
    "When these tasks can, to some extent, be automated, then they open the door\n",
    "to splitting multi-indices with SVD's, to MPS canonical forms, and to tensor\n",
    "network contractions.\n",
    "The icing on the cake, so to speak, is taking these operations and composing\n",
    "them into algorithms for quantum simulation, such as TEBD, which we are about to\n",
    "undertake, as well as DMRG (maybe next time?).\n",
    "The difficulty of these algorithms is in applying gates repeatedly to different\n",
    "groups of indices, creating a lot of book-keeping.\n",
    "There are _a lot_ of books to keep.\n",
    "\n",
    "To be clear, there is no attempt to optimize code, mainly just a framework for\n",
    "matrix operations where the row and column indices are replaced by multiindices.\n",
    "It maybe succeeds in reducing code repetition when actually expressing algorithms.\n",
    "For the programmer, the price of abstraction is payed by usability.\n",
    "I want to be able to apply an operator on a specific set of indices without\n",
    "having to manually manipulate the matrices each time I do an experiment.\n",
    "\n",
    "I also started to 1-index the sites in the tensor trains, which is bound to\n",
    "create confusion!\n",
    "\n"
   ]
  },
  {
   "cell_type": "markdown",
   "id": "ab2ca4ce-29f6-43d1-af48-c2d17ae48222",
   "metadata": {},
   "source": [
    "### Greatest achievement of this course\n",
    "\n",
    "The following function is the greatest function I've written:"
   ]
  },
  {
   "cell_type": "code",
   "execution_count": null,
   "id": "c0b94f9d-3e49-4228-bdfe-82b8dd553af6",
   "metadata": {},
   "outputs": [],
   "source": [
    "def multi_index_perm (dims, perm):\n",
    "    \"\"\"Return a slice to permute a multi-index in the computational basis.\n",
    "    \n",
    "    `dims` and `perm` enumerate 0 to N-1 as the fastest-changing dit to slowest.\n",
    "    E.g. perm = np.arange(N) is the identity permutation.\n",
    "\n",
    "    Arguments:\n",
    "    dims :: np.ndarray(N) :: dimensions of each index\n",
    "    perm :: np.ndarray(N) :: perm[i] gives the new position of i\n",
    "    \"\"\"\n",
    "    assert dims.size == perm.size\n",
    "    iperm = np.argsort(perm)\n",
    "    new_dims = dims[iperm]\n",
    "    index = np.zeros(np.prod(dims), dtype='int64')\n",
    "    for i in range(len(dims)):\n",
    "        index += np.tile(\n",
    "            np.repeat(\n",
    "                np.prod(dims[:iperm[i]], dtype='int64')\n",
    "                * np.arange(dims[iperm[i]]),\n",
    "                repeats=np.prod(new_dims[:i], dtype='int64')\n",
    "            ),\n",
    "            reps=np.prod(new_dims[i+1:], dtype='int64')\n",
    "        )\n",
    "    return index"
   ]
  },
  {
   "cell_type": "markdown",
   "id": "318f071f-9a42-4b7b-b3de-d20ddda379a2",
   "metadata": {},
   "source": [
    "It performs any arbitrary permutation of a multi-index (with any dimensions).\n",
    "It's great to have this function because it gives unlimited flexibility in the\n",
    "manipulation of indices within a multi-index in order to sort indices after \n",
    "sophisticated tensor manipulations.\n",
    "Whoever uses this function has to be highly aware of the issue of endianness,\n",
    "which I believe asserts itself in both the order of the array `dims` as well as\n",
    "the order of `np.tile` and `np.repeat`.\n",
    "This function generalizes `ph121c_lxvm.basis.schmidt.permute`, which can only\n",
    "be applied to multi-indices where each index has dimension 2, which was useful\n",
    "earlier for qubit chains, but cannot be generalized because its algorithm is\n",
    "based on bit swaps, and bit indices always have dimension 2.\n",
    "The function is great because it works: it is the endgame of indices.\n",
    "\n",
    "I have no idea if `np.ravel_multi_index` does the same thing: I suspect it \n",
    "doesn't. In principle, this function should overcome the limitations imposed\n",
    "by the maximal `ndim` set by `numpy`, though of course too many dimensions will\n",
    "lead to dangerously large arrays.\n",
    "\n",
    "Here is an example of how to create and invert a permutation with both methods:"
   ]
  },
  {
   "cell_type": "code",
   "execution_count": null,
   "id": "c7e8fe93-3949-4d4f-8da7-bbbccc6d406c",
   "metadata": {},
   "outputs": [],
   "source": [
    "tensor.multi_index_perm(\n",
    "    np.array([2,2,2,2,2,2]),\n",
    "    np.array([5,2,0,3,1,4])\n",
    ")[tensor.multi_index_perm(\n",
    "    np.array([2,2,2,2,2,2]),\n",
    "    np.array([2,4,1,3,5,0])\n",
    ")]"
   ]
  },
  {
   "cell_type": "code",
   "execution_count": null,
   "id": "7974a04f-f9dd-4dda-8300-79314ade7fc5",
   "metadata": {},
   "outputs": [],
   "source": [
    "basis.schmidt.permute(\n",
    "    basis.schmidt.permute(\n",
    "        np.arange(64), [], 6, perm=np.array([5,2,0,3,1,4])\n",
    "    ), [], 6, perm=np.array([2,4,1,3,5,0])\n",
    ")"
   ]
  },
  {
   "cell_type": "markdown",
   "id": "03f9ee50-7c9d-4232-b28f-b03bb20f5b04",
   "metadata": {},
   "source": [
    "### Everything else\n",
    "\n",
    "If you read the source code in `ph121c_lxvm.tensor`, you might think that it is\n",
    "disgusting, and I would agree with you. The code mainly enforces the topology of\n",
    "a tensor network and automates operations on the network. Should it be 10 lines\n",
    "of code? Probably. It's over 1500.\n",
    "\n",
    "Also, Python does not have a compiler that enforces types, so it is up to the\n",
    "programmer to enforce type stability. \n",
    "For me, that meant writing code in a LBYL (look before you leap) style, whereas\n",
    "some Python code is better in the EAFP (it’s easier to ask for forgiveness than \n",
    "permission) style.\n",
    "\n",
    "The structure of the `tensor` module is the following: an `index` class is defined\n",
    "by subclassing `collections.UserList` and adding two attributes and some methods.\n",
    "Then `multi_index`, `bond`, and `quanta` are subclasses of `index` and they \n",
    "enforce some restrictions of the types of elements and attributes in the index.\n",
    "Separately, the `site` type is a collection of a `np.ndarray` with `ndim=2` and \n",
    "a `multi_index` of two `multi_index`es representing the row and column indices. \n",
    "The `site` implements SVD, contraction, and sorting operations on the matrix indices. \n",
    "Then the `train` type is a `UserList` of `site`s with methods to manipulate these.\n",
    "Lastly, `mps` and `mpo` are subclasses of `train` with particular methods.\n",
    "\n",
    "I'll also mention that preserving the topology of the network (i.e. pointers between sites)\n",
    "during operations which involve not in-place operations such as contractions\n",
    "requires a bit of wizardry to keep the references altogether.\n",
    "The process behaves a fair bit like DNA replication.\n",
    "\n",
    "![replication](https://upload.wikimedia.org/wikipedia/commons/thumb/1/18/Eukaryotic_DNA_replication.svg/800px-Eukaryotic_DNA_replication.svg.pnghttps://upload.wikimedia.org/wikipedia/commons/thumb/1/18/Eukaryotic_DNA_replication.svg/800px-Eukaryotic_DNA_replication.svg.png)\n",
    "\n",
    "I only implemented some things this way because the `deepcopy` function in the `copy` module apparently knows how to do this correctly.\n",
    "\n",
    "By the way, the module I wrote is neither complete nor robust.\n",
    "You cannot yet compose things as I had hoped for, but hopefully\n",
    "time evolution should work reliably"
   ]
  },
  {
   "cell_type": "markdown",
   "id": "90e9e0b3-5ab5-4321-9ec1-4fec367824ca",
   "metadata": {},
   "source": [
    "### Direct's approach\n",
    "\n",
    "We will apply the gates in the Hamiltonian directly, which necessitates\n",
    "regrouping the physical indices into sites which match the gates.\n",
    "\n",
    "We will first exponentiate each group in the Hamiltonian"
   ]
  },
  {
   "cell_type": "code",
   "execution_count": null,
   "id": "36cadfed-9fed-4b42-a7a0-6ec978577117",
   "metadata": {},
   "outputs": [],
   "source": [
    "# Construct propagators\n",
    "def build_propagators (L, d, δτ, H_field, H_odd, H_even):\n",
    "    \"\"\"Exponentiate each non-commuting piece of the Hamiltonian\"\"\"\n",
    "    U_field = tensor.mpo(L=L, d=d)\n",
    "    for i, e in enumerate(H_field):\n",
    "        U_field.set_local_oper(expm(-δτ * e[0].mat), i+1)\n",
    "    U_odd = tensor.mpo(L=L, d=d)\n",
    "    for i, e in enumerate(H_odd):\n",
    "        U_odd.set_local_oper(\n",
    "            expm(-δτ * np.kron(e[1].mat, e[0].mat)),\n",
    "            2 * i + 1\n",
    "        )\n",
    "    U_even = tensor.mpo(L=L, d=d)\n",
    "    for i, e in enumerate(H_even):\n",
    "        U_even.set_local_oper(\n",
    "            expm(-δτ * np.kron(e[1].mat, e[0].mat)),\n",
    "            2 * (i + 1)\n",
    "        )\n",
    "    return (U_field, U_odd, U_even)"
   ]
  },
  {
   "cell_type": "markdown",
   "id": "8f0e0e61-e3e7-4a06-9f50-ef986b5d7b8c",
   "metadata": {},
   "source": [
    "Let's evolve imaginary time"
   ]
  },
  {
   "cell_type": "code",
   "execution_count": null,
   "id": "6ab7acd2-61e5-4822-bd09-06c6aa43fe31",
   "metadata": {},
   "outputs": [],
   "source": [
    "L  = 12\n",
    "d  = 2\n",
    "hx = 1.05\n",
    "hz = 0.5\n",
    "δτ = 0.1"
   ]
  },
  {
   "cell_type": "code",
   "execution_count": null,
   "id": "7c14eb3f-6f52-4b9f-a33b-11f08df8178a",
   "metadata": {
    "tags": []
   },
   "outputs": [],
   "source": [
    "%%time\n",
    "# States\n",
    "wave = deepcopy(ψ)\n",
    "cave = deepcopy(ϕ)\n",
    "# Max rank\n",
    "chi = 16\n",
    "# Operators\n",
    "H_field, H_odd, H_even, H_full = build_pieces_of_H(L=L, d=d, hx=hx, hz=hz)\n",
    "U_field, U_odd, U_even = build_propagators(\n",
    "    L=L, d=d, δτ=δτ, H_field=H_field, H_odd=H_odd, H_even=H_even\n",
    ")\n",
    "# Results\n",
    "ψ_energies = [sum(e.expval(wave) for e in H_full)]\n",
    "ϕ_energies = [sum(e.expval(cave) for e in H_full)]\n",
    "# TEBD pattern\n",
    "Nstp = 10\n",
    "for _ in range(Nstp):\n",
    "    for e in [U_field, U_even, U_odd]:\n",
    "        e.oper(wave, inplace=True)\n",
    "    wave.canonize(center=-1)\n",
    "    wave.trim_bonds(chi)\n",
    "    wave.normalize()\n",
    "    ψ_energies.append(sum(e.expval(wave) for e in H_full))\n",
    "for _ in range(Nstp):\n",
    "    for e in [U_field, U_even, U_odd]:\n",
    "        e.oper(cave, inplace=True)\n",
    "    cave.canonize(center=-1)\n",
    "#     cave.trim_bonds(chi)\n",
    "    cave.normalize()\n",
    "    ϕ_energies.append(sum(e.expval(cave) for e in H_full))"
   ]
  },
  {
   "cell_type": "code",
   "execution_count": null,
   "id": "8990b9ea-135c-4b0d-be49-2d62420f718a",
   "metadata": {},
   "outputs": [],
   "source": [
    "# Hamiltonian system: energy should be conserved\n",
    "plt.plot(ψ_energies, label='$\\psi$')\n",
    "plt.plot(ϕ_energies, label='$\\phi$')\n",
    "plt.xlabel(f'Number of imaginary time steps at size {δτ}')\n",
    "plt.ylabel('Expectation value of Hamiltonian')\n",
    "plt.legend()\n",
    "plt.show()"
   ]
  },
  {
   "cell_type": "markdown",
   "id": "9197af0d-8897-4634-9685-31b1e982895b",
   "metadata": {},
   "source": [
    "Simulation worked! The states are loosing energy and \n",
    "We'll come back to this after the next section to do some physics."
   ]
  },
  {
   "cell_type": "markdown",
   "id": "2805ae93-b0d8-4d79-9fc3-8146500cc53b",
   "metadata": {
    "tags": []
   },
   "source": [
    "### MPO approach\n",
    "\n",
    "Here I outline the approach I described that was relayed to me by Gil.\n",
    "There is also an excellent explanation of this on the Tensor Network website.\n",
    "\n",
    "Start by taking the set of operators, splitting them, stacking them.\n",
    "Then do TEBD my applying the stacked operator.\n",
    "Potentially the bond dimension is larger than in the other case,\n",
    "but analytically it should be the same."
   ]
  },
  {
   "cell_type": "code",
   "execution_count": null,
   "id": "3a573e48-678e-48ab-91fa-a67f443dbadb",
   "metadata": {},
   "outputs": [],
   "source": [
    "U_field.split_quanta(-1)\n",
    "U_odd.split_quanta(-1)\n",
    "U_even.split_quanta(-1)\n",
    "U_full = U_field.oper(U_odd.oper(U_even))"
   ]
  },
  {
   "cell_type": "markdown",
   "id": "98d21c6d-f20f-409c-bdd7-18faee75b5cb",
   "metadata": {},
   "source": [
    "Well, debugging is hard, and that looks like a bond reference failed to update.\n",
    "This means my `mpo.oper` method that I use on `mps` types doesn't generalize\n",
    "to `mpo` types. I thought I should write a generic function on `train` types, but \n",
    "it doesn't seem necessary."
   ]
  },
  {
   "cell_type": "markdown",
   "id": "1e008081-d4a6-4015-a1e8-945e78de602f",
   "metadata": {},
   "source": [
    "## Convergence to ground state\n",
    "\n",
    "We will study the convergence to the ground state of the MPS wavefunction of $\\ket{\\psi}$ for system sizes $L=12, 32, 64, 128$.\n",
    "For larger systems, we will "
   ]
  },
  {
   "cell_type": "markdown",
   "id": "b3b123fe-1a7d-4f44-997c-e4736311ec7e",
   "metadata": {},
   "source": [
    "### Comparing to ED\n",
    "\n",
    "Let's setup a quick calculation for the ground state energy at the small\n",
    "system using a spare eigensolver and our exact methods from earlier in the course."
   ]
  },
  {
   "cell_type": "code",
   "execution_count": null,
   "id": "aa20fa8d-b4f0-4af3-b35b-ec5d4227041f",
   "metadata": {},
   "outputs": [],
   "source": [
    "%time Eₒ = eigsh(models.tfim_z.H_oper(L, hx, 'o', hz), k=1, return_eigenvectors=False)[0]"
   ]
  },
  {
   "cell_type": "code",
   "execution_count": null,
   "id": "502685d6-bb93-461c-8cde-3502274547a8",
   "metadata": {},
   "outputs": [],
   "source": [
    "Eₒ"
   ]
  },
  {
   "cell_type": "markdown",
   "id": "29206d73-0367-45ee-8cc7-d0a857bcf683",
   "metadata": {},
   "source": [
    "Well, that was quick (thank you Fortran) and seems really close to the\n",
    "minimum reached by our earlier time evolution.\n",
    "We'll do the same run this time except by truncating the simulation\n",
    "when it converges to within 0.1% of its previous value"
   ]
  },
  {
   "cell_type": "markdown",
   "id": "5f86d3ad-031d-4872-9195-a1e03030924c",
   "metadata": {},
   "source": [
    "### Larger system sizes\n",
    "\n",
    "Let's boost to a larger systems and compute their approximate ground states.\n",
    "We can measure correlation functions in these ground states and\n",
    "compare their energies.\n",
    "We will not be measuring their energies at each time step, but only every\n",
    "10 time steps to reduce the computational cost"
   ]
  },
  {
   "cell_type": "markdown",
   "id": "3e82f99b-a79c-4d12-b92f-9c7330d63427",
   "metadata": {},
   "source": [
    "## a Néel-ing\n",
    "\n",
    "Let's see the convergence to the ground state of an alternating spin chain.\n",
    "\n",
    "\\begin{align}\n",
    "    \\ket{\\psi (t=0)}\n",
    "        &= \\ket{\\uparrow} \\otimes \\ket{\\downarrow} \\otimes \\cdots\n",
    "    .\n",
    "\\end{align}"
   ]
  },
  {
   "cell_type": "code",
   "execution_count": null,
   "id": "ce440d7a-5cc5-460b-bd28-ee1e91f2b5f2",
   "metadata": {},
   "outputs": [],
   "source": [
    "assert (L % 2 == 0)\n",
    "ρ = tensor.mps(L=L, d=d)\n",
    "wave = []\n",
    "for i in range(L // 2):\n",
    "    wave.append(up)\n",
    "    wave.append(down)\n",
    "ρ.from_arr(wave, center=-1)    "
   ]
  },
  {
   "cell_type": "markdown",
   "id": "b7c3c8c6-896e-4b4a-b24a-fa5d7ea835be",
   "metadata": {},
   "source": [
    "## Extra reading\n",
    "\n",
    "You might also be interested in reading\n",
    "- [Feynman on simulation](https://link.springer.com/article/10.1007/BF02650179)\n",
    "- [Quantum computation by a Caltech sophomore](https://arxiv.org/abs/2103.12783)"
   ]
  },
  {
   "cell_type": "code",
   "execution_count": null,
   "id": "01a2276d-2a23-4d69-a78e-2f1433bfb3fa",
   "metadata": {},
   "outputs": [],
   "source": []
  }
 ],
 "metadata": {
  "kernelspec": {
   "display_name": "Python 3",
   "language": "python",
   "name": "python3"
  },
  "language_info": {
   "codemirror_mode": {
    "name": "ipython",
    "version": 3
   },
   "file_extension": ".py",
   "mimetype": "text/x-python",
   "name": "python",
   "nbconvert_exporter": "python",
   "pygments_lexer": "ipython3",
   "version": "3.7.9"
  }
 },
 "nbformat": 4,
 "nbformat_minor": 5
}
