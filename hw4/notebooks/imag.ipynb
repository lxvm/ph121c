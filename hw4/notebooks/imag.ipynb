{
 "cells": [
  {
   "cell_type": "markdown",
   "id": "da8f854c-9476-4a6f-a806-b34533a5b9d8",
   "metadata": {},
   "source": [
    "# Imaginary time evolution\n",
    "\n",
    "$\n",
    "\\require{physics}\n",
    "\\def\\bm{\\boldsymbol}\n",
    "$"
   ]
  },
  {
   "cell_type": "code",
   "execution_count": null,
   "id": "84ccf9de-4ed9-4714-9a46-a06720a4a549",
   "metadata": {},
   "outputs": [],
   "source": [
    "import numpy as np\n",
    "from scipy.linalg import expm\n",
    "\n",
    "from ph121c_lxvm import tensor, models"
   ]
  },
  {
   "cell_type": "markdown",
   "id": "29ccc98c-0dec-459e-ab68-8805b82ff268",
   "metadata": {},
   "source": [
    "## What we are doing\n",
    "\n",
    "In this assignment there will be simulations of the dynamics of quantum systems\n",
    "with local Hamiltonians in the matrix product state (MPS) representation.\n",
    "This will be via the Time Evolving Block Decimation (TEBD) algorithm.\n",
    "\n",
    "If you're like me and you're learning this for the first time, I looked for help\n",
    "on the topic and have created this brief collection of learning materials:\n",
    "\n",
    "- [Vidal's exposition of TEBD (2004)](https://arxiv.org/abs/quant-ph/0310089)\n",
    "- [Tensor Network TEBD](https://tensornetwork.org/mps/algorithms/timeevo/tebd.html)\n",
    "- [TeNPy (see `literature` for more)](https://tenpy.github.io/index.html)\n",
    "- [Help with tensor networks](https://www.tensors.net/)\n",
    "- [White's exposition of DMRG (1992)](https://doi.org/10.1103/PhysRevLett.69.2863)"
   ]
  },
  {
   "cell_type": "markdown",
   "id": "92913fd2-5892-4472-94bd-e7de9d543d25",
   "metadata": {},
   "source": [
    "## Overview\n",
    "\n",
    "In TEBD, we are interested in applying a propagator $U(t)$ to evolve a quantum\n",
    "state. In this section, we will use imaginary time evolution of the Hamiltonian:\n",
    "$$ U(\\tau) = e^{H \\tau}, $$\n",
    "but next section we will consider real time evolution:\n",
    "$$ U(t) = e^{-i H t}. $$\n",
    "We will use the following TFIM Hamiltonian with open boundary conditions\n",
    "parametrized by $h^x, h^z$:\n",
    "$$\n",
    "    H = \n",
    "        -\\sum_{i=1}^{L-1} \\sigma_i^z \\sigma_{i+1}^z\n",
    "        -h^x \\sum_{i=1}^L \\sigma_i^x \n",
    "        -h^z \\sum_{i=1}^L \\sigma_i^z \n",
    "    .\n",
    "$$\n",
    "Because the Hamiltonian is 2-local, we can group its terms:\n",
    "\\begin{align}\n",
    "    H &=\n",
    "        -\\left( \\sum_{i=1}^L h^x \\sigma_i^x + h^z \\sigma_i^z \\right)\n",
    "        - \\left( \\sum_{i=1}^{L // 2} \\sigma_{2i - 1}^z \\sigma_{2i}^z \\right)\n",
    "        - \\left( \\sum_{i=1}^{L // 2-1+L\\%2} \\sigma_{2i}^z \\sigma_{2i+1}^z \\right)\n",
    "    \\\\\\\\\n",
    "        &= H_1 + H_2^\\text{even} + H_2^\\text{odd}\n",
    "        .\n",
    "\\end{align}\n",
    "Now all of the terms in each group commute, but the groups themselves may not.\n",
    "The Zassenhaus formula [(proven here)](https://doi.org/10.1002/cpa.3160070404)\n",
    "allows a separation of $U(t)$ into a product of matrix exponentials of these\n",
    "local terms, grouped in powers of $t$.\n",
    "The formula tells us that the lowest order of $t$ in the exponent is given by:\n",
    "$$\n",
    "    U(\\tau) =\n",
    "    e^{H_1 \\tau} e^{H_2^\\text{even} \\tau} e^{H_2^\\text{odd} \\tau}\n",
    "    e^{\\mathcal O (\\tau^2)}\n",
    "    .\n",
    "$$\n",
    "Note: the Zassenhaus formula looks like the Baker-Campbell-Hausdorff formula,\n",
    "but they group terms differently. The former groups terms in powers of $t$, and\n",
    "thus lends itself to perturbative approximations.\n",
    "\n",
    "A corollary of the Zassenhaus formula is the Lie product formula:\n",
    "$$\n",
    "    e^{A + B} = \\lim_{N \\to \\infty} \\left( e^{A/N} e^{B/N} \\right)^N\n",
    "    .\n",
    "$$\n",
    "In fact, this result was known as early as 1893 by Sophus Lie, the namesake of\n",
    "Lie algebras! Their work is published in ISBN 0828402329 and on the\n",
    "[web](https://archive.org/details/theoriedertrans00liegoog?ref=ol&view=theater).\n",
    "Thus for some finite $N$, we will are in a good position to make the \n",
    "[Suzuki](https://aip.scitation.org/doi/abs/10.1063/1.529425)-[Trotter\n",
    "](https://doi.org/10.1090/S0002-9939-1959-0108732-6) decomposition\n",
    "which provides an approximation of the time-evolution operator over a discrete\n",
    "number of time steps:\n",
    "$$\n",
    "    U(\\tau) \\approx\n",
    "        \\left(\n",
    "        e^{H_1 \\tau/N} e^{H_2^\\text{even} \\tau/N} e^{H_2^\\text{odd} \\tau/N}\n",
    "        \\right)^N\n",
    "    .\n",
    "$$\n",
    "This provides yet another example of how mathematicians have explored areas\n",
    "relevant to physics more than a century before their emergence.\n",
    "\n",
    "In practice, **this is how we will simulate time evolution of quantum systems**\n",
    "on both classical computers (using the MPS representation) _and_ on quantum\n",
    "computers by applying the gates on qudits in the same fashion as on the tensor\n",
    "network. For higher-order Suzuki-Trotter decompositions,\n",
    "[read this (cited by Vitali)](https://arxiv.org/abs/quant-ph/9809009)."
   ]
  },
  {
   "cell_type": "markdown",
   "id": "12ff375b-7fbe-4ec8-bd1e-e4bc283f97b4",
   "metadata": {},
   "source": [
    "## Matrix calculus\n",
    "\n",
    "I haven't given you enough details yet to apply this to a tensor network!\n",
    "I haven't exponentiated matrices that can be written as Kronecker products.\n",
    "\n",
    "In general, matrix exponentials can be calculated in terms of diagonalizing a\n",
    "matrix and exponentiating its eigenvalues, or by a power-series representation.\n",
    "For a review of matrix exponentials, see these [course notes written by my summer\n",
    "research mentor](https://web.mit.edu/18.06/www/Spring17/Matrix-Exponentials.pdf),\n",
    "or this [paper on many ways of calculating the matrix exponential\n",
    "](http://www.cs.cornell.edu/cvResearchPDF/19ways+.pdf).\n",
    "\n",
    "My questions about Kronecker products and matrix exponentials center around\n",
    "whether the operations commute: for 1-site operators, 2-site operators?\n",
    "Let's begin"
   ]
  },
  {
   "cell_type": "code",
   "execution_count": null,
   "id": "29f0767a-10fe-4c98-a05f-bb924423bc9b",
   "metadata": {},
   "outputs": [],
   "source": [
    "sx = np.array([[0, 1], [1, 0]])\n",
    "sy = np.array([[0, -1j], [1j, 0]])\n",
    "sz = np.diag([1, -1])"
   ]
  },
  {
   "cell_type": "markdown",
   "id": "580732cf-5f94-4782-baee-dd105617d55a",
   "metadata": {},
   "source": [
    "### Two sites\n",
    "For the diagonal matrix $\\sigma^z$ we shall see that the matrix exponential and\n",
    "Kronecker product do not commute for a 2-site operator:"
   ]
  },
  {
   "cell_type": "code",
   "execution_count": null,
   "id": "e3033880-6855-4f02-8c3f-4cfbd9c0b4af",
   "metadata": {},
   "outputs": [],
   "source": [
    "expm(np.kron(sz, sz))"
   ]
  },
  {
   "cell_type": "code",
   "execution_count": null,
   "id": "42d26486-160a-4735-bcd0-de315e57d651",
   "metadata": {},
   "outputs": [],
   "source": [
    "np.kron(expm(sz), expm(sz))"
   ]
  },
  {
   "cell_type": "markdown",
   "id": "64fab7fa-d924-4af3-9955-7c9d1622a5bc",
   "metadata": {},
   "source": [
    "Not the same! This means we actually have to exponentiate the matrix, which for\n",
    "a diagonal matrix is equivalent to exponentiating the diagonal:"
   ]
  },
  {
   "cell_type": "code",
   "execution_count": null,
   "id": "4acbd4c5-307b-469d-8ec3-e7e1689bbfc1",
   "metadata": {},
   "outputs": [],
   "source": [
    "np.exp(np.diag(np.kron(sz, sz)))"
   ]
  },
  {
   "cell_type": "markdown",
   "id": "2ee0be13-f441-481b-9f90-ea79e8cb3c22",
   "metadata": {},
   "source": [
    "The consequence for MPS is that this is not possible to represent as a one-site\n",
    "operator, so we will have to contract a virtual index before applying this\n",
    "transformation directly. (After, we will again do an SVD to return to MPS form).\n",
    "\n",
    "We _could_ represent the matrix product operator as acting on individual sites\n",
    "if we take an SVD of it and disaggregating the physical indicies by introducing\n",
    "a virtual index. This option might not be viable for diagonal matrices with\n",
    "large coefficients (maybe better for random unitaries):"
   ]
  },
  {
   "cell_type": "code",
   "execution_count": null,
   "id": "3bc0264a-4a26-4511-a28d-245d8b02aa18",
   "metadata": {},
   "outputs": [],
   "source": [
    "np.linalg.svd(expm(np.kron(sz, sz)))"
   ]
  },
  {
   "cell_type": "markdown",
   "id": "9a6cdab0-b46c-45a8-a025-247505366bc0",
   "metadata": {},
   "source": [
    "That is, if we can write the elements of a 2-site operator $U(t)$ as\n",
    "$U_{\\sigma'_i \\sigma'_{i+1}}^{\\sigma_i \\sigma_{i+1}}$, then we should reshape\n",
    "the matrix so that $U_{\\sigma'_i \\sigma_i}^{\\sigma'_{i+1} \\sigma_{i+1}}$\n",
    "groups the physical indices by the site. Then we should do an SVD on this matrix\n",
    "which will introduce a virtual index $\\alpha$, leading to:\n",
    "$$\n",
    "    U_{\\sigma'_i \\sigma_i}^{\\sigma'_{i+1} \\sigma_{i+1}}\n",
    "        = \\sum_\\alpha U_{\\sigma'_i \\sigma_i}^\\alpha\n",
    "        S_\\alpha^\\alpha (V^\\dagger)_{\\alpha}^{\\sigma'_{i+1} \\sigma_{i+1}}\n",
    "    .\n",
    "$$\n",
    "We should then reshape\n",
    "$U_{\\sigma'_i \\sigma_i}^\\alpha \\to U_{\\sigma'_i}^{\\sigma_i \\alpha}$ and\n",
    "$(V^\\dagger)_{\\alpha}^{\\sigma'_{i+1} \\sigma_{i+1}}\n",
    "\\to (V^\\dagger)_{\\alpha \\sigma'_{i+1}}^{\\sigma_{i+1}}$\n",
    "so that we can apply these operators to the physical indices as a matrix\n",
    "multiplication."
   ]
  },
  {
   "cell_type": "markdown",
   "id": "3f747e8e-e43d-4430-bc46-ec21711e58d2",
   "metadata": {},
   "source": [
    "### One site\n",
    "\n",
    "#### Diagonal matrix\n",
    "\n",
    "We shall see that for a 1-site operator, the matrix exponential commutes with\n",
    "a Kronecker product by the identity:"
   ]
  },
  {
   "cell_type": "code",
   "execution_count": null,
   "id": "9f1446d2-a133-4fc9-8f51-b0971f16eefd",
   "metadata": {},
   "outputs": [],
   "source": [
    "expm(np.kron(np.eye(2), sz))"
   ]
  },
  {
   "cell_type": "code",
   "execution_count": null,
   "id": "16ec672f-840e-494a-8af6-29f5b0f8bada",
   "metadata": {},
   "outputs": [],
   "source": [
    "np.kron(np.eye(2), expm(sz))"
   ]
  },
  {
   "cell_type": "markdown",
   "id": "8d241c7e-c2d9-4db8-8350-d55fa34eca44",
   "metadata": {},
   "source": [
    "#### Non-diagonal matrix\n",
    "\n",
    "For the off-diagonal matrix $\\sigma^x$, the operations still commute across\n",
    "Kronecker products with the identity:"
   ]
  },
  {
   "cell_type": "code",
   "execution_count": null,
   "id": "ba9faa5e-735a-4c5e-be6b-f5d112916a6c",
   "metadata": {},
   "outputs": [],
   "source": [
    "expm(np.kron(np.eye(2), sx))"
   ]
  },
  {
   "cell_type": "code",
   "execution_count": null,
   "id": "59a44693-f35e-4e39-a22a-26533ff838c2",
   "metadata": {},
   "outputs": [],
   "source": [
    "np.kron(np.eye(2), expm(sx))"
   ]
  },
  {
   "cell_type": "markdown",
   "id": "2ccd518f-5a4e-43ff-b2a1-9c87d6e66061",
   "metadata": {},
   "source": [
    "All in all, this means we can time-evolve local operators efficiently by\n",
    "calculating their matrix exponentials locally.\n",
    "\n",
    "Since in fact $\\sigma^x$ is related to $\\sigma^z$ by a Hadamard rotation. $T$,\n",
    "we can compute:\n",
    "$$\n",
    "    \\exp(\\phi \\sigma^x)\n",
    "        = \\exp(\\phi T \\sigma^z T)\n",
    "        = T \\exp(\\phi \\sigma^z) T\n",
    "    .\n",
    "$$\n",
    "Let's demonstrate:"
   ]
  },
  {
   "cell_type": "code",
   "execution_count": null,
   "id": "d5d5b1b4-85fb-4f82-8fad-cdf5aae037df",
   "metadata": {},
   "outputs": [],
   "source": [
    "hd = np.array([[1, 1], [1, -1]]) * np.sqrt(0.5)"
   ]
  },
  {
   "cell_type": "code",
   "execution_count": null,
   "id": "7819d8cd-a6ad-4f03-8495-ae4ed3e11b35",
   "metadata": {},
   "outputs": [],
   "source": [
    "expm(sx)"
   ]
  },
  {
   "cell_type": "code",
   "execution_count": null,
   "id": "fd620527-8642-4de8-b593-591e67b72e05",
   "metadata": {},
   "outputs": [],
   "source": [
    "expm(hd @ sz @ hd)"
   ]
  },
  {
   "cell_type": "code",
   "execution_count": null,
   "id": "1619735e-de6c-4ddc-a0cb-3f6772e3471b",
   "metadata": {},
   "outputs": [],
   "source": [
    "hd @ expm(sz) @ hd"
   ]
  },
  {
   "cell_type": "markdown",
   "id": "07387405-b9e3-4823-b733-3eb5d37d04b9",
   "metadata": {},
   "source": [
    "We might prefer to use the result in the assignment that for a 1-site operator:\n",
    "$$\n",
    "    \\exp(i t \\bm n \\cdot \\bm \\sigma)\n",
    "        = \\cos(t) + i \\sin(t) \\bm n \\cdot \\bm \\sigma\n",
    "    .\n",
    "$$\n",
    "For imaginary time evolution:\n",
    "$$\n",
    "    \\exp(\\tau \\bm n \\cdot \\bm \\sigma)\n",
    "        = \\cos(-i \\tau) + i \\sin(-i \\tau) \\bm n \\cdot \\bm \\sigma\n",
    "        = \\cosh(\\tau) + \\sinh(\\tau) \\bm n \\cdot \\bm \\sigma\n",
    "    .\n",
    "$$"
   ]
  },
  {
   "cell_type": "markdown",
   "id": "0d24926d-d827-4f75-867f-423cd4880fbd",
   "metadata": {},
   "source": [
    "## Action\n",
    "\n",
    "At this stage, I have layed out the Suzuki-Trotter decomposition as well as how\n",
    "to represent the gates within each term, so we can go ahead and do TEBD.\n",
    "We are told to evolve a ferromagnetic state:\n",
    "$$\n",
    "    \\ket{\\psi (t=0)}\n",
    "        = \\ket{\\downarrow} \\otimes \\cdots \\otimes \\ket{\\downarrow}\n",
    "    .\n",
    "$$"
   ]
  },
  {
   "cell_type": "code",
   "execution_count": null,
   "id": "f34cc913-d739-45b5-912e-1e47e6eefb77",
   "metadata": {},
   "outputs": [],
   "source": [
    "# Define components of Hamiltonian\n",
    "L  = 6\n",
    "d  = 2\n",
    "hx = 1.05\n",
    "hz = 0.5\n",
    "sx = np.diag([1, 1])[::-1]\n",
    "sz = np.diag([1,-1])"
   ]
  },
  {
   "cell_type": "code",
   "execution_count": null,
   "id": "4ae49a95-d021-494a-9784-099d123cbb7a",
   "metadata": {},
   "outputs": [],
   "source": [
    "down = np.array([1, 0], dtype='float64')\n",
    "up   = down[::-1]\n",
    "# build wavefunction in computational basis\n",
    "psic = 1\n",
    "for _ in range(L):\n",
    "    psic = np.kron(psic, down)\n",
    "phic = 1\n",
    "for _ in range(L):\n",
    "    phic = np.kron(phic, up)\n",
    "\n",
    "# build wavefunction in MPS representation\n",
    "psim = np.empty(L, dtype='O')\n",
    "for i in range(psim.size):\n",
    "    psim[i] = down[:, None]\n",
    "phim = np.empty(L, dtype='O')\n",
    "for i in range(phim.size):\n",
    "    phim[i] = up[:, None]\n",
    "\n",
    "# store as MPS object\n",
    "psi = tensor.mps(psic, tensor.bond_rank(1, L, d), L, d, A=psim)\n",
    "phi = tensor.mps(phic, tensor.bond_rank(1, L, d), L, d, A=phim)"
   ]
  },
  {
   "cell_type": "markdown",
   "id": "d40e8193-28bb-4ef6-8676-6cb59609bd4a",
   "metadata": {},
   "source": [
    "We are asked to calculate the energy of this state which requires a Hamiltonian."
   ]
  },
  {
   "cell_type": "code",
   "execution_count": null,
   "id": "bb197350-c29b-4b27-855b-22a87b8b1592",
   "metadata": {},
   "outputs": [],
   "source": [
    "# Build pieces of Hamiltonian\n",
    "H_field = np.empty(L, dtype='O')\n",
    "for i in range(H_field.size):\n",
    "    H_field[i] = tensor.mpo(L, d)\n",
    "    H_field[i][i] = -(hx * sx + hz * sz)\n",
    "H_even = np.empty(L//2, dtype='O')\n",
    "for i in range(H_even.size):\n",
    "    H_even[i] = tensor.mpo(L, d)\n",
    "    H_even[i][2*i] = -sz\n",
    "    H_even[i][2*i+1] = sz\n",
    "H_odd = np.empty(L//2 - 1 + L%2, dtype='O')\n",
    "for i in range(H_odd.size):\n",
    "    H_odd[i] = tensor.mpo(L, d)\n",
    "    H_odd[i][2*i + 1] = -sz\n",
    "    H_odd[i][2*(i+1)] = sz\n",
    "H_full = np.array([*H_field, *H_even, *H_odd], dtype='O')"
   ]
  },
  {
   "cell_type": "code",
   "execution_count": null,
   "id": "03f091fe-febc-464f-87ad-2c4a482f6e35",
   "metadata": {},
   "outputs": [],
   "source": [
    "sum(psi.expval(e) for e in H_full)"
   ]
  },
  {
   "cell_type": "code",
   "execution_count": null,
   "id": "0209d856-1304-4500-99b1-cd341e548685",
   "metadata": {},
   "outputs": [],
   "source": [
    "sum(phi.expval(e) for e in H_full)"
   ]
  },
  {
   "cell_type": "code",
   "execution_count": null,
   "id": "f2f1fb28-d703-4784-985a-3fdfe28fbfb8",
   "metadata": {},
   "outputs": [],
   "source": [
    "np.inner(psic, models.tfim_z.H_vec(psic, L, hx, 'o', hz))"
   ]
  },
  {
   "cell_type": "code",
   "execution_count": null,
   "id": "60e347c0-5f9d-42ba-84e3-c63d45b8b41e",
   "metadata": {},
   "outputs": [],
   "source": [
    "np.inner(phic, models.tfim_z.H_vec(phic, L, hx, 'o', hz))"
   ]
  },
  {
   "cell_type": "markdown",
   "id": "90e9e0b3-5ab5-4321-9ec1-4fec367824ca",
   "metadata": {},
   "source": [
    "### Brenden's approach\n",
    "\n",
    "This is Brenden's approach, which seems to have the property of contracting a\n",
    "bond index first, which will probably save storage because it only applies gates\n",
    "to the physical indices that have no bond indices themselves.\n",
    "\n",
    "We will first exponentiate each group in the Hamiltonian"
   ]
  },
  {
   "cell_type": "code",
   "execution_count": null,
   "id": "f81b3a54-797a-4ffc-94d8-81e2f7ccbc27",
   "metadata": {},
   "outputs": [],
   "source": [
    "dtau = 0.001\n",
    "\n",
    "# Verify formula\n",
    "hn = np.sqrt(hx ** 2 + hz ** 2)\n",
    "np.allclose(\n",
    "    expm(dtau * -(hx * sx + hz * sz)),\n",
    "    np.cosh(dtau * hn) * np.eye(d) - np.sinh(dtau * hn) * (hx * sx + hz * sz) / hn\n",
    ")"
   ]
  },
  {
   "cell_type": "code",
   "execution_count": null,
   "id": "36cadfed-9fed-4b42-a7a0-6ec978577117",
   "metadata": {},
   "outputs": [],
   "source": [
    "# Construct propagators\n",
    "U_field = tensor.mpo(L, d)\n",
    "for i, e in enumerate(H_field):\n",
    "    U_field[i] = expm(dtau*e[i])\n",
    "    \n",
    "U_even = np.empty(L//2 + L%2, dtype='O')\n",
    "for i, e in enumerate(H_even):\n",
    "    U_even[i] = expm(np.kron(*[o for o in e if isinstance(o, np.ndarray)]))\n",
    "\n",
    "U_odd = np.empty(L//2 + 1 - L%2, dtype='O')\n",
    "for i, e in enumerate(H_odd):\n",
    "    U_odd[i+1] = expm(np.kron(*[o for o in e if isinstance(o, np.ndarray)]))"
   ]
  },
  {
   "cell_type": "code",
   "execution_count": null,
   "id": "7c14eb3f-6f52-4b9f-a33b-11f08df8178a",
   "metadata": {},
   "outputs": [],
   "source": [
    "# choose max rank\n",
    "chi_max = 5\n",
    "rank = tensor.bond_rank(chi_max, L, d)\n",
    "# init\n",
    "Nstp = 100\n",
    "energies = np.empty(Nstp + 1, dtype='float64')\n",
    "energies[0] = sum(phi.expval(e) for e in H_full)\n",
    "step = [ e for e in phim ]\n",
    "# TEBD pattern\n",
    "for j in range(Nstp):\n",
    "    ## Apply 1-local field terms\n",
    "    for i, e in enumerate(U_field):\n",
    "        if i == 0:\n",
    "            prev_bond_dim = 1\n",
    "        else:\n",
    "            prev_bond_dim = step[i-1].shape[1]\n",
    "        step[i] = np.kron(e, np.eye(prev_bond_dim)) @ step[i]\n",
    "    # let a, b, c be bond indices and d the physical index\n",
    "    new = []\n",
    "    ### contract odd bond indices and apply odd operators\n",
    "    iterator = enumerate(step)\n",
    "    iterbtor = iter(U_odd)\n",
    "    for i, e in iterator:\n",
    "        if ((i > 0) and (i + 2 < L)):\n",
    "            if i == 0:\n",
    "                prev_bond_dim = 1\n",
    "            else:\n",
    "                prev_bond_dim = step[i-1].shape[1]\n",
    "            new.append(\n",
    "                # apply odd operator to (dd) index\n",
    "                (np.kron(next(iterbtor), np.eye(prev_bond_dim))\n",
    "                # Contract bond index: (ad, b), (bd, c) -> (add, c)\n",
    "                @ (np.kron(np.eye(d), step[i]) @ step[i+1])).reshape(\n",
    "                # regroup physical indices by row/column: (add,c) -> (ad, dc)\n",
    "                    (step[i].shape[0], d*step[i+1].shape[1]), order='F'\n",
    "                )\n",
    "            )\n",
    "            next(iterator)\n",
    "        else:\n",
    "            new.append(step[i])\n",
    "            next(iterbtor)\n",
    "    ### svd on regrouped indices to separate physical indices\n",
    "    rep = []\n",
    "    for i, e in enumerate(new):\n",
    "        if ((i > 0) and (2*i + 1 < L)):\n",
    "            # separate physical indices by a bond: (ad, dc) -> (ad, b), (b, dc)\n",
    "            u,s,vh= np.linalg.svd(e, full_matrices=False)\n",
    "            # use left-canonical form\n",
    "            rep.append(u)\n",
    "            # send a physical index to the row index (b, dc) -> (bd, c)\n",
    "            rep.append(\n",
    "                (s[:, None] * vh).reshape(\n",
    "                    (vh.shape[0]*d, vh.shape[1]//d), order='F'\n",
    "                )\n",
    "            )\n",
    "        else:\n",
    "            rep.append(e)\n",
    "    ### contract bond indices to form even pairs and apply even operator AGAIN\n",
    "    neext = []\n",
    "    iterator = enumerate(rep)\n",
    "    iterbtor = iter(U_even)\n",
    "    for i, e in iterator:\n",
    "        if ((i + 1) < len(rep)):\n",
    "            if i == 0:\n",
    "                prev_bond_dim = 1\n",
    "            else:\n",
    "                prev_bond_dim = rep[i-1].shape[1]\n",
    "            neext.append(\n",
    "                # apply even operator to (dd) index\n",
    "                (np.kron(next(iterbtor), np.eye(prev_bond_dim))\n",
    "                # contract bond index: (ad, b), (bd, c) -> (add, c)\n",
    "                @ (np.kron(np.eye(d), rep[i]) @ rep[i+1])).reshape(\n",
    "                # regroup physical indices by row/column: (add,c) -> (ad, dc)\n",
    "                    (rep[i].shape[0], d*rep[i+1].shape[1]), order='F'\n",
    "                )\n",
    "            )\n",
    "            next(iterator)\n",
    "        else:\n",
    "            neext.append(rep[i])\n",
    "            next(iterbtor)\n",
    "    ### Separate physical indices AGAIN\n",
    "    last = []\n",
    "    for i, e in enumerate(neext):\n",
    "        if (2*i + 1 < L):\n",
    "            # separate physical indices with bond indices: (ad, dc) -> (ad, b), (b, dc)\n",
    "            u,s,vh = np.linalg.svd(e, full_matrices=False)\n",
    "            # use left-canonical form\n",
    "            last.append(u)\n",
    "            # send a physical index to the row index (b, dc) -> (bd, c)\n",
    "            last.append(\n",
    "                (s[:, None] * vh).reshape(\n",
    "                    (vh.shape[0]*d, vh.shape[1]//d), order='F'\n",
    "                )\n",
    "            )\n",
    "        else:\n",
    "            last.append(e)\n",
    "    ### return to mps form, left canonical, with truncation\n",
    "    # Sweep from left to right, shifting the orthogonality center\n",
    "    for i in range(len(last) - 1):\n",
    "        # contract virtual index: (ad, b), (bd, c) -> (add, c)\n",
    "        sites = np.kron(np.eye(d), last[i]) @ last[i+1]\n",
    "        # separate physical indices by row, column: (add, c) -> (ad, dc)\n",
    "        sites = sites.reshape((sites.shape[0]//d, sites.shape[1]*d), order='F')\n",
    "        # expand virtual index (ad, dc) -> (ad, b), (b, dc)\n",
    "        u,s,vh = np.linalg.svd(sites, full_matrices=False)\n",
    "        ### TODO: truncate the shapes to arbitrary ranks\n",
    "        # move orthogonality center to the right\n",
    "        last[i] = u[:d*rank(i), :rank(i+1)]\n",
    "        # truncate here and renormalize Schmidt values\n",
    "        last[i+1] = (\n",
    "            s[:rank(i+1), None] * vh[:rank(i+1), :] / np.linalg.norm(s[:rank(i+1)])\n",
    "        )\n",
    "        # restore column physical index to row: (b, dc) -> (bd, c)\n",
    "        last[i+1] = last[i+1].reshape(\n",
    "            (last[i+1].shape[0]*d, last[i+1].shape[1]//d), order='F'\n",
    "        )\n",
    "    step = last\n",
    "    # measure energy\n",
    "    dummy = np.zeros(2**L)\n",
    "    dummy[0] = 1\n",
    "    test = tensor.mps(dummy, rank, L, d, A=step)\n",
    "    energies[j+1] = sum(test.expval(e) for e in H_full)"
   ]
  },
  {
   "cell_type": "code",
   "execution_count": null,
   "id": "b3ad1966-2baf-47e6-bdf4-e2de42125451",
   "metadata": {},
   "outputs": [],
   "source": [
    "# step\n",
    "# new\n",
    "# rep\n",
    "# neext\n",
    "# last\n",
    "# energies\n",
    "test.contract_bonds()\n",
    "# phi.contract_bonds()\n",
    "# psi.contract_bonds()"
   ]
  },
  {
   "cell_type": "markdown",
   "id": "2805ae93-b0d8-4d79-9fc3-8146500cc53b",
   "metadata": {},
   "source": [
    "### MPO approach\n",
    "\n",
    "Here we use the approach I described that was relayed to me by Gil.\n",
    "There is also an excellent explanation of this on the Tensor Ne"
   ]
  },
  {
   "cell_type": "markdown",
   "id": "b7c3c8c6-896e-4b4a-b24a-fa5d7ea835be",
   "metadata": {},
   "source": [
    "## Extra reading\n",
    "\n",
    "You might also be interested in reading\n",
    "- [Feynman on simulation](https://link.springer.com/article/10.1007/BF02650179)\n",
    "- [Quantum computation by a Caltech sophomore](https://arxiv.org/abs/2103.12783)"
   ]
  },
  {
   "cell_type": "code",
   "execution_count": null,
   "id": "525e7e5c-ba6b-441e-8f20-2be602bef57d",
   "metadata": {},
   "outputs": [],
   "source": []
  }
 ],
 "metadata": {
  "kernelspec": {
   "display_name": "Python 3",
   "language": "python",
   "name": "python3"
  },
  "language_info": {
   "codemirror_mode": {
    "name": "ipython",
    "version": 3
   },
   "file_extension": ".py",
   "mimetype": "text/x-python",
   "name": "python",
   "nbconvert_exporter": "python",
   "pygments_lexer": "ipython3",
   "version": "3.7.9"
  }
 },
 "nbformat": 4,
 "nbformat_minor": 5
}
